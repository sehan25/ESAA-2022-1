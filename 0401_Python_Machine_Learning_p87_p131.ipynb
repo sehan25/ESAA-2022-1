{
  "nbformat": 4,
  "nbformat_minor": 0,
  "metadata": {
    "colab": {
      "name": "0401 Python Machine Learning p87-p131.ipynb",
      "provenance": [],
      "authorship_tag": "ABX9TyPgxL4G5TDwjZdTrf9Bhglb",
      "include_colab_link": true
    },
    "kernelspec": {
      "name": "python3",
      "display_name": "Python 3"
    },
    "language_info": {
      "name": "python"
    }
  },
  "cells": [
    {
      "cell_type": "markdown",
      "metadata": {
        "id": "view-in-github",
        "colab_type": "text"
      },
      "source": [
        "<a href=\"https://colab.research.google.com/github/sehan25/ESSA-2022-1/blob/main/0401_Python_Machine_Learning_p87_p131.ipynb\" target=\"_parent\"><img src=\"https://colab.research.google.com/assets/colab-badge.svg\" alt=\"Open In Colab\"/></a>"
      ]
    },
    {
      "cell_type": "markdown",
      "source": [
        "## 01. 사이킷런 소개와 특징"
      ],
      "metadata": {
        "id": "yuBwaovBzLxn"
      }
    },
    {
      "cell_type": "markdown",
      "source": [
        "**사이킷런(scikit-learn)**: 파이썬 머신러닝 라이브러리 중 가장 많이 사용되는 라이브러리\n",
        "* 머신러닝을 위한 매우 다양한 알고리즘과 개발을 위한 편리한 프레임워크와 API를 제공한다.\n",
        "* 오랜 기간 실전 환경에서 검증됐으며, 매우 환경에서 사용되는 성숙한 라이브러리이다.\n"
      ],
      "metadata": {
        "id": "X1uh15Gp2asv"
      }
    },
    {
      "cell_type": "code",
      "execution_count": 1,
      "metadata": {
        "colab": {
          "base_uri": "https://localhost:8080/"
        },
        "id": "vmIudxjYxhcM",
        "outputId": "a80fffbe-0433-409c-ca01-b13f4525c629"
      },
      "outputs": [
        {
          "output_type": "stream",
          "name": "stdout",
          "text": [
            "1.0.2\n"
          ]
        }
      ],
      "source": [
        "import sklearn\n",
        "print(sklearn.__version__)"
      ]
    },
    {
      "cell_type": "markdown",
      "source": [
        "## 02. 첫 번째 머신러닝 만들어 보기 - 붓꽃 품종 예측하기\n",
        "\n",
        "    첫 번째로 만들어볼 머신러닝 모델:\n",
        "    붓꽃 데이터 세트로 붓꽃의 품종을 분류(Classification)하는 것\n",
        "\n",
        "* 붓꽃 데이터 세트: 꽃잎의 길이와 너비, 꽃받침의 길이와 너비 피처(Feature)를 기반으로 꽃의 품종을 예측하기 위한 것\n",
        "* **분류(Classification)** - 대표적인 지도학습(Supervised Learning) 방법의 하나\n",
        "    * **지도학습**: **명확한 정답이 주어진 데이터를 먼저 학습**한 뒤 **미지의 정답을 예측**하는 방식이다.\n",
        "        * 학습을 위한 다양한 피처와 분류 결정값인 레이블(Label) 데이터로 모델을 학습한 뒤, 별도의 테스트 데이터 세트에서 미지의 레이블을 예측한다.\n",
        "        * 이 때 학습을 위해 주어진 데이터 세트를 **학습 데이터 세트**, 머신러닝 모델의 예측 성능을 평가하기 위해 별도로 주어진 데이터 세트를 **테스트 데이터 세트**로 지칭한다.\n"
      ],
      "metadata": {
        "id": "xVNpHVIl3UxM"
      }
    },
    {
      "cell_type": "markdown",
      "source": [
        "1. 데이터 세트 분리: 데이터를 학습 데이터와 테스트 데이터로 분리한다.\n",
        "2. 모델 학습: 학습 데이터를 기반으로 ML 알고리즘을 적용해 모델을 학습시킨다.\n",
        "3. 예측 수행: 학습된 ML 모델을 이용해 테스트 데이터의 분류(즉, 붓꽃 종류)를 예측한다.\n",
        "4. 평가: 이렇게 예측된 결괏값과 테스트 데이터의 실제 결괏값을 비교해 ML 모델 성능을 평가한다."
      ],
      "metadata": {
        "id": "l2wsWaP5-puQ"
      }
    },
    {
      "cell_type": "markdown",
      "source": [
        "*데이터 세트 분리*\n",
        "\n",
        "***사이킷런에서 사용할 모듈을 임포트한다.***\n",
        "\n",
        "* sklearn.datasets: 사이킷런에서 자체적으로 제공하는 데이터 세트를 생성하는 모듈의 모임\n",
        "* sklearn.tree: 트리 기반 ML 알고리즘을 구현한 클래스의 모임\n",
        "* sklearn.model_selection: 학습 데이터와 검증 데이터, 예측 데이터로 데이터를 분리하거나 최적의 하이퍼 파라미터로 평가하기 위한 다양한 모듈의 모임\n",
        "    * 하이퍼 파라미터: 머신러닝 알고리즘별로 통칭하며, 하이퍼 파라미터를 통해 머신러닝 알고리즘의 성능을 튜닝할 수 있다.\n",
        "* `load_iris()`: 붓꽃 데이터를 생성하는 데 이용\n",
        "* `DecisionTreeClassifier`: 의사 결정 트리(Decision Tree) 알고리즘인 ML 알고리즘을 구현\n",
        "* `train_test_split()`: 데이터 세트를 학습 데이터와 테스트 데이터로 분리하는 데 사용"
      ],
      "metadata": {
        "id": "x7GTcd7V_IWT"
      }
    },
    {
      "cell_type": "code",
      "source": [
        "from sklearn.datasets import load_iris\n",
        "from sklearn.tree import DecisionTreeClassifier\n",
        "from sklearn.model_selection import train_test_split"
      ],
      "metadata": {
        "id": "v1p2R29vBt87"
      },
      "execution_count": 3,
      "outputs": []
    },
    {
      "cell_type": "markdown",
      "source": [
        "* 피처들과 데이터 값이 어떻게 구성돼 있는지 확인 위해 DataFrame으로 변환한다."
      ],
      "metadata": {
        "id": "w8kGqTHlB6Jz"
      }
    },
    {
      "cell_type": "code",
      "source": [
        "import pandas as pd\n",
        "\n",
        "# 붓꽃 데이터 세트를 로딩한다.\n",
        "iris = load_iris()\n",
        "\n",
        "# iris.data는 Iris 데이터 세트에서 피처(feature)만으로 된 데이터를 numpy로 가지고 있다.\n",
        "iris_data = iris.data\n",
        "\n",
        "# iris.target은 붓꽃 데이터 세트에서 레이블(결정 값) 데이터를 numpy로 가지고 있다.\n",
        "iris_label = iris.target\n",
        "print('iris target값:', iris_label)\n",
        "print('iris target명:', iris_target_names)"
      ],
      "metadata": {
        "colab": {
          "base_uri": "https://localhost:8080/",
          "height": 245
        },
        "id": "bv8Tq8Oe0f2D",
        "outputId": "33866b2a-40bb-42e3-dfb4-6ae6b18087be"
      },
      "execution_count": 2,
      "outputs": [
        {
          "output_type": "error",
          "ename": "NameError",
          "evalue": "ignored",
          "traceback": [
            "\u001b[0;31m---------------------------------------------------------------------------\u001b[0m",
            "\u001b[0;31mNameError\u001b[0m                                 Traceback (most recent call last)",
            "\u001b[0;32m<ipython-input-2-2313b1403981>\u001b[0m in \u001b[0;36m<module>\u001b[0;34m()\u001b[0m\n\u001b[1;32m      2\u001b[0m \u001b[0;34m\u001b[0m\u001b[0m\n\u001b[1;32m      3\u001b[0m \u001b[0;31m# 붓꽃 데이터 세트를 로딩한다.\u001b[0m\u001b[0;34m\u001b[0m\u001b[0;34m\u001b[0m\u001b[0;34m\u001b[0m\u001b[0m\n\u001b[0;32m----> 4\u001b[0;31m \u001b[0miris\u001b[0m \u001b[0;34m=\u001b[0m \u001b[0mload_iris\u001b[0m\u001b[0;34m(\u001b[0m\u001b[0;34m)\u001b[0m\u001b[0;34m\u001b[0m\u001b[0;34m\u001b[0m\u001b[0m\n\u001b[0m\u001b[1;32m      5\u001b[0m \u001b[0;34m\u001b[0m\u001b[0m\n\u001b[1;32m      6\u001b[0m \u001b[0;31m# iris.data는 Iris 데이터 세트에서 피처(feature)만으로 된 데이터를 numpy로 가지고 있다.\u001b[0m\u001b[0;34m\u001b[0m\u001b[0;34m\u001b[0m\u001b[0;34m\u001b[0m\u001b[0m\n",
            "\u001b[0;31mNameError\u001b[0m: name 'load_iris' is not defined"
          ]
        }
      ]
    },
    {
      "cell_type": "code",
      "source": [
        ""
      ],
      "metadata": {
        "id": "vj0fCww5Bm9j"
      },
      "execution_count": null,
      "outputs": []
    }
  ]
}