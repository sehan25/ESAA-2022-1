{
  "nbformat": 4,
  "nbformat_minor": 0,
  "metadata": {
    "colab": {
      "name": "0620_차원축소.ipynb",
      "provenance": [],
      "collapsed_sections": [],
      "include_colab_link": true
    },
    "kernelspec": {
      "name": "python3",
      "display_name": "Python 3"
    },
    "language_info": {
      "name": "python"
    }
  },
  "cells": [
    {
      "cell_type": "markdown",
      "metadata": {
        "id": "view-in-github",
        "colab_type": "text"
      },
      "source": [
        "<a href=\"https://colab.research.google.com/github/sehan25/ESAA-2022-1/blob/main/Session/0620_%EC%B0%A8%EC%9B%90%EC%B6%95%EC%86%8C.ipynb\" target=\"_parent\"><img src=\"https://colab.research.google.com/assets/colab-badge.svg\" alt=\"Open In Colab\"/></a>"
      ]
    },
    {
      "cell_type": "code",
      "metadata": {
        "id": "t-RMDKJB7CyJ"
      },
      "source": [
        "# 데이터 로드\n",
        "from sklearn.datasets import fetch_openml\n",
        "mnist=fetch_openml('mnist_784', version=1)"
      ],
      "execution_count": 1,
      "outputs": []
    },
    {
      "cell_type": "code",
      "metadata": {
        "id": "itFJcmUSkBrK"
      },
      "source": [
        "# train, test split\n",
        "X_train = mnist['data'][:60000]\n",
        "y_train = mnist['target'][:60000]\n",
        "X_test = mnist['data'][60000:]\n",
        "y_test = mnist['target'][60000:]"
      ],
      "execution_count": 2,
      "outputs": []
    },
    {
      "cell_type": "markdown",
      "metadata": {
        "id": "RbkbV_ZWkSPc"
      },
      "source": [
        "* 랜덤포레스트에 적용"
      ]
    },
    {
      "cell_type": "code",
      "metadata": {
        "id": "xmeHyXmKkLN1",
        "colab": {
          "base_uri": "https://localhost:8080/"
        },
        "outputId": "85b3040d-48d9-4d9c-aec4-7837ef70c9fc"
      },
      "source": [
        "# 랜덤포레스트에 적용 (n_estimators=10, random_state=42)\n",
        "\n",
        "from sklearn.ensemble import RandomForestClassifier\n",
        "\n",
        "rf = RandomForestClassifier(n_estimators=10, random_state=42)\n",
        "rf.fit(X_train, y_train)"
      ],
      "execution_count": 3,
      "outputs": [
        {
          "output_type": "execute_result",
          "data": {
            "text/plain": [
              "RandomForestClassifier(n_estimators=10, random_state=42)"
            ]
          },
          "metadata": {},
          "execution_count": 3
        }
      ]
    },
    {
      "cell_type": "code",
      "metadata": {
        "id": "WXjOor-jknmH",
        "colab": {
          "base_uri": "https://localhost:8080/"
        },
        "outputId": "c333f2a0-558d-44db-f2eb-1dba87a9672f"
      },
      "source": [
        "# 정확도 결과\n",
        "\n",
        "from sklearn.metrics import accuracy_score\n",
        "\n",
        "y_pred = rf.predict(X_test)\n",
        "print(accuracy_score(y_test, y_pred))"
      ],
      "execution_count": 4,
      "outputs": [
        {
          "output_type": "stream",
          "name": "stdout",
          "text": [
            "0.9492\n"
          ]
        }
      ]
    },
    {
      "cell_type": "markdown",
      "source": [
        "# 1. PCA"
      ],
      "metadata": {
        "id": "yetHtlIxcCcY"
      }
    },
    {
      "cell_type": "markdown",
      "metadata": {
        "id": "Lw4KuER0lAGA"
      },
      "source": [
        "* PCA로 변환한 데이터 세트에 랜덤 포레스트 적용"
      ]
    },
    {
      "cell_type": "code",
      "source": [
        "# PCA 라이브러리 불러오기\n",
        "from sklearn.decomposition import PCA"
      ],
      "metadata": {
        "id": "1BLMGOa2VQuj"
      },
      "execution_count": 5,
      "outputs": []
    },
    {
      "cell_type": "code",
      "metadata": {
        "id": "u_w8te9tlDsr"
      },
      "source": [
        "# PCA 적용 95% : n_components=0.95\n",
        "pca = PCA(n_components=0.95)\n",
        "X_train_pca = pca.fit_transform(X_train)"
      ],
      "execution_count": 6,
      "outputs": []
    },
    {
      "cell_type": "code",
      "metadata": {
        "id": "aFezNneClV8u",
        "colab": {
          "base_uri": "https://localhost:8080/"
        },
        "outputId": "677cd61b-99fe-452b-ba52-f8e0fe4187b5"
      },
      "source": [
        "# PCA 이후 랜덤포레스트 훈련\n",
        "rf_pca = RandomForestClassifier(n_estimators=10, random_state=42)\n",
        "rf_pca.fit(X_train_pca, y_train)"
      ],
      "execution_count": 7,
      "outputs": [
        {
          "output_type": "execute_result",
          "data": {
            "text/plain": [
              "RandomForestClassifier(n_estimators=10, random_state=42)"
            ]
          },
          "metadata": {},
          "execution_count": 7
        }
      ]
    },
    {
      "cell_type": "code",
      "metadata": {
        "id": "PrsoPgs-lzYj",
        "colab": {
          "base_uri": "https://localhost:8080/"
        },
        "outputId": "03cf5290-bd0a-461e-be39-59f2358cc540"
      },
      "source": [
        "# 정확도 결과 (X_test도 PCA 적용해야합니다.)\n",
        "X_test_pca = pca.transform(X_test)\n",
        "y_pred_pca = rf_pca.predict(X_test_pca)\n",
        "print(accuracy_score(y_test, y_pred_pca))"
      ],
      "execution_count": 8,
      "outputs": [
        {
          "output_type": "stream",
          "name": "stdout",
          "text": [
            "0.9009\n"
          ]
        }
      ]
    },
    {
      "cell_type": "markdown",
      "source": [
        "# 2. LDA"
      ],
      "metadata": {
        "id": "A0ZWH3uVb3zW"
      }
    },
    {
      "cell_type": "markdown",
      "source": [
        "- LDA로 변환한 데이터 세트에 랜덤 포레스트 적용"
      ],
      "metadata": {
        "id": "t-FBfbZ2b94z"
      }
    },
    {
      "cell_type": "code",
      "source": [
        "# LDA 라이브러리 불러오기\n",
        "from sklearn.discriminant_analysis import LinearDiscriminantAnalysis"
      ],
      "metadata": {
        "id": "WxQG2ep9VCo4"
      },
      "execution_count": 9,
      "outputs": []
    },
    {
      "cell_type": "code",
      "source": [
        "# LDA 적용 : n_components=5\n",
        "lda = LinearDiscriminantAnalysis(n_components=5)\n",
        "X_train_lda = lda.fit_transform(X_train, y_train)"
      ],
      "metadata": {
        "id": "SYvLRl5qYTsn"
      },
      "execution_count": 10,
      "outputs": []
    },
    {
      "cell_type": "code",
      "source": [
        "# LDA 이후 랜덤포레스트 훈련\n",
        "rf_lda = RandomForestClassifier(n_estimators=10, random_state=42)\n",
        "rf_lda.fit(X_train_lda, y_train)"
      ],
      "metadata": {
        "id": "xggC9VrVZO3f",
        "colab": {
          "base_uri": "https://localhost:8080/"
        },
        "outputId": "d9f00c40-e06a-46e0-e156-994e5fed8bc1"
      },
      "execution_count": 11,
      "outputs": [
        {
          "output_type": "execute_result",
          "data": {
            "text/plain": [
              "RandomForestClassifier(n_estimators=10, random_state=42)"
            ]
          },
          "metadata": {},
          "execution_count": 11
        }
      ]
    },
    {
      "cell_type": "code",
      "source": [
        "# 정확도 결과 (X_test도 LDA 적용해야합니다.)\n",
        "X_test_lda = lda.transform(X_test)\n",
        "y_pred_lda = rf_lda.predict(X_test_lda)\n",
        "print(accuracy_score(y_test, y_pred_lda))"
      ],
      "metadata": {
        "id": "_oVckjoyY4Ly",
        "colab": {
          "base_uri": "https://localhost:8080/"
        },
        "outputId": "9e4057f2-9f23-48f6-d564-7746e010ef1c"
      },
      "execution_count": 12,
      "outputs": [
        {
          "output_type": "stream",
          "name": "stdout",
          "text": [
            "0.8291\n"
          ]
        }
      ]
    }
  ]
}