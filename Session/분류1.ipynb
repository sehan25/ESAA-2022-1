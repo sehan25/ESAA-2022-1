{
  "nbformat": 4,
  "nbformat_minor": 0,
  "metadata": {
    "colab": {
      "name": "분류1_수정.ipynb",
      "provenance": [],
      "collapsed_sections": [],
      "include_colab_link": true
    },
    "kernelspec": {
      "name": "python3",
      "display_name": "Python 3"
    },
    "language_info": {
      "name": "python"
    }
  },
  "cells": [
    {
      "cell_type": "markdown",
      "metadata": {
        "id": "view-in-github",
        "colab_type": "text"
      },
      "source": [
        "<a href=\"https://colab.research.google.com/github/sehan25/ESAA-2022-1/blob/main/Session/%EB%B6%84%EB%A5%981.ipynb\" target=\"_parent\"><img src=\"https://colab.research.google.com/assets/colab-badge.svg\" alt=\"Open In Colab\"/></a>"
      ]
    },
    {
      "cell_type": "markdown",
      "metadata": {
        "id": "21pUDJds7b1V"
      },
      "source": [
        "# 1. 결정 트리 훈련"
      ]
    },
    {
      "cell_type": "markdown",
      "metadata": {
        "id": "oBu7tyJj7kJu"
      },
      "source": [
        "1-a . make_moon ( n_sample=1000, noise=0.4)를 사용해 데이터셋을 생성합니다."
      ]
    },
    {
      "cell_type": "code",
      "metadata": {
        "id": "rVrHJeVb7fxl"
      },
      "source": [
        "from sklearn.datasets import make_moons\n",
        "\n",
        "X,y = make_moons(n_samples=1000, noise=0.4, random_state=42)"
      ],
      "execution_count": 1,
      "outputs": []
    },
    {
      "cell_type": "markdown",
      "metadata": {
        "id": "wIUaA0sy7qYV"
      },
      "source": [
        "1-b. 이를 train_test_split( )을 사용해 훈련 세트와 테스트 세트로 나눕니다.(random_state=42)\n"
      ]
    },
    {
      "cell_type": "code",
      "metadata": {
        "id": "3dixlSJo8GeG"
      },
      "source": [
        "from sklearn.model_selection import train_test_split\n",
        "\n",
        "X_train, X_test, y_train, y_test = train_test_split(X, y, test_size=0.2, random_state=42)"
      ],
      "execution_count": 2,
      "outputs": []
    },
    {
      "cell_type": "markdown",
      "metadata": {
        "id": "pkqqTSQ07ydF"
      },
      "source": [
        "1-c. DecisionTreeClassifier의 최적의 매개변수를 찾기 위해 교차 검증과 함께 그리드 탐색을 수행합니다. (GridSearchCV) \n",
        "\n",
        "힌트 : 여러가지 max_leaf_nodes 값을 시도해보세요! (교재 113, 207p 참고)"
      ]
    },
    {
      "cell_type": "code",
      "metadata": {
        "id": "ks_63ZiW8aZl",
        "colab": {
          "base_uri": "https://localhost:8080/"
        },
        "outputId": "1276ed9d-8b87-4f19-8a44-93f003aa4052"
      },
      "source": [
        "from sklearn.tree import DecisionTreeClassifier\n",
        "from sklearn.model_selection import GridSearchCV\n",
        "\n",
        "# 예시 파라미터: params = {'max_leaf_nodes' : list(range(2,100)),'min_samples_split' : [2,3,4]}\n",
        "\n",
        "params = {'max_leaf_nodes' : list(range(2,100)),'min_samples_split' : [2,3,4]}\n",
        "\n",
        "dt_clf = DecisionTreeClassifier(random_state=42)\n",
        "\n",
        "grid_search_cv = GridSearchCV(dt_clf, param_grid=params, cv=3, n_jobs=-1)\n",
        "grid_search_cv.fit(X_train, y_train)"
      ],
      "execution_count": 3,
      "outputs": [
        {
          "output_type": "execute_result",
          "data": {
            "text/plain": [
              "GridSearchCV(cv=3, estimator=DecisionTreeClassifier(random_state=42), n_jobs=-1,\n",
              "             param_grid={'max_leaf_nodes': [2, 3, 4, 5, 6, 7, 8, 9, 10, 11, 12,\n",
              "                                            13, 14, 15, 16, 17, 18, 19, 20, 21,\n",
              "                                            22, 23, 24, 25, 26, 27, 28, 29, 30,\n",
              "                                            31, ...],\n",
              "                         'min_samples_split': [2, 3, 4]})"
            ]
          },
          "metadata": {},
          "execution_count": 3
        }
      ]
    },
    {
      "cell_type": "code",
      "metadata": {
        "id": "Qo2DxGy58kTN",
        "colab": {
          "base_uri": "https://localhost:8080/"
        },
        "outputId": "9e225fe6-4f8d-426f-f99c-6b45e11aef28"
      },
      "source": [
        "grid_search_cv.best_estimator_"
      ],
      "execution_count": 4,
      "outputs": [
        {
          "output_type": "execute_result",
          "data": {
            "text/plain": [
              "DecisionTreeClassifier(max_leaf_nodes=4, random_state=42)"
            ]
          },
          "metadata": {},
          "execution_count": 4
        }
      ]
    },
    {
      "cell_type": "markdown",
      "metadata": {
        "id": "HUiK35IQ9DuW"
      },
      "source": [
        "1-d. 찾은 매개변수를 사용해 전체 훈련 세트에 대해 모델을 훈련시키고 테스트 세트에서 성능(정확도)을 측정합니다. (대략 85~87% 정도 나옵니다.)"
      ]
    },
    {
      "cell_type": "code",
      "metadata": {
        "id": "hqKETaEa85CW",
        "colab": {
          "base_uri": "https://localhost:8080/"
        },
        "outputId": "2d7e2903-1f5a-4c5f-c516-3e341391c58d"
      },
      "source": [
        "# GridSearchCV는 최적의 모델로 다시 훈련시키기 때문에 별도의 훈련이 필요없습니다.\n",
        "\n",
        "from sklearn.metrics import accuracy_score\n",
        "\n",
        "pred = grid_search_cv.best_estimator_.predict(X_test)\n",
        "accuracy_score(y_test, pred)"
      ],
      "execution_count": 5,
      "outputs": [
        {
          "output_type": "execute_result",
          "data": {
            "text/plain": [
              "0.855"
            ]
          },
          "metadata": {},
          "execution_count": 5
        }
      ]
    },
    {
      "cell_type": "markdown",
      "metadata": {
        "id": "f51HqYYu9OBd"
      },
      "source": [
        "# 2. 랜덤포레스트"
      ]
    },
    {
      "cell_type": "code",
      "metadata": {
        "id": "AEAqDnUPCtNT",
        "colab": {
          "base_uri": "https://localhost:8080/"
        },
        "outputId": "64f9bb5d-1ad0-452d-c13e-3fa7282835c2"
      },
      "source": [
        "# 데이터 다운로드 링크로 데이터를 코랩에 불러옵니다.\n",
        "\n",
        "!wget 'https://bit.ly/3i4n1QB'\n",
        "\n",
        "import zipfile\n",
        "with zipfile.ZipFile('3i4n1QB', 'r') as existing_zip:\n",
        "    existing_zip.extractall('data')"
      ],
      "execution_count": 6,
      "outputs": [
        {
          "output_type": "stream",
          "name": "stdout",
          "text": [
            "--2022-05-09 12:02:18--  https://bit.ly/3i4n1QB\n",
            "Resolving bit.ly (bit.ly)... 67.199.248.10, 67.199.248.11\n",
            "Connecting to bit.ly (bit.ly)|67.199.248.10|:443... connected.\n",
            "HTTP request sent, awaiting response... 301 Moved Permanently\n",
            "Location: https://drive.google.com/uc?export=download&id=1emLrrpFWT8dCoj5BJb12-5QMG2-nruUw [following]\n",
            "--2022-05-09 12:02:19--  https://drive.google.com/uc?export=download&id=1emLrrpFWT8dCoj5BJb12-5QMG2-nruUw\n",
            "Resolving drive.google.com (drive.google.com)... 142.250.141.138, 142.250.141.101, 142.250.141.100, ...\n",
            "Connecting to drive.google.com (drive.google.com)|142.250.141.138|:443... connected.\n",
            "HTTP request sent, awaiting response... 303 See Other\n",
            "Location: https://doc-10-10-docs.googleusercontent.com/docs/securesc/ha0ro937gcuc7l7deffksulhg5h7mbp1/56s83sklptplkm3ivrhfdhi8uldufg37/1652097675000/17946651057176172524/*/1emLrrpFWT8dCoj5BJb12-5QMG2-nruUw?e=download [following]\n",
            "Warning: wildcards not supported in HTTP.\n",
            "--2022-05-09 12:02:19--  https://doc-10-10-docs.googleusercontent.com/docs/securesc/ha0ro937gcuc7l7deffksulhg5h7mbp1/56s83sklptplkm3ivrhfdhi8uldufg37/1652097675000/17946651057176172524/*/1emLrrpFWT8dCoj5BJb12-5QMG2-nruUw?e=download\n",
            "Resolving doc-10-10-docs.googleusercontent.com (doc-10-10-docs.googleusercontent.com)... 142.250.141.132, 2607:f8b0:4023:c0b::84\n",
            "Connecting to doc-10-10-docs.googleusercontent.com (doc-10-10-docs.googleusercontent.com)|142.250.141.132|:443... connected.\n",
            "HTTP request sent, awaiting response... 200 OK\n",
            "Length: 137694 (134K) [application/zip]\n",
            "Saving to: ‘3i4n1QB’\n",
            "\n",
            "3i4n1QB             100%[===================>] 134.47K  --.-KB/s    in 0.002s  \n",
            "\n",
            "2022-05-09 12:02:19 (80.8 MB/s) - ‘3i4n1QB’ saved [137694/137694]\n",
            "\n"
          ]
        }
      ]
    },
    {
      "cell_type": "code",
      "metadata": {
        "id": "GqVbFVMCGJzT"
      },
      "source": [
        "# 라이브러리 불러오기\n",
        "\n",
        "import pandas as pd\n",
        "from sklearn.preprocessing import MinMaxScaler, OneHotEncoder\n",
        "from sklearn.ensemble import RandomForestClassifier"
      ],
      "execution_count": 7,
      "outputs": []
    },
    {
      "cell_type": "code",
      "metadata": {
        "id": "Cc10QSz6eyPa",
        "colab": {
          "base_uri": "https://localhost:8080/",
          "height": 341
        },
        "outputId": "c58adf72-5005-4140-ab45-3f45ca24c763"
      },
      "source": [
        "train = pd.read_csv('data/train.csv')\n",
        "\n",
        "# Scaling\n",
        "scaler = MinMaxScaler()\n",
        "scaler.fit(train[['fixed acidity']])\n",
        "train['Scaled fixed acidity'] = scaler.transform(train[['fixed acidity']])\n",
        "\n",
        "# Encoding\n",
        "encoder = OneHotEncoder()\n",
        "encoder.fit(train[['type']])\n",
        "onehot = encoder.transform(train[['type']])\n",
        "onehot = onehot.toarray()\n",
        "onehot = pd.DataFrame(onehot)\n",
        "onehot.columns = encoder.get_feature_names()\n",
        "train = pd.concat([train, onehot], axis = 1)\n",
        "train = train.drop(columns = ['type'])\n",
        "train.head()"
      ],
      "execution_count": 8,
      "outputs": [
        {
          "output_type": "stream",
          "name": "stderr",
          "text": [
            "/usr/local/lib/python3.7/dist-packages/sklearn/utils/deprecation.py:87: FutureWarning: Function get_feature_names is deprecated; get_feature_names is deprecated in 1.0 and will be removed in 1.2. Please use get_feature_names_out instead.\n",
            "  warnings.warn(msg, category=FutureWarning)\n"
          ]
        },
        {
          "output_type": "execute_result",
          "data": {
            "text/plain": [
              "   index  quality  fixed acidity  volatile acidity  citric acid  \\\n",
              "0      0        5            5.6             0.695         0.06   \n",
              "1      1        5            8.8             0.610         0.14   \n",
              "2      2        5            7.9             0.210         0.39   \n",
              "3      3        6            7.0             0.210         0.31   \n",
              "4      4        6            7.8             0.400         0.26   \n",
              "\n",
              "   residual sugar  chlorides  free sulfur dioxide  total sulfur dioxide  \\\n",
              "0             6.8      0.042                  9.0                  84.0   \n",
              "1             2.4      0.067                 10.0                  42.0   \n",
              "2             2.0      0.057                 21.0                 138.0   \n",
              "3             6.0      0.046                 29.0                 108.0   \n",
              "4             9.5      0.059                 32.0                 178.0   \n",
              "\n",
              "   density    pH  sulphates  alcohol  Scaled fixed acidity  x0_red  x0_white  \n",
              "0  0.99432  3.44       0.44     10.2              0.148760     0.0       1.0  \n",
              "1  0.99690  3.19       0.59      9.5              0.413223     1.0       0.0  \n",
              "2  0.99176  3.05       0.52     10.9              0.338843     0.0       1.0  \n",
              "3  0.99390  3.26       0.50     10.8              0.264463     0.0       1.0  \n",
              "4  0.99550  3.04       0.43     10.9              0.330579     0.0       1.0  "
            ],
            "text/html": [
              "\n",
              "  <div id=\"df-b690924c-d8c0-46c5-b675-bbf3ec306f58\">\n",
              "    <div class=\"colab-df-container\">\n",
              "      <div>\n",
              "<style scoped>\n",
              "    .dataframe tbody tr th:only-of-type {\n",
              "        vertical-align: middle;\n",
              "    }\n",
              "\n",
              "    .dataframe tbody tr th {\n",
              "        vertical-align: top;\n",
              "    }\n",
              "\n",
              "    .dataframe thead th {\n",
              "        text-align: right;\n",
              "    }\n",
              "</style>\n",
              "<table border=\"1\" class=\"dataframe\">\n",
              "  <thead>\n",
              "    <tr style=\"text-align: right;\">\n",
              "      <th></th>\n",
              "      <th>index</th>\n",
              "      <th>quality</th>\n",
              "      <th>fixed acidity</th>\n",
              "      <th>volatile acidity</th>\n",
              "      <th>citric acid</th>\n",
              "      <th>residual sugar</th>\n",
              "      <th>chlorides</th>\n",
              "      <th>free sulfur dioxide</th>\n",
              "      <th>total sulfur dioxide</th>\n",
              "      <th>density</th>\n",
              "      <th>pH</th>\n",
              "      <th>sulphates</th>\n",
              "      <th>alcohol</th>\n",
              "      <th>Scaled fixed acidity</th>\n",
              "      <th>x0_red</th>\n",
              "      <th>x0_white</th>\n",
              "    </tr>\n",
              "  </thead>\n",
              "  <tbody>\n",
              "    <tr>\n",
              "      <th>0</th>\n",
              "      <td>0</td>\n",
              "      <td>5</td>\n",
              "      <td>5.6</td>\n",
              "      <td>0.695</td>\n",
              "      <td>0.06</td>\n",
              "      <td>6.8</td>\n",
              "      <td>0.042</td>\n",
              "      <td>9.0</td>\n",
              "      <td>84.0</td>\n",
              "      <td>0.99432</td>\n",
              "      <td>3.44</td>\n",
              "      <td>0.44</td>\n",
              "      <td>10.2</td>\n",
              "      <td>0.148760</td>\n",
              "      <td>0.0</td>\n",
              "      <td>1.0</td>\n",
              "    </tr>\n",
              "    <tr>\n",
              "      <th>1</th>\n",
              "      <td>1</td>\n",
              "      <td>5</td>\n",
              "      <td>8.8</td>\n",
              "      <td>0.610</td>\n",
              "      <td>0.14</td>\n",
              "      <td>2.4</td>\n",
              "      <td>0.067</td>\n",
              "      <td>10.0</td>\n",
              "      <td>42.0</td>\n",
              "      <td>0.99690</td>\n",
              "      <td>3.19</td>\n",
              "      <td>0.59</td>\n",
              "      <td>9.5</td>\n",
              "      <td>0.413223</td>\n",
              "      <td>1.0</td>\n",
              "      <td>0.0</td>\n",
              "    </tr>\n",
              "    <tr>\n",
              "      <th>2</th>\n",
              "      <td>2</td>\n",
              "      <td>5</td>\n",
              "      <td>7.9</td>\n",
              "      <td>0.210</td>\n",
              "      <td>0.39</td>\n",
              "      <td>2.0</td>\n",
              "      <td>0.057</td>\n",
              "      <td>21.0</td>\n",
              "      <td>138.0</td>\n",
              "      <td>0.99176</td>\n",
              "      <td>3.05</td>\n",
              "      <td>0.52</td>\n",
              "      <td>10.9</td>\n",
              "      <td>0.338843</td>\n",
              "      <td>0.0</td>\n",
              "      <td>1.0</td>\n",
              "    </tr>\n",
              "    <tr>\n",
              "      <th>3</th>\n",
              "      <td>3</td>\n",
              "      <td>6</td>\n",
              "      <td>7.0</td>\n",
              "      <td>0.210</td>\n",
              "      <td>0.31</td>\n",
              "      <td>6.0</td>\n",
              "      <td>0.046</td>\n",
              "      <td>29.0</td>\n",
              "      <td>108.0</td>\n",
              "      <td>0.99390</td>\n",
              "      <td>3.26</td>\n",
              "      <td>0.50</td>\n",
              "      <td>10.8</td>\n",
              "      <td>0.264463</td>\n",
              "      <td>0.0</td>\n",
              "      <td>1.0</td>\n",
              "    </tr>\n",
              "    <tr>\n",
              "      <th>4</th>\n",
              "      <td>4</td>\n",
              "      <td>6</td>\n",
              "      <td>7.8</td>\n",
              "      <td>0.400</td>\n",
              "      <td>0.26</td>\n",
              "      <td>9.5</td>\n",
              "      <td>0.059</td>\n",
              "      <td>32.0</td>\n",
              "      <td>178.0</td>\n",
              "      <td>0.99550</td>\n",
              "      <td>3.04</td>\n",
              "      <td>0.43</td>\n",
              "      <td>10.9</td>\n",
              "      <td>0.330579</td>\n",
              "      <td>0.0</td>\n",
              "      <td>1.0</td>\n",
              "    </tr>\n",
              "  </tbody>\n",
              "</table>\n",
              "</div>\n",
              "      <button class=\"colab-df-convert\" onclick=\"convertToInteractive('df-b690924c-d8c0-46c5-b675-bbf3ec306f58')\"\n",
              "              title=\"Convert this dataframe to an interactive table.\"\n",
              "              style=\"display:none;\">\n",
              "        \n",
              "  <svg xmlns=\"http://www.w3.org/2000/svg\" height=\"24px\"viewBox=\"0 0 24 24\"\n",
              "       width=\"24px\">\n",
              "    <path d=\"M0 0h24v24H0V0z\" fill=\"none\"/>\n",
              "    <path d=\"M18.56 5.44l.94 2.06.94-2.06 2.06-.94-2.06-.94-.94-2.06-.94 2.06-2.06.94zm-11 1L8.5 8.5l.94-2.06 2.06-.94-2.06-.94L8.5 2.5l-.94 2.06-2.06.94zm10 10l.94 2.06.94-2.06 2.06-.94-2.06-.94-.94-2.06-.94 2.06-2.06.94z\"/><path d=\"M17.41 7.96l-1.37-1.37c-.4-.4-.92-.59-1.43-.59-.52 0-1.04.2-1.43.59L10.3 9.45l-7.72 7.72c-.78.78-.78 2.05 0 2.83L4 21.41c.39.39.9.59 1.41.59.51 0 1.02-.2 1.41-.59l7.78-7.78 2.81-2.81c.8-.78.8-2.07 0-2.86zM5.41 20L4 18.59l7.72-7.72 1.47 1.35L5.41 20z\"/>\n",
              "  </svg>\n",
              "      </button>\n",
              "      \n",
              "  <style>\n",
              "    .colab-df-container {\n",
              "      display:flex;\n",
              "      flex-wrap:wrap;\n",
              "      gap: 12px;\n",
              "    }\n",
              "\n",
              "    .colab-df-convert {\n",
              "      background-color: #E8F0FE;\n",
              "      border: none;\n",
              "      border-radius: 50%;\n",
              "      cursor: pointer;\n",
              "      display: none;\n",
              "      fill: #1967D2;\n",
              "      height: 32px;\n",
              "      padding: 0 0 0 0;\n",
              "      width: 32px;\n",
              "    }\n",
              "\n",
              "    .colab-df-convert:hover {\n",
              "      background-color: #E2EBFA;\n",
              "      box-shadow: 0px 1px 2px rgba(60, 64, 67, 0.3), 0px 1px 3px 1px rgba(60, 64, 67, 0.15);\n",
              "      fill: #174EA6;\n",
              "    }\n",
              "\n",
              "    [theme=dark] .colab-df-convert {\n",
              "      background-color: #3B4455;\n",
              "      fill: #D2E3FC;\n",
              "    }\n",
              "\n",
              "    [theme=dark] .colab-df-convert:hover {\n",
              "      background-color: #434B5C;\n",
              "      box-shadow: 0px 1px 3px 1px rgba(0, 0, 0, 0.15);\n",
              "      filter: drop-shadow(0px 1px 2px rgba(0, 0, 0, 0.3));\n",
              "      fill: #FFFFFF;\n",
              "    }\n",
              "  </style>\n",
              "\n",
              "      <script>\n",
              "        const buttonEl =\n",
              "          document.querySelector('#df-b690924c-d8c0-46c5-b675-bbf3ec306f58 button.colab-df-convert');\n",
              "        buttonEl.style.display =\n",
              "          google.colab.kernel.accessAllowed ? 'block' : 'none';\n",
              "\n",
              "        async function convertToInteractive(key) {\n",
              "          const element = document.querySelector('#df-b690924c-d8c0-46c5-b675-bbf3ec306f58');\n",
              "          const dataTable =\n",
              "            await google.colab.kernel.invokeFunction('convertToInteractive',\n",
              "                                                     [key], {});\n",
              "          if (!dataTable) return;\n",
              "\n",
              "          const docLinkHtml = 'Like what you see? Visit the ' +\n",
              "            '<a target=\"_blank\" href=https://colab.research.google.com/notebooks/data_table.ipynb>data table notebook</a>'\n",
              "            + ' to learn more about interactive tables.';\n",
              "          element.innerHTML = '';\n",
              "          dataTable['output_type'] = 'display_data';\n",
              "          await google.colab.output.renderOutput(dataTable, element);\n",
              "          const docLink = document.createElement('div');\n",
              "          docLink.innerHTML = docLinkHtml;\n",
              "          element.appendChild(docLink);\n",
              "        }\n",
              "      </script>\n",
              "    </div>\n",
              "  </div>\n",
              "  "
            ]
          },
          "metadata": {},
          "execution_count": 8
        }
      ]
    },
    {
      "cell_type": "markdown",
      "metadata": {
        "id": "Jy-7OpeqXTQs"
      },
      "source": [
        "2-a. 랜덤포레스트 분류 모형을 불러옵니다."
      ]
    },
    {
      "cell_type": "code",
      "metadata": {
        "id": "gMqJLSsRXkBp"
      },
      "source": [
        "from sklearn.ensemble import RandomForestClassifier"
      ],
      "execution_count": 9,
      "outputs": []
    },
    {
      "cell_type": "markdown",
      "metadata": {
        "id": "d0hI2huIfO9Y"
      },
      "source": [
        "2-b. 랜덤포레스트 분류 모형을 \"random_classifier\"라는 변수에 저장합니다."
      ]
    },
    {
      "cell_type": "code",
      "metadata": {
        "id": "DMYpgHI3fO9x"
      },
      "source": [
        "random_classifier = RandomForestClassifier()"
      ],
      "execution_count": 10,
      "outputs": []
    },
    {
      "cell_type": "markdown",
      "metadata": {
        "id": "hOka4BOCfO9y"
      },
      "source": [
        "2-c. \"X\"라는 변수에 train의 \"quality\" 피쳐를 제거하고 저장합니다."
      ]
    },
    {
      "cell_type": "code",
      "metadata": {
        "id": "1ZNYzgJjfO9y"
      },
      "source": [
        "X = train.drop(['quality'], axis=1)"
      ],
      "execution_count": 11,
      "outputs": []
    },
    {
      "cell_type": "markdown",
      "metadata": {
        "id": "WDiW4Ep0fO9y"
      },
      "source": [
        "2-d. \"y\"라는 변수에 정답인 train의 \"quality\" 피쳐를 저장합니다."
      ]
    },
    {
      "cell_type": "code",
      "metadata": {
        "id": "EtAHZOttfO9z"
      },
      "source": [
        "y = train['quality']"
      ],
      "execution_count": 12,
      "outputs": []
    },
    {
      "cell_type": "markdown",
      "metadata": {
        "id": "UBfBCHomfO9z"
      },
      "source": [
        "2-e. \"random_classifier\"를 X와 y를 이용해 학습시켜보세요."
      ]
    },
    {
      "cell_type": "code",
      "metadata": {
        "id": "sdV_OIQ3fO9z",
        "colab": {
          "base_uri": "https://localhost:8080/"
        },
        "outputId": "377547c3-c89f-49db-a628-7f3d97797444"
      },
      "source": [
        "random_classifier.fit(X,y)"
      ],
      "execution_count": 13,
      "outputs": [
        {
          "output_type": "execute_result",
          "data": {
            "text/plain": [
              "RandomForestClassifier()"
            ]
          },
          "metadata": {},
          "execution_count": 13
        }
      ]
    },
    {
      "cell_type": "markdown",
      "source": [
        "# 3. 보팅"
      ],
      "metadata": {
        "id": "DrbilhFEQRWD"
      }
    },
    {
      "cell_type": "code",
      "source": [
        "# 데이터 다운로드 링크로 데이터를 코랩에 불러옵니다.\n",
        "\n",
        "!wget 'https://bit.ly/3i4n1QB'\n",
        "\n",
        "import zipfile\n",
        "with zipfile.ZipFile('3i4n1QB', 'r') as existing_zip:\n",
        "    existing_zip.extractall('data')"
      ],
      "metadata": {
        "id": "-748dE0uQV0I",
        "colab": {
          "base_uri": "https://localhost:8080/"
        },
        "outputId": "36bc7e2b-c248-4022-dcdb-a8e275e81d7e"
      },
      "execution_count": 14,
      "outputs": [
        {
          "output_type": "stream",
          "name": "stdout",
          "text": [
            "--2022-05-09 12:02:38--  https://bit.ly/3i4n1QB\n",
            "Resolving bit.ly (bit.ly)... 67.199.248.10, 67.199.248.11\n",
            "Connecting to bit.ly (bit.ly)|67.199.248.10|:443... connected.\n",
            "HTTP request sent, awaiting response... 301 Moved Permanently\n",
            "Location: https://drive.google.com/uc?export=download&id=1emLrrpFWT8dCoj5BJb12-5QMG2-nruUw [following]\n",
            "--2022-05-09 12:02:38--  https://drive.google.com/uc?export=download&id=1emLrrpFWT8dCoj5BJb12-5QMG2-nruUw\n",
            "Resolving drive.google.com (drive.google.com)... 142.250.141.100, 142.250.141.102, 142.250.141.113, ...\n",
            "Connecting to drive.google.com (drive.google.com)|142.250.141.100|:443... connected.\n",
            "HTTP request sent, awaiting response... 303 See Other\n",
            "Location: https://doc-10-10-docs.googleusercontent.com/docs/securesc/ha0ro937gcuc7l7deffksulhg5h7mbp1/d147sr35a191r0dfdh4gmbel07chm05m/1652097750000/17946651057176172524/*/1emLrrpFWT8dCoj5BJb12-5QMG2-nruUw?e=download [following]\n",
            "Warning: wildcards not supported in HTTP.\n",
            "--2022-05-09 12:02:39--  https://doc-10-10-docs.googleusercontent.com/docs/securesc/ha0ro937gcuc7l7deffksulhg5h7mbp1/d147sr35a191r0dfdh4gmbel07chm05m/1652097750000/17946651057176172524/*/1emLrrpFWT8dCoj5BJb12-5QMG2-nruUw?e=download\n",
            "Resolving doc-10-10-docs.googleusercontent.com (doc-10-10-docs.googleusercontent.com)... 142.250.141.132, 2607:f8b0:4023:c0b::84\n",
            "Connecting to doc-10-10-docs.googleusercontent.com (doc-10-10-docs.googleusercontent.com)|142.250.141.132|:443... connected.\n",
            "HTTP request sent, awaiting response... 200 OK\n",
            "Length: 137694 (134K) [application/zip]\n",
            "Saving to: ‘3i4n1QB.1’\n",
            "\n",
            "3i4n1QB.1           100%[===================>] 134.47K  --.-KB/s    in 0.002s  \n",
            "\n",
            "2022-05-09 12:02:39 (63.6 MB/s) - ‘3i4n1QB.1’ saved [137694/137694]\n",
            "\n"
          ]
        }
      ]
    },
    {
      "cell_type": "code",
      "source": [
        "# 라이브러리 및 데이터 불러오기\n",
        "import pandas as pd\n",
        "from lightgbm import LGBMClassifier\n",
        "from xgboost import XGBClassifier\n",
        "\n",
        "from sklearn.ensemble import VotingClassifier\n",
        "from sklearn.ensemble import RandomForestClassifier\n",
        "\n",
        "train = pd.read_csv('data/train.csv')\n",
        "test = pd.read_csv('data/test.csv')\n",
        "\n",
        "train.drop('index',axis = 1 ,inplace =True)\n",
        "test.drop('index',axis = 1 ,inplace =True)"
      ],
      "metadata": {
        "id": "l0u_oJg0Q9tw"
      },
      "execution_count": 15,
      "outputs": []
    },
    {
      "cell_type": "code",
      "source": [
        "# 데이터 확인\n",
        "\n",
        "train.head()"
      ],
      "metadata": {
        "id": "4tkIIqfqRPCa",
        "colab": {
          "base_uri": "https://localhost:8080/",
          "height": 305
        },
        "outputId": "05ba48b4-9316-4564-f89c-9d82da940efb"
      },
      "execution_count": 16,
      "outputs": [
        {
          "output_type": "execute_result",
          "data": {
            "text/plain": [
              "   quality  fixed acidity  volatile acidity  citric acid  residual sugar  \\\n",
              "0        5            5.6             0.695         0.06             6.8   \n",
              "1        5            8.8             0.610         0.14             2.4   \n",
              "2        5            7.9             0.210         0.39             2.0   \n",
              "3        6            7.0             0.210         0.31             6.0   \n",
              "4        6            7.8             0.400         0.26             9.5   \n",
              "\n",
              "   chlorides  free sulfur dioxide  total sulfur dioxide  density    pH  \\\n",
              "0      0.042                  9.0                  84.0  0.99432  3.44   \n",
              "1      0.067                 10.0                  42.0  0.99690  3.19   \n",
              "2      0.057                 21.0                 138.0  0.99176  3.05   \n",
              "3      0.046                 29.0                 108.0  0.99390  3.26   \n",
              "4      0.059                 32.0                 178.0  0.99550  3.04   \n",
              "\n",
              "   sulphates  alcohol   type  \n",
              "0       0.44     10.2  white  \n",
              "1       0.59      9.5    red  \n",
              "2       0.52     10.9  white  \n",
              "3       0.50     10.8  white  \n",
              "4       0.43     10.9  white  "
            ],
            "text/html": [
              "\n",
              "  <div id=\"df-fd919e0f-86cb-47dd-8319-1261716e1808\">\n",
              "    <div class=\"colab-df-container\">\n",
              "      <div>\n",
              "<style scoped>\n",
              "    .dataframe tbody tr th:only-of-type {\n",
              "        vertical-align: middle;\n",
              "    }\n",
              "\n",
              "    .dataframe tbody tr th {\n",
              "        vertical-align: top;\n",
              "    }\n",
              "\n",
              "    .dataframe thead th {\n",
              "        text-align: right;\n",
              "    }\n",
              "</style>\n",
              "<table border=\"1\" class=\"dataframe\">\n",
              "  <thead>\n",
              "    <tr style=\"text-align: right;\">\n",
              "      <th></th>\n",
              "      <th>quality</th>\n",
              "      <th>fixed acidity</th>\n",
              "      <th>volatile acidity</th>\n",
              "      <th>citric acid</th>\n",
              "      <th>residual sugar</th>\n",
              "      <th>chlorides</th>\n",
              "      <th>free sulfur dioxide</th>\n",
              "      <th>total sulfur dioxide</th>\n",
              "      <th>density</th>\n",
              "      <th>pH</th>\n",
              "      <th>sulphates</th>\n",
              "      <th>alcohol</th>\n",
              "      <th>type</th>\n",
              "    </tr>\n",
              "  </thead>\n",
              "  <tbody>\n",
              "    <tr>\n",
              "      <th>0</th>\n",
              "      <td>5</td>\n",
              "      <td>5.6</td>\n",
              "      <td>0.695</td>\n",
              "      <td>0.06</td>\n",
              "      <td>6.8</td>\n",
              "      <td>0.042</td>\n",
              "      <td>9.0</td>\n",
              "      <td>84.0</td>\n",
              "      <td>0.99432</td>\n",
              "      <td>3.44</td>\n",
              "      <td>0.44</td>\n",
              "      <td>10.2</td>\n",
              "      <td>white</td>\n",
              "    </tr>\n",
              "    <tr>\n",
              "      <th>1</th>\n",
              "      <td>5</td>\n",
              "      <td>8.8</td>\n",
              "      <td>0.610</td>\n",
              "      <td>0.14</td>\n",
              "      <td>2.4</td>\n",
              "      <td>0.067</td>\n",
              "      <td>10.0</td>\n",
              "      <td>42.0</td>\n",
              "      <td>0.99690</td>\n",
              "      <td>3.19</td>\n",
              "      <td>0.59</td>\n",
              "      <td>9.5</td>\n",
              "      <td>red</td>\n",
              "    </tr>\n",
              "    <tr>\n",
              "      <th>2</th>\n",
              "      <td>5</td>\n",
              "      <td>7.9</td>\n",
              "      <td>0.210</td>\n",
              "      <td>0.39</td>\n",
              "      <td>2.0</td>\n",
              "      <td>0.057</td>\n",
              "      <td>21.0</td>\n",
              "      <td>138.0</td>\n",
              "      <td>0.99176</td>\n",
              "      <td>3.05</td>\n",
              "      <td>0.52</td>\n",
              "      <td>10.9</td>\n",
              "      <td>white</td>\n",
              "    </tr>\n",
              "    <tr>\n",
              "      <th>3</th>\n",
              "      <td>6</td>\n",
              "      <td>7.0</td>\n",
              "      <td>0.210</td>\n",
              "      <td>0.31</td>\n",
              "      <td>6.0</td>\n",
              "      <td>0.046</td>\n",
              "      <td>29.0</td>\n",
              "      <td>108.0</td>\n",
              "      <td>0.99390</td>\n",
              "      <td>3.26</td>\n",
              "      <td>0.50</td>\n",
              "      <td>10.8</td>\n",
              "      <td>white</td>\n",
              "    </tr>\n",
              "    <tr>\n",
              "      <th>4</th>\n",
              "      <td>6</td>\n",
              "      <td>7.8</td>\n",
              "      <td>0.400</td>\n",
              "      <td>0.26</td>\n",
              "      <td>9.5</td>\n",
              "      <td>0.059</td>\n",
              "      <td>32.0</td>\n",
              "      <td>178.0</td>\n",
              "      <td>0.99550</td>\n",
              "      <td>3.04</td>\n",
              "      <td>0.43</td>\n",
              "      <td>10.9</td>\n",
              "      <td>white</td>\n",
              "    </tr>\n",
              "  </tbody>\n",
              "</table>\n",
              "</div>\n",
              "      <button class=\"colab-df-convert\" onclick=\"convertToInteractive('df-fd919e0f-86cb-47dd-8319-1261716e1808')\"\n",
              "              title=\"Convert this dataframe to an interactive table.\"\n",
              "              style=\"display:none;\">\n",
              "        \n",
              "  <svg xmlns=\"http://www.w3.org/2000/svg\" height=\"24px\"viewBox=\"0 0 24 24\"\n",
              "       width=\"24px\">\n",
              "    <path d=\"M0 0h24v24H0V0z\" fill=\"none\"/>\n",
              "    <path d=\"M18.56 5.44l.94 2.06.94-2.06 2.06-.94-2.06-.94-.94-2.06-.94 2.06-2.06.94zm-11 1L8.5 8.5l.94-2.06 2.06-.94-2.06-.94L8.5 2.5l-.94 2.06-2.06.94zm10 10l.94 2.06.94-2.06 2.06-.94-2.06-.94-.94-2.06-.94 2.06-2.06.94z\"/><path d=\"M17.41 7.96l-1.37-1.37c-.4-.4-.92-.59-1.43-.59-.52 0-1.04.2-1.43.59L10.3 9.45l-7.72 7.72c-.78.78-.78 2.05 0 2.83L4 21.41c.39.39.9.59 1.41.59.51 0 1.02-.2 1.41-.59l7.78-7.78 2.81-2.81c.8-.78.8-2.07 0-2.86zM5.41 20L4 18.59l7.72-7.72 1.47 1.35L5.41 20z\"/>\n",
              "  </svg>\n",
              "      </button>\n",
              "      \n",
              "  <style>\n",
              "    .colab-df-container {\n",
              "      display:flex;\n",
              "      flex-wrap:wrap;\n",
              "      gap: 12px;\n",
              "    }\n",
              "\n",
              "    .colab-df-convert {\n",
              "      background-color: #E8F0FE;\n",
              "      border: none;\n",
              "      border-radius: 50%;\n",
              "      cursor: pointer;\n",
              "      display: none;\n",
              "      fill: #1967D2;\n",
              "      height: 32px;\n",
              "      padding: 0 0 0 0;\n",
              "      width: 32px;\n",
              "    }\n",
              "\n",
              "    .colab-df-convert:hover {\n",
              "      background-color: #E2EBFA;\n",
              "      box-shadow: 0px 1px 2px rgba(60, 64, 67, 0.3), 0px 1px 3px 1px rgba(60, 64, 67, 0.15);\n",
              "      fill: #174EA6;\n",
              "    }\n",
              "\n",
              "    [theme=dark] .colab-df-convert {\n",
              "      background-color: #3B4455;\n",
              "      fill: #D2E3FC;\n",
              "    }\n",
              "\n",
              "    [theme=dark] .colab-df-convert:hover {\n",
              "      background-color: #434B5C;\n",
              "      box-shadow: 0px 1px 3px 1px rgba(0, 0, 0, 0.15);\n",
              "      filter: drop-shadow(0px 1px 2px rgba(0, 0, 0, 0.3));\n",
              "      fill: #FFFFFF;\n",
              "    }\n",
              "  </style>\n",
              "\n",
              "      <script>\n",
              "        const buttonEl =\n",
              "          document.querySelector('#df-fd919e0f-86cb-47dd-8319-1261716e1808 button.colab-df-convert');\n",
              "        buttonEl.style.display =\n",
              "          google.colab.kernel.accessAllowed ? 'block' : 'none';\n",
              "\n",
              "        async function convertToInteractive(key) {\n",
              "          const element = document.querySelector('#df-fd919e0f-86cb-47dd-8319-1261716e1808');\n",
              "          const dataTable =\n",
              "            await google.colab.kernel.invokeFunction('convertToInteractive',\n",
              "                                                     [key], {});\n",
              "          if (!dataTable) return;\n",
              "\n",
              "          const docLinkHtml = 'Like what you see? Visit the ' +\n",
              "            '<a target=\"_blank\" href=https://colab.research.google.com/notebooks/data_table.ipynb>data table notebook</a>'\n",
              "            + ' to learn more about interactive tables.';\n",
              "          element.innerHTML = '';\n",
              "          dataTable['output_type'] = 'display_data';\n",
              "          await google.colab.output.renderOutput(dataTable, element);\n",
              "          const docLink = document.createElement('div');\n",
              "          docLink.innerHTML = docLinkHtml;\n",
              "          element.appendChild(docLink);\n",
              "        }\n",
              "      </script>\n",
              "    </div>\n",
              "  </div>\n",
              "  "
            ]
          },
          "metadata": {},
          "execution_count": 16
        }
      ]
    },
    {
      "cell_type": "code",
      "metadata": {
        "id": "mxijPn5Gd09b"
      },
      "source": [
        "# 원핫 인코딩 (pd.get_dummies())\n",
        "\n",
        "train = pd.get_dummies(train)\n",
        "test = pd.get_dummies(test)"
      ],
      "execution_count": 17,
      "outputs": []
    },
    {
      "cell_type": "code",
      "metadata": {
        "id": "wOtBX2GJ-jqf"
      },
      "source": [
        "# 모델 정의\n",
        "LGBM = LGBMClassifier()\n",
        "XGB = XGBClassifier()\n",
        "RF = RandomForestClassifier()\n",
        "\n",
        "# VotingClassifier 정의\n",
        "VC = VotingClassifier(estimators=[('rf',RF),('xgb',XGB),('lgbm',LGBM)],voting = 'soft')"
      ],
      "execution_count": 18,
      "outputs": []
    },
    {
      "cell_type": "code",
      "metadata": {
        "id": "qYn-_DQIxLcK",
        "colab": {
          "base_uri": "https://localhost:8080/"
        },
        "outputId": "b1551707-9878-47e6-c890-3d83e55da8c2"
      },
      "source": [
        "# 모델 학습\n",
        "\n",
        "# X 는 train에서 quality 를 제외한 모든 변수\n",
        "# y 는 train의 qulity 변수\n",
        "X = train.drop(['quality'],axis=1)\n",
        "y = train['quality']\n",
        "\n",
        "# fit 메소드를 이용해 모델 학습\n",
        "VC.fit(X,y)"
      ],
      "execution_count": 19,
      "outputs": [
        {
          "output_type": "execute_result",
          "data": {
            "text/plain": [
              "VotingClassifier(estimators=[('rf', RandomForestClassifier()),\n",
              "                             ('xgb', XGBClassifier()),\n",
              "                             ('lgbm', LGBMClassifier())],\n",
              "                 voting='soft')"
            ]
          },
          "metadata": {},
          "execution_count": 19
        }
      ]
    },
    {
      "cell_type": "code",
      "metadata": {
        "id": "uAX1paSYeB2i",
        "colab": {
          "base_uri": "https://localhost:8080/"
        },
        "outputId": "3949bcaf-3022-4966-eb69-51fed7152aef"
      },
      "source": [
        "# predict 메소드와 test_one 데이터를 이용해 품질 예측\n",
        "\n",
        "VC.predict(test)"
      ],
      "execution_count": 20,
      "outputs": [
        {
          "output_type": "execute_result",
          "data": {
            "text/plain": [
              "array([6, 5, 6, 5, 6, 6, 6, 6, 6, 7, 6, 5, 7, 6, 6, 5, 6, 6, 6, 5, 6, 6,\n",
              "       5, 7, 6, 5, 5, 5, 5, 5, 7, 6, 5, 5, 5, 6, 5, 5, 6, 6, 6, 5, 6, 6,\n",
              "       6, 6, 5, 6, 4, 6, 5, 5, 6, 4, 5, 6, 6, 5, 5, 6, 5, 6, 6, 4, 6, 6,\n",
              "       5, 5, 6, 5, 5, 5, 5, 6, 6, 5, 6, 7, 6, 7, 6, 6, 5, 5, 6, 6, 5, 5,\n",
              "       6, 7, 6, 6, 6, 6, 6, 7, 6, 6, 6, 6, 5, 6, 6, 5, 5, 6, 6, 6, 6, 5,\n",
              "       6, 6, 6, 5, 5, 6, 6, 7, 7, 6, 6, 5, 6, 6, 5, 5, 6, 6, 6, 7, 5, 5,\n",
              "       6, 5, 5, 6, 6, 7, 5, 5, 5, 6, 5, 5, 5, 5, 7, 6, 7, 6, 5, 8, 6, 5,\n",
              "       6, 5, 5, 6, 6, 5, 5, 6, 6, 7, 6, 5, 5, 6, 5, 5, 5, 5, 6, 5, 6, 5,\n",
              "       6, 5, 6, 6, 6, 6, 7, 7, 5, 6, 6, 6, 5, 6, 6, 6, 5, 6, 6, 6, 7, 5,\n",
              "       5, 5, 6, 5, 6, 5, 5, 5, 6, 6, 6, 6, 7, 5, 5, 6, 6, 6, 5, 6, 6, 7,\n",
              "       6, 5, 6, 6, 7, 6, 6, 5, 6, 5, 6, 7, 7, 6, 6, 6, 6, 6, 6, 6, 6, 6,\n",
              "       6, 6, 7, 6, 6, 6, 5, 7, 5, 6, 7, 7, 6, 6, 6, 7, 6, 6, 7, 5, 5, 7,\n",
              "       5, 5, 6, 5, 6, 6, 6, 5, 5, 5, 6, 5, 7, 7, 5, 6, 6, 6, 6, 6, 7, 7,\n",
              "       6, 6, 6, 6, 5, 5, 5, 6, 5, 6, 8, 5, 5, 7, 6, 6, 5, 5, 6, 5, 5, 7,\n",
              "       5, 5, 6, 5, 6, 5, 6, 6, 5, 5, 6, 6, 5, 5, 6, 5, 4, 5, 5, 6, 6, 5,\n",
              "       5, 7, 7, 5, 5, 6, 5, 6, 6, 6, 6, 6, 6, 6, 5, 6, 6, 6, 5, 6, 5, 6,\n",
              "       5, 6, 6, 5, 6, 6, 6, 6, 5, 6, 6, 7, 7, 6, 5, 5, 7, 6, 6, 6, 5, 5,\n",
              "       6, 5, 5, 6, 6, 6, 7, 6, 7, 6, 5, 6, 6, 5, 6, 6, 7, 5, 7, 6, 5, 6,\n",
              "       6, 7, 7, 5, 7, 6, 6, 6, 6, 6, 6, 6, 6, 6, 6, 5, 6, 5, 6, 6, 6, 6,\n",
              "       5, 6, 7, 6, 5, 6, 5, 6, 6, 6, 5, 6, 7, 5, 5, 6, 6, 4, 6, 5, 5, 5,\n",
              "       5, 7, 6, 6, 6, 6, 5, 5, 5, 6, 6, 7, 5, 6, 6, 5, 7, 5, 6, 5, 5, 6,\n",
              "       5, 6, 5, 6, 6, 6, 6, 5, 5, 5, 5, 6, 5, 6, 6, 8, 7, 6, 6, 7, 6, 5,\n",
              "       8, 5, 5, 6, 5, 6, 7, 6, 5, 7, 5, 6, 6, 5, 6, 6, 6, 6, 6, 7, 6, 5,\n",
              "       6, 6, 6, 7, 5, 5, 6, 6, 6, 5, 5, 6, 6, 5, 5, 5, 5, 6, 6, 5, 7, 6,\n",
              "       6, 6, 5, 5, 6, 5, 6, 7, 6, 6, 4, 5, 6, 5, 6, 6, 6, 6, 6, 5, 6, 6,\n",
              "       6, 6, 6, 6, 5, 6, 5, 5, 5, 6, 5, 5, 5, 6, 7, 6, 6, 7, 6, 5, 6, 5,\n",
              "       5, 7, 6, 5, 6, 5, 5, 5, 6, 6, 5, 5, 6, 7, 7, 7, 5, 7, 7, 5, 7, 6,\n",
              "       5, 5, 5, 7, 6, 6, 6, 7, 6, 6, 5, 6, 5, 5, 7, 6, 8, 5, 6, 6, 6, 6,\n",
              "       5, 6, 6, 6, 6, 6, 6, 7, 5, 6, 5, 6, 5, 6, 5, 5, 6, 5, 5, 7, 5, 6,\n",
              "       8, 5, 5, 6, 6, 5, 6, 6, 6, 5, 6, 5, 6, 5, 6, 7, 6, 5, 6, 6, 6, 5,\n",
              "       7, 5, 6, 5, 6, 6, 6, 5, 6, 5, 6, 5, 5, 7, 7, 5, 6, 6, 7, 6, 6, 6,\n",
              "       7, 5, 6, 8, 6, 6, 5, 6, 7, 5, 5, 6, 6, 6, 6, 6, 5, 6, 6, 5, 6, 6,\n",
              "       5, 6, 5, 6, 5, 5, 6, 5, 6, 5, 7, 6, 5, 6, 6, 6, 5, 6, 8, 6, 5, 6,\n",
              "       6, 4, 7, 6, 5, 7, 5, 5, 7, 6, 5, 7, 6, 5, 6, 6, 6, 5, 6, 6, 7, 6,\n",
              "       5, 5, 6, 5, 5, 5, 6, 7, 5, 7, 6, 7, 5, 5, 6, 7, 6, 6, 5, 6, 5, 6,\n",
              "       5, 6, 6, 5, 6, 6, 6, 5, 6, 5, 7, 5, 5, 5, 5, 5, 6, 5, 5, 6, 6, 6,\n",
              "       6, 6, 7, 6, 6, 5, 6, 5, 5, 5, 6, 6, 5, 6, 5, 7, 7, 6, 6, 6, 5, 6,\n",
              "       7, 5, 6, 6, 6, 5, 6, 5, 5, 5, 8, 6, 6, 5, 6, 6, 6, 6, 6, 5, 7, 6,\n",
              "       6, 7, 5, 5, 5, 5, 6, 5, 6, 5, 7, 7, 7, 6, 5, 7, 5, 6, 5, 5, 6, 6,\n",
              "       5, 6, 5, 6, 5, 5, 6, 6, 5, 7, 6, 6, 7, 7, 7, 6, 5, 5, 6, 6, 6, 6,\n",
              "       5, 7, 5, 5, 5, 6, 5, 6, 7, 5, 5, 6, 6, 5, 5, 5, 6, 6, 6, 6, 6, 6,\n",
              "       5, 7, 5, 6, 5, 7, 5, 6, 6, 6, 5, 6, 6, 7, 7, 6, 5, 5, 6, 6, 6, 6,\n",
              "       6, 5, 6, 5, 6, 6, 5, 5, 5, 6, 5, 6, 5, 6, 4, 6, 5, 6, 6, 5, 6, 6,\n",
              "       6, 5, 6, 6, 6, 8, 5, 6, 6, 6, 6, 7, 6, 6, 5, 5, 5, 5, 6, 5, 5, 6,\n",
              "       5, 7, 6, 6, 7, 7, 6, 5, 7, 6, 6, 6, 6, 5, 6, 5, 5, 6, 6, 5, 5, 5,\n",
              "       6, 6, 6, 6, 7, 5, 6, 5, 6, 6])"
            ]
          },
          "metadata": {},
          "execution_count": 20
        }
      ]
    }
  ]
}