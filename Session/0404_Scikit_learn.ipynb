{
  "nbformat": 4,
  "nbformat_minor": 0,
  "metadata": {
    "colab": {
      "name": "0404 Scikit-learn.ipynb",
      "provenance": [],
      "collapsed_sections": []
    },
    "kernelspec": {
      "name": "python3",
      "display_name": "Python 3"
    },
    "language_info": {
      "name": "python"
    }
  },
  "cells": [
    {
      "cell_type": "markdown",
      "metadata": {
        "id": "7iaTeZje-TSJ"
      },
      "source": [
        "1. scikit-learn 으로부터 의사결정나무 모듈을 불러오는 코드를 아래에 작성하세요."
      ]
    },
    {
      "cell_type": "code",
      "metadata": {
        "id": "X1aSVTPc91JA"
      },
      "source": [
        "from sklearn.tree import DecisionTreeClassifier"
      ],
      "execution_count": 1,
      "outputs": []
    },
    {
      "cell_type": "markdown",
      "metadata": {
        "id": "FMaKM19W-hsG"
      },
      "source": [
        "# 셀을 실행할 때 팝업이 뜨면 `무시하고 계속하기` 를 눌러주세요\n",
        "## 데이터 다운로드\n",
        "--- \n",
        "아래 셀을 실행시켜 데이터를 colab에 불러옵니다.  \n",
        "셀 실행은 Ctrl + Enter 를 이용해 실행 시킬 수 있습니다. "
      ]
    },
    {
      "cell_type": "code",
      "metadata": {
        "id": "BRr7uRtG-0H-",
        "colab": {
          "base_uri": "https://localhost:8080/"
        },
        "outputId": "98464a02-a392-430e-e509-25773face981"
      },
      "source": [
        "# 데이터 다운로드 링크로 데이터를 코랩에 불러옵니다.\n",
        "\n",
        "!wget 'https://bit.ly/3gLj0Q6'\n",
        "\n",
        "import zipfile\n",
        "with zipfile.ZipFile('3gLj0Q6', 'r') as existing_zip:\n",
        "    existing_zip.extractall('data')"
      ],
      "execution_count": 2,
      "outputs": [
        {
          "output_type": "stream",
          "name": "stdout",
          "text": [
            "--2022-04-04 11:58:01--  https://bit.ly/3gLj0Q6\n",
            "Resolving bit.ly (bit.ly)... 67.199.248.11, 67.199.248.10\n",
            "Connecting to bit.ly (bit.ly)|67.199.248.11|:443... connected.\n",
            "HTTP request sent, awaiting response... 301 Moved Permanently\n",
            "Location: https://drive.google.com/uc?export=download&id=1or_QN1ksv81DNog6Tu_kWcZ5jJWf5W9E [following]\n",
            "--2022-04-04 11:58:01--  https://drive.google.com/uc?export=download&id=1or_QN1ksv81DNog6Tu_kWcZ5jJWf5W9E\n",
            "Resolving drive.google.com (drive.google.com)... 74.125.124.101, 74.125.124.113, 74.125.124.138, ...\n",
            "Connecting to drive.google.com (drive.google.com)|74.125.124.101|:443... connected.\n",
            "HTTP request sent, awaiting response... 303 See Other\n",
            "Location: https://doc-0c-10-docs.googleusercontent.com/docs/securesc/ha0ro937gcuc7l7deffksulhg5h7mbp1/kol47s8qaebdebtgo2ucmo1qkmf0mvd1/1649073450000/17946651057176172524/*/1or_QN1ksv81DNog6Tu_kWcZ5jJWf5W9E?e=download [following]\n",
            "Warning: wildcards not supported in HTTP.\n",
            "--2022-04-04 11:58:01--  https://doc-0c-10-docs.googleusercontent.com/docs/securesc/ha0ro937gcuc7l7deffksulhg5h7mbp1/kol47s8qaebdebtgo2ucmo1qkmf0mvd1/1649073450000/17946651057176172524/*/1or_QN1ksv81DNog6Tu_kWcZ5jJWf5W9E?e=download\n",
            "Resolving doc-0c-10-docs.googleusercontent.com (doc-0c-10-docs.googleusercontent.com)... 172.217.214.132, 2607:f8b0:4001:c05::84\n",
            "Connecting to doc-0c-10-docs.googleusercontent.com (doc-0c-10-docs.googleusercontent.com)|172.217.214.132|:443... connected.\n",
            "HTTP request sent, awaiting response... 200 OK\n",
            "Length: 39208 (38K) [application/zip]\n",
            "Saving to: ‘3gLj0Q6’\n",
            "\n",
            "3gLj0Q6             100%[===================>]  38.29K  --.-KB/s    in 0.001s  \n",
            "\n",
            "2022-04-04 11:58:02 (74.8 MB/s) - ‘3gLj0Q6’ saved [39208/39208]\n",
            "\n"
          ]
        }
      ]
    },
    {
      "cell_type": "markdown",
      "metadata": {
        "id": "ESCvCqF2_QVP"
      },
      "source": [
        "## 라이브러리 불러오기\n",
        "---\n",
        "아래 셀을 실행시켜 pandas 와 DecisionTreeClassifier 를 불러옵니다."
      ]
    },
    {
      "cell_type": "code",
      "metadata": {
        "id": "gJv1rVvp-6jE"
      },
      "source": [
        "import pandas as pd\n",
        "from sklearn.tree import DecisionTreeRegressor"
      ],
      "execution_count": 3,
      "outputs": []
    },
    {
      "cell_type": "markdown",
      "metadata": {
        "id": "0oob8F8j_blt"
      },
      "source": [
        "## 데이터 불러오기\n",
        "---\n",
        "아래 셀을 실행시켜 csv 파일 데이터를 DataFrame 객체로 불러옵니다."
      ]
    },
    {
      "cell_type": "code",
      "metadata": {
        "id": "J-WSiPon_XON"
      },
      "source": [
        "train = pd.read_csv('data/train.csv') \n",
        "test = pd.read_csv('data/test.csv')"
      ],
      "execution_count": 4,
      "outputs": []
    },
    {
      "cell_type": "markdown",
      "metadata": {
        "id": "gajgMdGa_h4y"
      },
      "source": [
        "## 결측치 제거하기\n",
        "---\n",
        "결측치를 제거하고, 결측치가 모두 제거됐는지 확인합니다."
      ]
    },
    {
      "cell_type": "code",
      "metadata": {
        "id": "-CfkGjDP_fmW",
        "colab": {
          "base_uri": "https://localhost:8080/"
        },
        "outputId": "b0736c0e-a15b-400f-9ec4-45eb423b5478"
      },
      "source": [
        "test = test.dropna()\n",
        "train = train.dropna()\n",
        "\n",
        "print(train.isnull().sum())"
      ],
      "execution_count": 5,
      "outputs": [
        {
          "output_type": "stream",
          "name": "stdout",
          "text": [
            "id                        0\n",
            "hour                      0\n",
            "hour_bef_temperature      0\n",
            "hour_bef_precipitation    0\n",
            "hour_bef_windspeed        0\n",
            "hour_bef_humidity         0\n",
            "hour_bef_visibility       0\n",
            "hour_bef_ozone            0\n",
            "hour_bef_pm10             0\n",
            "hour_bef_pm2.5            0\n",
            "count                     0\n",
            "dtype: int64\n"
          ]
        }
      ]
    },
    {
      "cell_type": "markdown",
      "metadata": {
        "id": "VLshlruu_nVc"
      },
      "source": [
        "2. train 데이터중 <br>\n",
        "예측해야할 `count` 피쳐를 drop()함수를 사용하고, axis=1 옵션을 사용해 해당 열을 제외한 데이터들을 `X_train` 이라는 이름의 DataFrame 객체로 만들고 <br>\n",
        "`count` 피쳐만을 데이터로 갖는 `Y_train` 이라는 이름의 DataFrame 객체로 만드는 코드를 아래에 작성하세요"
      ]
    },
    {
      "cell_type": "code",
      "metadata": {
        "id": "PjGhMNVN_lGk"
      },
      "source": [
        "X_train = train.drop(['count'], axis=1)\n",
        "Y_train = train['count']"
      ],
      "execution_count": 6,
      "outputs": []
    },
    {
      "cell_type": "code",
      "source": [
        "X_train.head(3)"
      ],
      "metadata": {
        "colab": {
          "base_uri": "https://localhost:8080/",
          "height": 208
        },
        "id": "-6ICFBD98Kpm",
        "outputId": "16b2311a-13d7-4c0b-fc4d-3bcdca8c2218"
      },
      "execution_count": 7,
      "outputs": [
        {
          "output_type": "execute_result",
          "data": {
            "text/plain": [
              "   id  hour  hour_bef_temperature  hour_bef_precipitation  hour_bef_windspeed  \\\n",
              "0   3    20                  16.3                     1.0                 1.5   \n",
              "1   6    13                  20.1                     0.0                 1.4   \n",
              "2   7     6                  13.9                     0.0                 0.7   \n",
              "\n",
              "   hour_bef_humidity  hour_bef_visibility  hour_bef_ozone  hour_bef_pm10  \\\n",
              "0               89.0                576.0           0.027           76.0   \n",
              "1               48.0                916.0           0.042           73.0   \n",
              "2               79.0               1382.0           0.033           32.0   \n",
              "\n",
              "   hour_bef_pm2.5  \n",
              "0            33.0  \n",
              "1            40.0  \n",
              "2            19.0  "
            ],
            "text/html": [
              "\n",
              "  <div id=\"df-168ed81c-af0d-4d60-9025-1ee896819ded\">\n",
              "    <div class=\"colab-df-container\">\n",
              "      <div>\n",
              "<style scoped>\n",
              "    .dataframe tbody tr th:only-of-type {\n",
              "        vertical-align: middle;\n",
              "    }\n",
              "\n",
              "    .dataframe tbody tr th {\n",
              "        vertical-align: top;\n",
              "    }\n",
              "\n",
              "    .dataframe thead th {\n",
              "        text-align: right;\n",
              "    }\n",
              "</style>\n",
              "<table border=\"1\" class=\"dataframe\">\n",
              "  <thead>\n",
              "    <tr style=\"text-align: right;\">\n",
              "      <th></th>\n",
              "      <th>id</th>\n",
              "      <th>hour</th>\n",
              "      <th>hour_bef_temperature</th>\n",
              "      <th>hour_bef_precipitation</th>\n",
              "      <th>hour_bef_windspeed</th>\n",
              "      <th>hour_bef_humidity</th>\n",
              "      <th>hour_bef_visibility</th>\n",
              "      <th>hour_bef_ozone</th>\n",
              "      <th>hour_bef_pm10</th>\n",
              "      <th>hour_bef_pm2.5</th>\n",
              "    </tr>\n",
              "  </thead>\n",
              "  <tbody>\n",
              "    <tr>\n",
              "      <th>0</th>\n",
              "      <td>3</td>\n",
              "      <td>20</td>\n",
              "      <td>16.3</td>\n",
              "      <td>1.0</td>\n",
              "      <td>1.5</td>\n",
              "      <td>89.0</td>\n",
              "      <td>576.0</td>\n",
              "      <td>0.027</td>\n",
              "      <td>76.0</td>\n",
              "      <td>33.0</td>\n",
              "    </tr>\n",
              "    <tr>\n",
              "      <th>1</th>\n",
              "      <td>6</td>\n",
              "      <td>13</td>\n",
              "      <td>20.1</td>\n",
              "      <td>0.0</td>\n",
              "      <td>1.4</td>\n",
              "      <td>48.0</td>\n",
              "      <td>916.0</td>\n",
              "      <td>0.042</td>\n",
              "      <td>73.0</td>\n",
              "      <td>40.0</td>\n",
              "    </tr>\n",
              "    <tr>\n",
              "      <th>2</th>\n",
              "      <td>7</td>\n",
              "      <td>6</td>\n",
              "      <td>13.9</td>\n",
              "      <td>0.0</td>\n",
              "      <td>0.7</td>\n",
              "      <td>79.0</td>\n",
              "      <td>1382.0</td>\n",
              "      <td>0.033</td>\n",
              "      <td>32.0</td>\n",
              "      <td>19.0</td>\n",
              "    </tr>\n",
              "  </tbody>\n",
              "</table>\n",
              "</div>\n",
              "      <button class=\"colab-df-convert\" onclick=\"convertToInteractive('df-168ed81c-af0d-4d60-9025-1ee896819ded')\"\n",
              "              title=\"Convert this dataframe to an interactive table.\"\n",
              "              style=\"display:none;\">\n",
              "        \n",
              "  <svg xmlns=\"http://www.w3.org/2000/svg\" height=\"24px\"viewBox=\"0 0 24 24\"\n",
              "       width=\"24px\">\n",
              "    <path d=\"M0 0h24v24H0V0z\" fill=\"none\"/>\n",
              "    <path d=\"M18.56 5.44l.94 2.06.94-2.06 2.06-.94-2.06-.94-.94-2.06-.94 2.06-2.06.94zm-11 1L8.5 8.5l.94-2.06 2.06-.94-2.06-.94L8.5 2.5l-.94 2.06-2.06.94zm10 10l.94 2.06.94-2.06 2.06-.94-2.06-.94-.94-2.06-.94 2.06-2.06.94z\"/><path d=\"M17.41 7.96l-1.37-1.37c-.4-.4-.92-.59-1.43-.59-.52 0-1.04.2-1.43.59L10.3 9.45l-7.72 7.72c-.78.78-.78 2.05 0 2.83L4 21.41c.39.39.9.59 1.41.59.51 0 1.02-.2 1.41-.59l7.78-7.78 2.81-2.81c.8-.78.8-2.07 0-2.86zM5.41 20L4 18.59l7.72-7.72 1.47 1.35L5.41 20z\"/>\n",
              "  </svg>\n",
              "      </button>\n",
              "      \n",
              "  <style>\n",
              "    .colab-df-container {\n",
              "      display:flex;\n",
              "      flex-wrap:wrap;\n",
              "      gap: 12px;\n",
              "    }\n",
              "\n",
              "    .colab-df-convert {\n",
              "      background-color: #E8F0FE;\n",
              "      border: none;\n",
              "      border-radius: 50%;\n",
              "      cursor: pointer;\n",
              "      display: none;\n",
              "      fill: #1967D2;\n",
              "      height: 32px;\n",
              "      padding: 0 0 0 0;\n",
              "      width: 32px;\n",
              "    }\n",
              "\n",
              "    .colab-df-convert:hover {\n",
              "      background-color: #E2EBFA;\n",
              "      box-shadow: 0px 1px 2px rgba(60, 64, 67, 0.3), 0px 1px 3px 1px rgba(60, 64, 67, 0.15);\n",
              "      fill: #174EA6;\n",
              "    }\n",
              "\n",
              "    [theme=dark] .colab-df-convert {\n",
              "      background-color: #3B4455;\n",
              "      fill: #D2E3FC;\n",
              "    }\n",
              "\n",
              "    [theme=dark] .colab-df-convert:hover {\n",
              "      background-color: #434B5C;\n",
              "      box-shadow: 0px 1px 3px 1px rgba(0, 0, 0, 0.15);\n",
              "      filter: drop-shadow(0px 1px 2px rgba(0, 0, 0, 0.3));\n",
              "      fill: #FFFFFF;\n",
              "    }\n",
              "  </style>\n",
              "\n",
              "      <script>\n",
              "        const buttonEl =\n",
              "          document.querySelector('#df-168ed81c-af0d-4d60-9025-1ee896819ded button.colab-df-convert');\n",
              "        buttonEl.style.display =\n",
              "          google.colab.kernel.accessAllowed ? 'block' : 'none';\n",
              "\n",
              "        async function convertToInteractive(key) {\n",
              "          const element = document.querySelector('#df-168ed81c-af0d-4d60-9025-1ee896819ded');\n",
              "          const dataTable =\n",
              "            await google.colab.kernel.invokeFunction('convertToInteractive',\n",
              "                                                     [key], {});\n",
              "          if (!dataTable) return;\n",
              "\n",
              "          const docLinkHtml = 'Like what you see? Visit the ' +\n",
              "            '<a target=\"_blank\" href=https://colab.research.google.com/notebooks/data_table.ipynb>data table notebook</a>'\n",
              "            + ' to learn more about interactive tables.';\n",
              "          element.innerHTML = '';\n",
              "          dataTable['output_type'] = 'display_data';\n",
              "          await google.colab.output.renderOutput(dataTable, element);\n",
              "          const docLink = document.createElement('div');\n",
              "          docLink.innerHTML = docLinkHtml;\n",
              "          element.appendChild(docLink);\n",
              "        }\n",
              "      </script>\n",
              "    </div>\n",
              "  </div>\n",
              "  "
            ]
          },
          "metadata": {},
          "execution_count": 7
        }
      ]
    },
    {
      "cell_type": "code",
      "source": [
        "Y_train.head(3)"
      ],
      "metadata": {
        "colab": {
          "base_uri": "https://localhost:8080/"
        },
        "id": "G-uD8QyG8UOH",
        "outputId": "003699a6-7c52-45a6-9105-2323cf4f9f3d"
      },
      "execution_count": 8,
      "outputs": [
        {
          "output_type": "execute_result",
          "data": {
            "text/plain": [
              "0     49.0\n",
              "1    159.0\n",
              "2     26.0\n",
              "Name: count, dtype: float64"
            ]
          },
          "metadata": {},
          "execution_count": 8
        }
      ]
    },
    {
      "cell_type": "markdown",
      "metadata": {
        "id": "OsFe-Y1Y_v-l"
      },
      "source": [
        "3. `model` 변수명으로 모델을 선언하고, fit() 함수를 사용해서, `X_train` 을 input 으로 삼고, `Y_train` 을 output 으로 삼아 모델을 훈련시키는 코드를 아래에 작성하세요"
      ]
    },
    {
      "cell_type": "code",
      "metadata": {
        "id": "jp8XHSAg_xx6",
        "colab": {
          "base_uri": "https://localhost:8080/"
        },
        "outputId": "b94a0782-7226-4984-adb7-a7385f72b126"
      },
      "source": [
        "model = DecisionTreeRegressor()\n",
        "model.fit(X_train, Y_train)"
      ],
      "execution_count": 9,
      "outputs": [
        {
          "output_type": "execute_result",
          "data": {
            "text/plain": [
              "DecisionTreeRegressor()"
            ]
          },
          "metadata": {},
          "execution_count": 9
        }
      ]
    },
    {
      "cell_type": "markdown",
      "metadata": {
        "id": "U5-_yNUsAKRa"
      },
      "source": [
        "4. predict() 를 이용해 test data 를 훈련된 모델로 예측한 data 를 생성하고 예측결과 상위 5개를 출력하는 코드를 작성하세요."
      ]
    },
    {
      "cell_type": "code",
      "metadata": {
        "id": "bfmw8qg6BJ2Z",
        "colab": {
          "base_uri": "https://localhost:8080/"
        },
        "outputId": "72774011-fb45-474c-bd1b-ebc6d114cae3"
      },
      "source": [
        "pred = model.predict(test)\n",
        "print(pred[:5])"
      ],
      "execution_count": 10,
      "outputs": [
        {
          "output_type": "stream",
          "name": "stdout",
          "text": [
            "[106. 164. 113.  49.  93.]\n"
          ]
        }
      ]
    },
    {
      "cell_type": "markdown",
      "metadata": {
        "id": "omEBVUkgJC13"
      },
      "source": [
        "## 데이터 다운로드 2\n",
        "---\n",
        "아래 셀을 실행시켜 데이터를 colab 에 불러옵니다.\n",
        "셀 실행은 Ctrl + Enter 를 이용해 실행시킬 수 있습니다."
      ]
    },
    {
      "cell_type": "code",
      "metadata": {
        "id": "si-MIrT1JNBt",
        "colab": {
          "base_uri": "https://localhost:8080/"
        },
        "outputId": "7d1c48c5-f336-49ef-9779-9cd4c6c370fc"
      },
      "source": [
        "# 데이터 다운로드 링크로 데이터를 코랩에 불러옵니다.\n",
        "\n",
        "!wget 'https://bit.ly/3i4n1QB'\n",
        "\n",
        "import zipfile\n",
        "with zipfile.ZipFile('3i4n1QB', 'r') as existing_zip:\n",
        "    existing_zip.extractall('data')"
      ],
      "execution_count": 11,
      "outputs": [
        {
          "output_type": "stream",
          "name": "stdout",
          "text": [
            "--2022-04-04 11:58:28--  https://bit.ly/3i4n1QB\n",
            "Resolving bit.ly (bit.ly)... 67.199.248.11, 67.199.248.10\n",
            "Connecting to bit.ly (bit.ly)|67.199.248.11|:443... connected.\n",
            "HTTP request sent, awaiting response... 301 Moved Permanently\n",
            "Location: https://drive.google.com/uc?export=download&id=1emLrrpFWT8dCoj5BJb12-5QMG2-nruUw [following]\n",
            "--2022-04-04 11:58:28--  https://drive.google.com/uc?export=download&id=1emLrrpFWT8dCoj5BJb12-5QMG2-nruUw\n",
            "Resolving drive.google.com (drive.google.com)... 74.125.124.113, 74.125.124.102, 74.125.124.100, ...\n",
            "Connecting to drive.google.com (drive.google.com)|74.125.124.113|:443... connected.\n",
            "HTTP request sent, awaiting response... 303 See Other\n",
            "Location: https://doc-10-10-docs.googleusercontent.com/docs/securesc/ha0ro937gcuc7l7deffksulhg5h7mbp1/531uvdi77vtur1604ohoih1g9e7adeg1/1649073450000/17946651057176172524/*/1emLrrpFWT8dCoj5BJb12-5QMG2-nruUw?e=download [following]\n",
            "Warning: wildcards not supported in HTTP.\n",
            "--2022-04-04 11:58:28--  https://doc-10-10-docs.googleusercontent.com/docs/securesc/ha0ro937gcuc7l7deffksulhg5h7mbp1/531uvdi77vtur1604ohoih1g9e7adeg1/1649073450000/17946651057176172524/*/1emLrrpFWT8dCoj5BJb12-5QMG2-nruUw?e=download\n",
            "Resolving doc-10-10-docs.googleusercontent.com (doc-10-10-docs.googleusercontent.com)... 172.217.214.132, 2607:f8b0:4001:c05::84\n",
            "Connecting to doc-10-10-docs.googleusercontent.com (doc-10-10-docs.googleusercontent.com)|172.217.214.132|:443... connected.\n",
            "HTTP request sent, awaiting response... 200 OK\n",
            "Length: 137694 (134K) [application/zip]\n",
            "Saving to: ‘3i4n1QB’\n",
            "\n",
            "3i4n1QB             100%[===================>] 134.47K  --.-KB/s    in 0.001s  \n",
            "\n",
            "2022-04-04 11:58:28 (113 MB/s) - ‘3i4n1QB’ saved [137694/137694]\n",
            "\n"
          ]
        }
      ]
    },
    {
      "cell_type": "code",
      "metadata": {
        "id": "gMK9we3bJQpX"
      },
      "source": [
        "# 라이브러리 불러오기\n",
        "\n",
        "import pandas as pd\n",
        "from sklearn.preprocessing import MinMaxScaler, OneHotEncoder\n",
        "from sklearn.ensemble import RandomForestClassifier"
      ],
      "execution_count": 12,
      "outputs": []
    },
    {
      "cell_type": "code",
      "metadata": {
        "id": "CLf7mks6JTX0",
        "colab": {
          "base_uri": "https://localhost:8080/",
          "height": 341
        },
        "outputId": "3724e2f8-94e1-4555-d377-2dec82f0a018"
      },
      "source": [
        "train = pd.read_csv('data/train.csv')\n",
        "\n",
        "# Scailing\n",
        "scaler = MinMaxScaler()\n",
        "scaler.fit(train[['fixed acidity']])\n",
        "train['Scaled fixed acidity'] = scaler.transform(train[['fixed acidity']])\n",
        "\n",
        "# Encoding\n",
        "encoder = OneHotEncoder()\n",
        "encoder.fit(train[['type']])\n",
        "onehot = encoder.transform(train[['type']])\n",
        "onehot = onehot.toarray()\n",
        "onehot = pd.DataFrame(onehot)\n",
        "onehot.columns = encoder.get_feature_names()\n",
        "train = pd.concat([train, onehot], axis = 1)\n",
        "train = train.drop(columns = ['type'])\n",
        "train.head()"
      ],
      "execution_count": 13,
      "outputs": [
        {
          "output_type": "stream",
          "name": "stderr",
          "text": [
            "/usr/local/lib/python3.7/dist-packages/sklearn/utils/deprecation.py:87: FutureWarning: Function get_feature_names is deprecated; get_feature_names is deprecated in 1.0 and will be removed in 1.2. Please use get_feature_names_out instead.\n",
            "  warnings.warn(msg, category=FutureWarning)\n"
          ]
        },
        {
          "output_type": "execute_result",
          "data": {
            "text/plain": [
              "   index  quality  fixed acidity  volatile acidity  citric acid  \\\n",
              "0      0        5            5.6             0.695         0.06   \n",
              "1      1        5            8.8             0.610         0.14   \n",
              "2      2        5            7.9             0.210         0.39   \n",
              "3      3        6            7.0             0.210         0.31   \n",
              "4      4        6            7.8             0.400         0.26   \n",
              "\n",
              "   residual sugar  chlorides  free sulfur dioxide  total sulfur dioxide  \\\n",
              "0             6.8      0.042                  9.0                  84.0   \n",
              "1             2.4      0.067                 10.0                  42.0   \n",
              "2             2.0      0.057                 21.0                 138.0   \n",
              "3             6.0      0.046                 29.0                 108.0   \n",
              "4             9.5      0.059                 32.0                 178.0   \n",
              "\n",
              "   density    pH  sulphates  alcohol  Scaled fixed acidity  x0_red  x0_white  \n",
              "0  0.99432  3.44       0.44     10.2              0.148760     0.0       1.0  \n",
              "1  0.99690  3.19       0.59      9.5              0.413223     1.0       0.0  \n",
              "2  0.99176  3.05       0.52     10.9              0.338843     0.0       1.0  \n",
              "3  0.99390  3.26       0.50     10.8              0.264463     0.0       1.0  \n",
              "4  0.99550  3.04       0.43     10.9              0.330579     0.0       1.0  "
            ],
            "text/html": [
              "\n",
              "  <div id=\"df-45f47741-e01b-43aa-b22e-263743b52ae8\">\n",
              "    <div class=\"colab-df-container\">\n",
              "      <div>\n",
              "<style scoped>\n",
              "    .dataframe tbody tr th:only-of-type {\n",
              "        vertical-align: middle;\n",
              "    }\n",
              "\n",
              "    .dataframe tbody tr th {\n",
              "        vertical-align: top;\n",
              "    }\n",
              "\n",
              "    .dataframe thead th {\n",
              "        text-align: right;\n",
              "    }\n",
              "</style>\n",
              "<table border=\"1\" class=\"dataframe\">\n",
              "  <thead>\n",
              "    <tr style=\"text-align: right;\">\n",
              "      <th></th>\n",
              "      <th>index</th>\n",
              "      <th>quality</th>\n",
              "      <th>fixed acidity</th>\n",
              "      <th>volatile acidity</th>\n",
              "      <th>citric acid</th>\n",
              "      <th>residual sugar</th>\n",
              "      <th>chlorides</th>\n",
              "      <th>free sulfur dioxide</th>\n",
              "      <th>total sulfur dioxide</th>\n",
              "      <th>density</th>\n",
              "      <th>pH</th>\n",
              "      <th>sulphates</th>\n",
              "      <th>alcohol</th>\n",
              "      <th>Scaled fixed acidity</th>\n",
              "      <th>x0_red</th>\n",
              "      <th>x0_white</th>\n",
              "    </tr>\n",
              "  </thead>\n",
              "  <tbody>\n",
              "    <tr>\n",
              "      <th>0</th>\n",
              "      <td>0</td>\n",
              "      <td>5</td>\n",
              "      <td>5.6</td>\n",
              "      <td>0.695</td>\n",
              "      <td>0.06</td>\n",
              "      <td>6.8</td>\n",
              "      <td>0.042</td>\n",
              "      <td>9.0</td>\n",
              "      <td>84.0</td>\n",
              "      <td>0.99432</td>\n",
              "      <td>3.44</td>\n",
              "      <td>0.44</td>\n",
              "      <td>10.2</td>\n",
              "      <td>0.148760</td>\n",
              "      <td>0.0</td>\n",
              "      <td>1.0</td>\n",
              "    </tr>\n",
              "    <tr>\n",
              "      <th>1</th>\n",
              "      <td>1</td>\n",
              "      <td>5</td>\n",
              "      <td>8.8</td>\n",
              "      <td>0.610</td>\n",
              "      <td>0.14</td>\n",
              "      <td>2.4</td>\n",
              "      <td>0.067</td>\n",
              "      <td>10.0</td>\n",
              "      <td>42.0</td>\n",
              "      <td>0.99690</td>\n",
              "      <td>3.19</td>\n",
              "      <td>0.59</td>\n",
              "      <td>9.5</td>\n",
              "      <td>0.413223</td>\n",
              "      <td>1.0</td>\n",
              "      <td>0.0</td>\n",
              "    </tr>\n",
              "    <tr>\n",
              "      <th>2</th>\n",
              "      <td>2</td>\n",
              "      <td>5</td>\n",
              "      <td>7.9</td>\n",
              "      <td>0.210</td>\n",
              "      <td>0.39</td>\n",
              "      <td>2.0</td>\n",
              "      <td>0.057</td>\n",
              "      <td>21.0</td>\n",
              "      <td>138.0</td>\n",
              "      <td>0.99176</td>\n",
              "      <td>3.05</td>\n",
              "      <td>0.52</td>\n",
              "      <td>10.9</td>\n",
              "      <td>0.338843</td>\n",
              "      <td>0.0</td>\n",
              "      <td>1.0</td>\n",
              "    </tr>\n",
              "    <tr>\n",
              "      <th>3</th>\n",
              "      <td>3</td>\n",
              "      <td>6</td>\n",
              "      <td>7.0</td>\n",
              "      <td>0.210</td>\n",
              "      <td>0.31</td>\n",
              "      <td>6.0</td>\n",
              "      <td>0.046</td>\n",
              "      <td>29.0</td>\n",
              "      <td>108.0</td>\n",
              "      <td>0.99390</td>\n",
              "      <td>3.26</td>\n",
              "      <td>0.50</td>\n",
              "      <td>10.8</td>\n",
              "      <td>0.264463</td>\n",
              "      <td>0.0</td>\n",
              "      <td>1.0</td>\n",
              "    </tr>\n",
              "    <tr>\n",
              "      <th>4</th>\n",
              "      <td>4</td>\n",
              "      <td>6</td>\n",
              "      <td>7.8</td>\n",
              "      <td>0.400</td>\n",
              "      <td>0.26</td>\n",
              "      <td>9.5</td>\n",
              "      <td>0.059</td>\n",
              "      <td>32.0</td>\n",
              "      <td>178.0</td>\n",
              "      <td>0.99550</td>\n",
              "      <td>3.04</td>\n",
              "      <td>0.43</td>\n",
              "      <td>10.9</td>\n",
              "      <td>0.330579</td>\n",
              "      <td>0.0</td>\n",
              "      <td>1.0</td>\n",
              "    </tr>\n",
              "  </tbody>\n",
              "</table>\n",
              "</div>\n",
              "      <button class=\"colab-df-convert\" onclick=\"convertToInteractive('df-45f47741-e01b-43aa-b22e-263743b52ae8')\"\n",
              "              title=\"Convert this dataframe to an interactive table.\"\n",
              "              style=\"display:none;\">\n",
              "        \n",
              "  <svg xmlns=\"http://www.w3.org/2000/svg\" height=\"24px\"viewBox=\"0 0 24 24\"\n",
              "       width=\"24px\">\n",
              "    <path d=\"M0 0h24v24H0V0z\" fill=\"none\"/>\n",
              "    <path d=\"M18.56 5.44l.94 2.06.94-2.06 2.06-.94-2.06-.94-.94-2.06-.94 2.06-2.06.94zm-11 1L8.5 8.5l.94-2.06 2.06-.94-2.06-.94L8.5 2.5l-.94 2.06-2.06.94zm10 10l.94 2.06.94-2.06 2.06-.94-2.06-.94-.94-2.06-.94 2.06-2.06.94z\"/><path d=\"M17.41 7.96l-1.37-1.37c-.4-.4-.92-.59-1.43-.59-.52 0-1.04.2-1.43.59L10.3 9.45l-7.72 7.72c-.78.78-.78 2.05 0 2.83L4 21.41c.39.39.9.59 1.41.59.51 0 1.02-.2 1.41-.59l7.78-7.78 2.81-2.81c.8-.78.8-2.07 0-2.86zM5.41 20L4 18.59l7.72-7.72 1.47 1.35L5.41 20z\"/>\n",
              "  </svg>\n",
              "      </button>\n",
              "      \n",
              "  <style>\n",
              "    .colab-df-container {\n",
              "      display:flex;\n",
              "      flex-wrap:wrap;\n",
              "      gap: 12px;\n",
              "    }\n",
              "\n",
              "    .colab-df-convert {\n",
              "      background-color: #E8F0FE;\n",
              "      border: none;\n",
              "      border-radius: 50%;\n",
              "      cursor: pointer;\n",
              "      display: none;\n",
              "      fill: #1967D2;\n",
              "      height: 32px;\n",
              "      padding: 0 0 0 0;\n",
              "      width: 32px;\n",
              "    }\n",
              "\n",
              "    .colab-df-convert:hover {\n",
              "      background-color: #E2EBFA;\n",
              "      box-shadow: 0px 1px 2px rgba(60, 64, 67, 0.3), 0px 1px 3px 1px rgba(60, 64, 67, 0.15);\n",
              "      fill: #174EA6;\n",
              "    }\n",
              "\n",
              "    [theme=dark] .colab-df-convert {\n",
              "      background-color: #3B4455;\n",
              "      fill: #D2E3FC;\n",
              "    }\n",
              "\n",
              "    [theme=dark] .colab-df-convert:hover {\n",
              "      background-color: #434B5C;\n",
              "      box-shadow: 0px 1px 3px 1px rgba(0, 0, 0, 0.15);\n",
              "      filter: drop-shadow(0px 1px 2px rgba(0, 0, 0, 0.3));\n",
              "      fill: #FFFFFF;\n",
              "    }\n",
              "  </style>\n",
              "\n",
              "      <script>\n",
              "        const buttonEl =\n",
              "          document.querySelector('#df-45f47741-e01b-43aa-b22e-263743b52ae8 button.colab-df-convert');\n",
              "        buttonEl.style.display =\n",
              "          google.colab.kernel.accessAllowed ? 'block' : 'none';\n",
              "\n",
              "        async function convertToInteractive(key) {\n",
              "          const element = document.querySelector('#df-45f47741-e01b-43aa-b22e-263743b52ae8');\n",
              "          const dataTable =\n",
              "            await google.colab.kernel.invokeFunction('convertToInteractive',\n",
              "                                                     [key], {});\n",
              "          if (!dataTable) return;\n",
              "\n",
              "          const docLinkHtml = 'Like what you see? Visit the ' +\n",
              "            '<a target=\"_blank\" href=https://colab.research.google.com/notebooks/data_table.ipynb>data table notebook</a>'\n",
              "            + ' to learn more about interactive tables.';\n",
              "          element.innerHTML = '';\n",
              "          dataTable['output_type'] = 'display_data';\n",
              "          await google.colab.output.renderOutput(dataTable, element);\n",
              "          const docLink = document.createElement('div');\n",
              "          docLink.innerHTML = docLinkHtml;\n",
              "          element.appendChild(docLink);\n",
              "        }\n",
              "      </script>\n",
              "    </div>\n",
              "  </div>\n",
              "  "
            ]
          },
          "metadata": {},
          "execution_count": 13
        }
      ]
    },
    {
      "cell_type": "markdown",
      "metadata": {
        "id": "VIt03PA6J0dh"
      },
      "source": [
        "5. sklearn에 model_selection 부분 속 KFold를 불러와보세요"
      ]
    },
    {
      "cell_type": "code",
      "metadata": {
        "id": "wwBMhwuuJV7A"
      },
      "source": [
        "from sklearn.model_selection import KFold"
      ],
      "execution_count": 14,
      "outputs": []
    },
    {
      "cell_type": "markdown",
      "metadata": {
        "id": "Pwyd6UpCJ6fN"
      },
      "source": [
        "6. KFold에 n_splits = 5, shuffle = True, random_state = 0이라는 인자를 추가해 \"kf\"라는 변수에 저장해보세요"
      ]
    },
    {
      "cell_type": "code",
      "metadata": {
        "id": "nGFgARMpJ9aL"
      },
      "source": [
        "kf = KFold(n_splits = 5, shuffle = True, random_state = 0)"
      ],
      "execution_count": 15,
      "outputs": []
    },
    {
      "cell_type": "markdown",
      "metadata": {
        "id": "nToxKqtxKEBS"
      },
      "source": [
        "7. 반복문을 통해서 1번부터 5번까지의 데이터에 접근해보세요 (추가문제입니다. 꼭 풀 필요는 없되 답지를 참고해주세요.)"
      ]
    },
    {
      "cell_type": "code",
      "source": [
        "n_iter=0\n",
        "for train_index, test_index in kf.split(train):\n",
        "    train_set = train.iloc[train_index]\n",
        "    test_set = train.iloc[test_index]\n",
        "    n_iter += 1\n",
        "print(\"#{0}번 교차검증 train 데이터: {1}\".format(n_iter,train_set))\n",
        "print(\"#{0}번 교차검증 test 데이터: {1}\".format(n_iter,test_set))"
      ],
      "metadata": {
        "colab": {
          "base_uri": "https://localhost:8080/"
        },
        "id": "XvqONaGG_LRn",
        "outputId": "c853918a-b222-4412-cf95-cd694250a536"
      },
      "execution_count": 18,
      "outputs": [
        {
          "output_type": "stream",
          "name": "stdout",
          "text": [
            "#5번 교차검증 train 데이터:       index  quality  fixed acidity  volatile acidity  citric acid  \\\n",
            "1         1        5            8.8              0.61         0.14   \n",
            "2         2        5            7.9              0.21         0.39   \n",
            "3         3        6            7.0              0.21         0.31   \n",
            "4         4        6            7.8              0.40         0.26   \n",
            "5         5        6            6.0              0.19         0.37   \n",
            "...     ...      ...            ...               ...          ...   \n",
            "5490   5490        6           11.1              0.45         0.73   \n",
            "5492   5492        5            7.7              0.15         0.29   \n",
            "5493   5493        6            6.3              0.18         0.36   \n",
            "5495   5495        5            6.6              0.41         0.31   \n",
            "5496   5496        6            7.0              0.35         0.17   \n",
            "\n",
            "      residual sugar  chlorides  free sulfur dioxide  total sulfur dioxide  \\\n",
            "1                2.4      0.067                 10.0                  42.0   \n",
            "2                2.0      0.057                 21.0                 138.0   \n",
            "3                6.0      0.046                 29.0                 108.0   \n",
            "4                9.5      0.059                 32.0                 178.0   \n",
            "5                9.7      0.032                 17.0                  50.0   \n",
            "...              ...        ...                  ...                   ...   \n",
            "5490             3.2      0.066                  6.0                  22.0   \n",
            "5492             1.3      0.029                 10.0                  64.0   \n",
            "5493             1.2      0.034                 26.0                 111.0   \n",
            "5495             1.6      0.042                 18.0                 101.0   \n",
            "5496             1.1      0.049                  7.0                 119.0   \n",
            "\n",
            "      density    pH  sulphates  alcohol  Scaled fixed acidity  x0_red  \\\n",
            "1     0.99690  3.19       0.59      9.5              0.413223     1.0   \n",
            "2     0.99176  3.05       0.52     10.9              0.338843     0.0   \n",
            "3     0.99390  3.26       0.50     10.8              0.264463     0.0   \n",
            "4     0.99550  3.04       0.43     10.9              0.330579     0.0   \n",
            "5     0.99320  3.08       0.66     12.0              0.181818     0.0   \n",
            "...       ...   ...        ...      ...                   ...     ...   \n",
            "5490  0.99860  3.17       0.66     11.2              0.603306     1.0   \n",
            "5492  0.99320  3.35       0.39     10.1              0.322314     0.0   \n",
            "5493  0.99074  3.16       0.51     11.0              0.206612     0.0   \n",
            "5495  0.99195  3.13       0.41     10.5              0.231405     0.0   \n",
            "5496  0.99297  3.13       0.36      9.7              0.264463     0.0   \n",
            "\n",
            "      x0_white  \n",
            "1          0.0  \n",
            "2          1.0  \n",
            "3          1.0  \n",
            "4          1.0  \n",
            "5          1.0  \n",
            "...        ...  \n",
            "5490       0.0  \n",
            "5492       1.0  \n",
            "5493       1.0  \n",
            "5495       1.0  \n",
            "5496       1.0  \n",
            "\n",
            "[4398 rows x 16 columns]\n",
            "#5번 교차검증 test 데이터:       index  quality  fixed acidity  volatile acidity  citric acid  \\\n",
            "0         0        5            5.6             0.695         0.06   \n",
            "7         7        6            7.1             0.380         0.42   \n",
            "21       21        5            7.2             0.560         0.26   \n",
            "24       24        5            8.9             0.750         0.14   \n",
            "25       25        8            6.6             0.290         0.31   \n",
            "...     ...      ...            ...               ...          ...   \n",
            "5482   5482        4            6.2             0.430         0.49   \n",
            "5483   5483        6            9.6             0.560         0.31   \n",
            "5488   5488        5            7.6             0.270         0.32   \n",
            "5491   5491        7            6.9             0.340         0.30   \n",
            "5494   5494        7            7.8             0.150         0.34   \n",
            "\n",
            "      residual sugar  chlorides  free sulfur dioxide  total sulfur dioxide  \\\n",
            "0                6.8      0.042                  9.0                  84.0   \n",
            "7               11.8      0.041                 32.0                 193.0   \n",
            "21               2.0      0.083                 13.0                 100.0   \n",
            "24               2.5      0.086                  9.0                  30.0   \n",
            "25               3.9      0.027                 39.0                  96.0   \n",
            "...              ...        ...                  ...                   ...   \n",
            "5482             6.4      0.045                 12.0                 115.0   \n",
            "5483             2.8      0.089                 15.0                  46.0   \n",
            "5488             1.2      0.043                 23.0                  72.0   \n",
            "5491             4.7      0.029                 34.0                 148.0   \n",
            "5494             1.1      0.035                 31.0                  93.0   \n",
            "\n",
            "      density    pH  sulphates  alcohol  Scaled fixed acidity  x0_red  \\\n",
            "0     0.99432  3.44       0.44     10.2              0.148760     0.0   \n",
            "7     0.99624  3.04       0.49     10.0              0.272727     0.0   \n",
            "21    0.99586  3.26       0.52      9.9              0.280992     1.0   \n",
            "24    0.99824  3.34       0.64     10.5              0.421488     1.0   \n",
            "25    0.99035  3.24       0.60     12.6              0.231405     0.0   \n",
            "...       ...   ...        ...      ...                   ...     ...   \n",
            "5482  0.99630  3.27       0.57      9.0              0.198347     0.0   \n",
            "5483  0.99790  3.11       0.92     10.0              0.479339     1.0   \n",
            "5488  0.99236  3.06       0.68     10.5              0.314050     0.0   \n",
            "5491  0.99165  3.36       0.49     12.3              0.256198     0.0   \n",
            "5494  0.99096  3.07       0.72     11.3              0.330579     0.0   \n",
            "\n",
            "      x0_white  \n",
            "0          1.0  \n",
            "7          1.0  \n",
            "21         0.0  \n",
            "24         0.0  \n",
            "25         1.0  \n",
            "...        ...  \n",
            "5482       1.0  \n",
            "5483       0.0  \n",
            "5488       1.0  \n",
            "5491       1.0  \n",
            "5494       1.0  \n",
            "\n",
            "[1099 rows x 16 columns]\n"
          ]
        }
      ]
    },
    {
      "cell_type": "code",
      "source": [
        "for train_idx, valid_idx in kf.split(train) :\n",
        "  train_data = train.iloc[train_idx]\n",
        "  valid_data = train.iloc[valid_idx]\n",
        "\n",
        "import matplotlib.pyplot as plt\n",
        "\n",
        "kf = KFold(n_splits = 5, shuffle = False)\n",
        "train_idx_store = []\n",
        "valid_idx_store = []\n",
        "\n",
        "i = 1\n",
        "for train_idx, valid_idx in kf.split(train) :\n",
        "  plt.scatter(valid_idx, [i for x in range(len(valid_idx))], alpha = 0.1)\n",
        "  i += 1\n",
        "plt.show()\n",
        "\n",
        "\n",
        "## 아래의 이미지는 shuffle = False로 했을 때, 데이터가 겹치지 않게 순서대로 쪼개지는 것을 볼 수 있습니다."
      ],
      "metadata": {
        "colab": {
          "base_uri": "https://localhost:8080/",
          "height": 265
        },
        "id": "PwCfTKxlFZa3",
        "outputId": "ba106613-491a-4bdd-e64c-c33b9b1f6362"
      },
      "execution_count": 23,
      "outputs": [
        {
          "output_type": "display_data",
          "data": {
            "text/plain": [
              "<Figure size 432x288 with 1 Axes>"
            ],
            "image/png": "[encoded data removed]"
          },
          "metadata": {
            "needs_background": "light"
          }
        }
      ]
    },
    {
      "cell_type": "code",
      "source": [
        ""
      ],
      "metadata": {
        "id": "NQ_2IEOYcW6d"
      },
      "execution_count": null,
      "outputs": []
    }
  ]
}