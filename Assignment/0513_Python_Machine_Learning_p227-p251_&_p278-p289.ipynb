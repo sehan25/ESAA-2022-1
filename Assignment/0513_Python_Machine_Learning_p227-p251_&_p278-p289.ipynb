{
  "nbformat": 4,
  "nbformat_minor": 0,
  "metadata": {
    "colab": {
      "name": "0513_Python_Machine_Learning_p227-p251 & p278-p289.ipynb",
      "provenance": [],
      "collapsed_sections": [],
      "authorship_tag": "ABX9TyNnz3mNt+lkgd2euuwmyGty",
      "include_colab_link": true
    },
    "kernelspec": {
      "name": "python3",
      "display_name": "Python 3"
    },
    "language_info": {
      "name": "python"
    }
  },
  "cells": [
    {
      "cell_type": "markdown",
      "metadata": {
        "id": "view-in-github",
        "colab_type": "text"
      },
      "source": [
        "<a href=\"https://colab.research.google.com/github/sehan25/ESAA-2022-1/blob/main/Assignment/0513_Python_Machine_Learning_p227-p251_%26_p278-p289.ipynb\" target=\"_parent\"><img src=\"https://colab.research.google.com/assets/colab-badge.svg\" alt=\"Open In Colab\"/></a>"
      ]
    },
    {
      "cell_type": "markdown",
      "source": [
        "## **06. XGBoost(eXtra Gradient Boost)**\n",
        "---\n",
        "\n",
        "- XGBoost는 트리 기반의 앙상블 학습에서 가장 각광받고 있는 알고리즘 중 하나이다.\n",
        "- XGBoost의 주요 장점\n",
        "    - 뛰어난 예측 성능\n",
        "        - 일반적으로 분류와 회귀 영역에서 뛰어난 예측 성능을 발휘\n",
        "    - GBM 대비 빠른 수행 시간\n",
        "        - XGBoost는 병렬 CPU 환경에서 병렬 학습이 가능해 기존 GBM보다 빠르게 학습 완료 가능\n",
        "    - 과적합 규제(Regularization)\n",
        "        - 표준 GBM의 경우 과적합 규제 기능이 없으나 XGBoost는 자체에 과적합 규제 기능으로 좀 더 강한 내구성 가지기 가능\n",
        "    - Tree pruning(나무 가지치기)\n",
        "        - GBM과 마찬가지로 XGBoosts max_depth 파라미터로 분할 깊이를 조정하기도 하지만, tree pruning으로 더 이상 긍정 이득이 없는 분할을 가지치기 해서 분할 수를 더 줄이기 가능\n",
        "    - 자체 내장된 교차 검증\n",
        "        - XGBoost는 반복 수행 시마다 내부적으로 학습 데이터 세트와 평가 데이터 세트에 대한 교차 검증을 수행해 최적화된 반복 수행 횟수 가질 수 있으며 조기 중단 기능 존재\n",
        "    - 결손값 자체 처리 기능\n",
        "- xgboost 패키지 내에는 XGBoost 전용의 파이썬 패키지와 사이킷런과 호환되는 래퍼용 XG Boost 가 함께 존재한다.\n",
        "- xgboost 패키지에서 사이킷런과 연동할 수 있는 사이킷런 래퍼 클래스는 XGBClassifier와 XGBRegressor\n",
        "    - 이를 이용하면 사이킷런 estimator가 학습을 위해 사용하는 `fit()`와 `predict()`와 같은 표준 사이킷런 개발 프로세스 및 다양한 유틸리티 활용 가능\n"
      ],
      "metadata": {
        "id": "U6RWQnRCrmKs"
      }
    },
    {
      "cell_type": "markdown",
      "source": [
        "> ### XGBoost 설치하기\n",
        "> ---\n",
        "\n",
        "```\n",
        "conda install -c anaconda py-xgboost\n",
        "```\n",
        "\n"
      ],
      "metadata": {
        "id": "OA1lE4dvwY9m"
      }
    },
    {
      "cell_type": "markdown",
      "source": [
        "> ### 파이썬 래퍼 XGBoost 하이퍼 파라미터\n",
        "> ---\n",
        "\n",
        "- XGBoost는 GBM과 유사한 하이퍼 파라미터를 동일하게 가지고 있으며, 여기에 조기 중단(early stopping), 과적합을 규제하기 위한 하이퍼 파라미 터 등이 추가되었다.\n",
        "- 파이썬 래퍼 XGBoost 모듈과 사이킷런 래퍼 XGBoost 모듈의 일부 하이퍼 파라미터는 약간 다르므 로 이에 대한 주의가 필요하다.\n",
        "- 파이썬 래퍼 XGBoost 하이퍼 파라미터 유형\n",
        "    - 일반 파라미터: 일반적으로 실행 시 스레드의 개수나 silent 모드 등의 선택을 위한 파라미터로서 디폴트 파라미터 값을 바꾸는 경우는 거의 없음\n",
        "        - 예) `booster`, `silent`, `nthread`\n",
        "    - 부스터 파라미터: 트리 최적화, 부스팅, regularization 등과 관련 파라미터 등을 지칭\n",
        "        - 예) `eta [default=0.3, alias: learning_rate]`, `num_boost_rounds`, `min_child_weight[default=1]`, `gamma [default=0, alias: min_split_loss]`, `max_depth[default=6]`, `sub_samples[default=1]`, `colsample_bytree [default=1]`, `lambda [default=1, alias: reg_lambda]`, `alpha [default=0, alias: reg_alpha]`, `scale_pos_weight [default=1]`\n",
        "    - 학습 태스크 파라미터: 학습 수행 시의 객체 함수, 평가를 위한 지표 등을 설정\n",
        "        - 예) `objective`, `binary:logistic`, `multi:softmax`, `multi:softprob`, `eval_metric`\n",
        "            - `eval_metric`의 값 유형 - `rmse`(회귀 기본값), `mae`, `logloss`, `error`(분류 기본값), `merror`, `mlogloss`, `auc`\n",
        "- 뛰어난 알고리즘일수록 파라미터 튜닝할 필요가 적고 파라미터 튜닝에 들이는 공수 대비 성능 향상 효과가 높지 않는 경우가 대부분이다.\n",
        "- XGBoost 자체적으로 교차 검증, 성능 평가, 피처 중요도 등의 시각화 기능 가지고 있다.\n",
        "- 기본 GBM에서 부족한 다른 여러 가지 성능 향상 기능도 있다.\n",
        "    - 수행 속도를 향상시키기 위한 대표적인 기능으로 조기 중단(Early Stopping)"
      ],
      "metadata": {
        "id": "CZq-yQ9rwlcR"
      }
    },
    {
      "cell_type": "code",
      "execution_count": 1,
      "metadata": {
        "colab": {
          "base_uri": "https://localhost:8080/"
        },
        "id": "6iV_PrM0pXJp",
        "outputId": "c8588c94-16a0-4e26-871c-ede6b6745f16"
      },
      "outputs": [
        {
          "output_type": "stream",
          "name": "stdout",
          "text": [
            "0.90\n"
          ]
        }
      ],
      "source": [
        "import xgboost\n",
        "\n",
        "print(xgboost.__version__)"
      ]
    },
    {
      "cell_type": "markdown",
      "source": [
        "> ### 파이썬 래퍼 XGBoost 적용 - 위스콘신 유방암 예측\n",
        "> ---\n",
        "\n",
        "위스콘신 유방암 데이터 세트: 종양의 크기, 모양 등의 다양한 속성값을 기반으로 악성 종양(malignant)인지 양성 종양(benign)인지를 분류한 데이터 세트  \n",
        "\n",
        "*위스콘신 유방암 데이터 세트에 기반해 종양의 다양한 피처에 따라 악성종양인지 일반 양성종양인지를 XGBoost를 이용해 예측해 보기*\n",
        "- xgboost 모듈 로딩"
      ],
      "metadata": {
        "id": "KE8m0nU-zuon"
      }
    },
    {
      "cell_type": "code",
      "source": [
        "## 필요한 모듈, 데이터 로딩\n",
        "\n",
        "import xgboost as xgb\n",
        "from xgboost import plot_importance #피처의 중요도 시각화 모듈\n",
        "import pandas as pd\n",
        "import numpy as np\n",
        "from sklearn.datasets import load_breast_cancer\n",
        "from sklearn.model_selection import train_test_split\n",
        "import warnings\n",
        "warnings.filterwarnings('ignore')\n",
        "\n",
        "dataset = load_breast_cancer()\n",
        "X_features = dataset.data\n",
        "y_label = dataset.target\n",
        "\n",
        "cancer_df = pd.DataFrame(data=X_features, columns=dataset.feature_names)\n",
        "cancer_df['target'] = y_label\n",
        "cancer_df.head(3)"
      ],
      "metadata": {
        "colab": {
          "base_uri": "https://localhost:8080/",
          "height": 271
        },
        "id": "MvAQBl6-zri5",
        "outputId": "15674550-8576-4d1b-9188-e475ed3d6eb4"
      },
      "execution_count": 2,
      "outputs": [
        {
          "output_type": "execute_result",
          "data": {
            "text/plain": [
              "   mean radius  mean texture  mean perimeter  mean area  mean smoothness  \\\n",
              "0        17.99         10.38           122.8     1001.0          0.11840   \n",
              "1        20.57         17.77           132.9     1326.0          0.08474   \n",
              "2        19.69         21.25           130.0     1203.0          0.10960   \n",
              "\n",
              "   mean compactness  mean concavity  mean concave points  mean symmetry  \\\n",
              "0           0.27760          0.3001              0.14710         0.2419   \n",
              "1           0.07864          0.0869              0.07017         0.1812   \n",
              "2           0.15990          0.1974              0.12790         0.2069   \n",
              "\n",
              "   mean fractal dimension  ...  worst texture  worst perimeter  worst area  \\\n",
              "0                 0.07871  ...          17.33            184.6      2019.0   \n",
              "1                 0.05667  ...          23.41            158.8      1956.0   \n",
              "2                 0.05999  ...          25.53            152.5      1709.0   \n",
              "\n",
              "   worst smoothness  worst compactness  worst concavity  worst concave points  \\\n",
              "0            0.1622             0.6656           0.7119                0.2654   \n",
              "1            0.1238             0.1866           0.2416                0.1860   \n",
              "2            0.1444             0.4245           0.4504                0.2430   \n",
              "\n",
              "   worst symmetry  worst fractal dimension  target  \n",
              "0          0.4601                  0.11890       0  \n",
              "1          0.2750                  0.08902       0  \n",
              "2          0.3613                  0.08758       0  \n",
              "\n",
              "[3 rows x 31 columns]"
            ],
            "text/html": [
              "\n",
              "  <div id=\"df-f4cf237b-60f2-4d75-a7c0-36865a520e7d\">\n",
              "    <div class=\"colab-df-container\">\n",
              "      <div>\n",
              "<style scoped>\n",
              "    .dataframe tbody tr th:only-of-type {\n",
              "        vertical-align: middle;\n",
              "    }\n",
              "\n",
              "    .dataframe tbody tr th {\n",
              "        vertical-align: top;\n",
              "    }\n",
              "\n",
              "    .dataframe thead th {\n",
              "        text-align: right;\n",
              "    }\n",
              "</style>\n",
              "<table border=\"1\" class=\"dataframe\">\n",
              "  <thead>\n",
              "    <tr style=\"text-align: right;\">\n",
              "      <th></th>\n",
              "      <th>mean radius</th>\n",
              "      <th>mean texture</th>\n",
              "      <th>mean perimeter</th>\n",
              "      <th>mean area</th>\n",
              "      <th>mean smoothness</th>\n",
              "      <th>mean compactness</th>\n",
              "      <th>mean concavity</th>\n",
              "      <th>mean concave points</th>\n",
              "      <th>mean symmetry</th>\n",
              "      <th>mean fractal dimension</th>\n",
              "      <th>...</th>\n",
              "      <th>worst texture</th>\n",
              "      <th>worst perimeter</th>\n",
              "      <th>worst area</th>\n",
              "      <th>worst smoothness</th>\n",
              "      <th>worst compactness</th>\n",
              "      <th>worst concavity</th>\n",
              "      <th>worst concave points</th>\n",
              "      <th>worst symmetry</th>\n",
              "      <th>worst fractal dimension</th>\n",
              "      <th>target</th>\n",
              "    </tr>\n",
              "  </thead>\n",
              "  <tbody>\n",
              "    <tr>\n",
              "      <th>0</th>\n",
              "      <td>17.99</td>\n",
              "      <td>10.38</td>\n",
              "      <td>122.8</td>\n",
              "      <td>1001.0</td>\n",
              "      <td>0.11840</td>\n",
              "      <td>0.27760</td>\n",
              "      <td>0.3001</td>\n",
              "      <td>0.14710</td>\n",
              "      <td>0.2419</td>\n",
              "      <td>0.07871</td>\n",
              "      <td>...</td>\n",
              "      <td>17.33</td>\n",
              "      <td>184.6</td>\n",
              "      <td>2019.0</td>\n",
              "      <td>0.1622</td>\n",
              "      <td>0.6656</td>\n",
              "      <td>0.7119</td>\n",
              "      <td>0.2654</td>\n",
              "      <td>0.4601</td>\n",
              "      <td>0.11890</td>\n",
              "      <td>0</td>\n",
              "    </tr>\n",
              "    <tr>\n",
              "      <th>1</th>\n",
              "      <td>20.57</td>\n",
              "      <td>17.77</td>\n",
              "      <td>132.9</td>\n",
              "      <td>1326.0</td>\n",
              "      <td>0.08474</td>\n",
              "      <td>0.07864</td>\n",
              "      <td>0.0869</td>\n",
              "      <td>0.07017</td>\n",
              "      <td>0.1812</td>\n",
              "      <td>0.05667</td>\n",
              "      <td>...</td>\n",
              "      <td>23.41</td>\n",
              "      <td>158.8</td>\n",
              "      <td>1956.0</td>\n",
              "      <td>0.1238</td>\n",
              "      <td>0.1866</td>\n",
              "      <td>0.2416</td>\n",
              "      <td>0.1860</td>\n",
              "      <td>0.2750</td>\n",
              "      <td>0.08902</td>\n",
              "      <td>0</td>\n",
              "    </tr>\n",
              "    <tr>\n",
              "      <th>2</th>\n",
              "      <td>19.69</td>\n",
              "      <td>21.25</td>\n",
              "      <td>130.0</td>\n",
              "      <td>1203.0</td>\n",
              "      <td>0.10960</td>\n",
              "      <td>0.15990</td>\n",
              "      <td>0.1974</td>\n",
              "      <td>0.12790</td>\n",
              "      <td>0.2069</td>\n",
              "      <td>0.05999</td>\n",
              "      <td>...</td>\n",
              "      <td>25.53</td>\n",
              "      <td>152.5</td>\n",
              "      <td>1709.0</td>\n",
              "      <td>0.1444</td>\n",
              "      <td>0.4245</td>\n",
              "      <td>0.4504</td>\n",
              "      <td>0.2430</td>\n",
              "      <td>0.3613</td>\n",
              "      <td>0.08758</td>\n",
              "      <td>0</td>\n",
              "    </tr>\n",
              "  </tbody>\n",
              "</table>\n",
              "<p>3 rows × 31 columns</p>\n",
              "</div>\n",
              "      <button class=\"colab-df-convert\" onclick=\"convertToInteractive('df-f4cf237b-60f2-4d75-a7c0-36865a520e7d')\"\n",
              "              title=\"Convert this dataframe to an interactive table.\"\n",
              "              style=\"display:none;\">\n",
              "        \n",
              "  <svg xmlns=\"http://www.w3.org/2000/svg\" height=\"24px\"viewBox=\"0 0 24 24\"\n",
              "       width=\"24px\">\n",
              "    <path d=\"M0 0h24v24H0V0z\" fill=\"none\"/>\n",
              "    <path d=\"M18.56 5.44l.94 2.06.94-2.06 2.06-.94-2.06-.94-.94-2.06-.94 2.06-2.06.94zm-11 1L8.5 8.5l.94-2.06 2.06-.94-2.06-.94L8.5 2.5l-.94 2.06-2.06.94zm10 10l.94 2.06.94-2.06 2.06-.94-2.06-.94-.94-2.06-.94 2.06-2.06.94z\"/><path d=\"M17.41 7.96l-1.37-1.37c-.4-.4-.92-.59-1.43-.59-.52 0-1.04.2-1.43.59L10.3 9.45l-7.72 7.72c-.78.78-.78 2.05 0 2.83L4 21.41c.39.39.9.59 1.41.59.51 0 1.02-.2 1.41-.59l7.78-7.78 2.81-2.81c.8-.78.8-2.07 0-2.86zM5.41 20L4 18.59l7.72-7.72 1.47 1.35L5.41 20z\"/>\n",
              "  </svg>\n",
              "      </button>\n",
              "      \n",
              "  <style>\n",
              "    .colab-df-container {\n",
              "      display:flex;\n",
              "      flex-wrap:wrap;\n",
              "      gap: 12px;\n",
              "    }\n",
              "\n",
              "    .colab-df-convert {\n",
              "      background-color: #E8F0FE;\n",
              "      border: none;\n",
              "      border-radius: 50%;\n",
              "      cursor: pointer;\n",
              "      display: none;\n",
              "      fill: #1967D2;\n",
              "      height: 32px;\n",
              "      padding: 0 0 0 0;\n",
              "      width: 32px;\n",
              "    }\n",
              "\n",
              "    .colab-df-convert:hover {\n",
              "      background-color: #E2EBFA;\n",
              "      box-shadow: 0px 1px 2px rgba(60, 64, 67, 0.3), 0px 1px 3px 1px rgba(60, 64, 67, 0.15);\n",
              "      fill: #174EA6;\n",
              "    }\n",
              "\n",
              "    [theme=dark] .colab-df-convert {\n",
              "      background-color: #3B4455;\n",
              "      fill: #D2E3FC;\n",
              "    }\n",
              "\n",
              "    [theme=dark] .colab-df-convert:hover {\n",
              "      background-color: #434B5C;\n",
              "      box-shadow: 0px 1px 3px 1px rgba(0, 0, 0, 0.15);\n",
              "      filter: drop-shadow(0px 1px 2px rgba(0, 0, 0, 0.3));\n",
              "      fill: #FFFFFF;\n",
              "    }\n",
              "  </style>\n",
              "\n",
              "      <script>\n",
              "        const buttonEl =\n",
              "          document.querySelector('#df-f4cf237b-60f2-4d75-a7c0-36865a520e7d button.colab-df-convert');\n",
              "        buttonEl.style.display =\n",
              "          google.colab.kernel.accessAllowed ? 'block' : 'none';\n",
              "\n",
              "        async function convertToInteractive(key) {\n",
              "          const element = document.querySelector('#df-f4cf237b-60f2-4d75-a7c0-36865a520e7d');\n",
              "          const dataTable =\n",
              "            await google.colab.kernel.invokeFunction('convertToInteractive',\n",
              "                                                     [key], {});\n",
              "          if (!dataTable) return;\n",
              "\n",
              "          const docLinkHtml = 'Like what you see? Visit the ' +\n",
              "            '<a target=\"_blank\" href=https://colab.research.google.com/notebooks/data_table.ipynb>data table notebook</a>'\n",
              "            + ' to learn more about interactive tables.';\n",
              "          element.innerHTML = '';\n",
              "          dataTable['output_type'] = 'display_data';\n",
              "          await google.colab.output.renderOutput(dataTable, element);\n",
              "          const docLink = document.createElement('div');\n",
              "          docLink.innerHTML = docLinkHtml;\n",
              "          element.appendChild(docLink);\n",
              "        }\n",
              "      </script>\n",
              "    </div>\n",
              "  </div>\n",
              "  "
            ]
          },
          "metadata": {},
          "execution_count": 2
        }
      ]
    },
    {
      "cell_type": "markdown",
      "source": [
        "    타깃 레이블 값의 종류는 악성인 'malignant'가 0 값으로, 양성인 'benign'이 1값으로 되어 있음.\n",
        "\n",
        "- 레이블 값 분포 확인"
      ],
      "metadata": {
        "id": "7IKUEgZS1LGi"
      }
    },
    {
      "cell_type": "code",
      "source": [
        "## 레이블 값 분포 확인\n",
        "\n",
        "print(dataset.target_names)\n",
        "print(cancer_df['target'].value_counts())"
      ],
      "metadata": {
        "colab": {
          "base_uri": "https://localhost:8080/"
        },
        "id": "bG6gwib403qR",
        "outputId": "ae587d95-3428-4978-8c9c-69edf8778c88"
      },
      "execution_count": 3,
      "outputs": [
        {
          "output_type": "stream",
          "name": "stdout",
          "text": [
            "['malignant' 'benign']\n",
            "1    357\n",
            "0    212\n",
            "Name: target, dtype: int64\n"
          ]
        }
      ]
    },
    {
      "cell_type": "markdown",
      "source": [
        "- 전체 데이터 세트 중 80%를 학습용으로, 20%를 테스트용으로 분할"
      ],
      "metadata": {
        "id": "HXua0F9I1bYo"
      }
    },
    {
      "cell_type": "code",
      "source": [
        "## 데이터 분할\n",
        "\n",
        "# 전체 데이터 중 80%는 학습용 데이터, 20%는 테스트용 데이터 추출\n",
        "X_train, X_test, y_train, y_test = train_test_split(X_features, y_label,\n",
        "                                                    test_size=0.2, random_state=156)\n",
        "print(X_train.shape, X_test.shape)"
      ],
      "metadata": {
        "colab": {
          "base_uri": "https://localhost:8080/"
        },
        "id": "vcbbYBaT1anD",
        "outputId": "9a13107b-462c-4ab2-8a85-00dc3413e83a"
      },
      "execution_count": 4,
      "outputs": [
        {
          "output_type": "stream",
          "name": "stdout",
          "text": [
            "(455, 30) (114, 30)\n"
          ]
        }
      ]
    },
    {
      "cell_type": "markdown",
      "source": [
        "- 넘파이 형태의 학습 데이터 세트와 테스트 데이터 세트를 DMatrix로 변환\n",
        "    - 파이썬 래퍼 XGBoost는 사이킷런과 차이가 여러 가지 있지만, 먼저 눈에 띄는 차이는 학습용과 테스트용 데이터 세트를 위해 별도의 객체인 DMatrix를 생성한다는 점이다.\n",
        "    - DMatrix: 주로 넘파이 입력 파라미터를 받아서 만들어지는 XGBoost만의 전용 데이터 세트  \n",
        "    주요 입력 파라미터: data, label\n",
        "        - data: 피처 데이터 세트\n",
        "        - label: 분류의 경우) 레이블 데이터 세트, 회귀의 경우) 숫자형인 종속값 데이터 세트"
      ],
      "metadata": {
        "id": "h0NYxXRRYsU-"
      }
    },
    {
      "cell_type": "code",
      "source": [
        "## 넘파이 형태의 학습 데이터 세트와 테스트 데이터 세트를 DMatrix로 변환\n",
        "\n",
        "dtrain = xgb. DMatrix(data=X_train, label=y_train)\n",
        "dtest = xgb.DMatrix(data=X_test, label=y_test)"
      ],
      "metadata": {
        "id": "fbTAMAZD1xdR"
      },
      "execution_count": 5,
      "outputs": []
    },
    {
      "cell_type": "markdown",
      "source": [
        "- XGBoost의 하이퍼 파라미터 설정\n",
        "    - 파이썬 래퍼 XGBoost 모듈인 xgboost를 이용해 학습을 수행하기 전에 하이퍼 파라미터 설정\n",
        "    - 주로 딕셔너리 형태로 입력\n",
        "        - max_depth(트리 최대 깊이)는 3\n",
        "        - 학습률 eta는 0.1(XGBClassifier)를 사용할 경우 eta가 아니라 learning_rate)\n",
        "        - 예제 데이터가 0 또는 1 이진 분류이므로 목적함수(objective)는 아진 로지스틱(binary:logistic)\n",
        "        - 오류 함수의 평가 성능 지표는 logloss\n",
        "        - num_rounds(부스팅 반복 횟수)는 400회"
      ],
      "metadata": {
        "id": "b4XxHGfQaFIx"
      }
    },
    {
      "cell_type": "code",
      "source": [
        "## 하이퍼 파라미터 설정\n",
        "\n",
        "params = { 'max_depth':3,\n",
        "           'eta': 0.1,\n",
        "           'objective': 'binary:logistic',\n",
        "           'eval_metric': 'logloss',\n",
        "           'early_stoppings': 100\n",
        "          }\n",
        "num_rounds = 400"
      ],
      "metadata": {
        "id": "d80jB_aLaEX_"
      },
      "execution_count": 6,
      "outputs": []
    },
    {
      "cell_type": "markdown",
      "source": [
        "- 지정된 하이퍼 파라미터로 XGBoost 모델 학습\n",
        "    - 파이썬 래퍼 XGBoost는 하이퍼 파라미터를 xgboost 모듈의 `train()` 함수에 파라미터로 전달  \n",
        "    (사이킷런의 경우는 Estimator의 생성자를 하이퍼 파라미터로 전달)\n",
        "    - 조기 중단은 xgboost의 `train()` 함수에 `early_stopping_rounds` 파라미터를 입력하여 설정\n",
        "        - `early_stopping_rounds` 파라미터를 설정해 조기 중단을 수행하기 위해서는 반드시 `eval_set`과 `eval_ metric`이 함께 설정되어야 함\n",
        "        - Xgboost는 반복마다 `eval set`으로 지정된 데이터 세트에서 `eval_ metric`의 지정된 평가 지표로 예측 오류를 측정\n",
        "            - `eval_set`: 성능 평가를 수행할 평가용 데이터 세트 설정\n",
        "            - `eval_metric`: 평가 세트에 적용할 성능 평가 방법. 분류일 경우 주로 '`error`'(분류 오류), '`logloss`' 적용"
      ],
      "metadata": {
        "id": "l4LSZivibKI4"
      }
    },
    {
      "cell_type": "code",
      "source": [
        "## XGBoost 모델 학습 (조기 중단 최소 반복 횟수를 100으로 설정)\n",
        "\n",
        "# train 데이터 세트는 'train', evaluation(test) 데이터 세트는 'eval'로 명기\n",
        "wlist = [(dtrain, 'train'), (dtest, 'eval')]\n",
        "\n",
        "# 하이퍼 파라미터와 early stopping 파라미터를 train() 함수의 파라미터로 전달\n",
        "xgb_model = xgb.train(params=params, dtrain=dtrain, num_boost_round=num_rounds, \\\n",
        "                      early_stopping_rounds=100, evals=wlist)"
      ],
      "metadata": {
        "colab": {
          "base_uri": "https://localhost:8080/"
        },
        "id": "-Ed-D0fmawOL",
        "outputId": "041155cb-152b-42cb-f5b7-375b27797347"
      },
      "execution_count": 7,
      "outputs": [
        {
          "output_type": "stream",
          "name": "stdout",
          "text": [
            "[0]\ttrain-logloss:0.609688\teval-logloss:0.61352\n",
            "Multiple eval metrics have been passed: 'eval-logloss' will be used for early stopping.\n",
            "\n",
            "Will train until eval-logloss hasn't improved in 100 rounds.\n",
            "[1]\ttrain-logloss:0.540803\teval-logloss:0.547843\n",
            "[2]\ttrain-logloss:0.483753\teval-logloss:0.494248\n",
            "[3]\ttrain-logloss:0.434457\teval-logloss:0.447986\n",
            "[4]\ttrain-logloss:0.39055\teval-logloss:0.409109\n",
            "[5]\ttrain-logloss:0.354146\teval-logloss:0.374977\n",
            "[6]\ttrain-logloss:0.321222\teval-logloss:0.345714\n",
            "[7]\ttrain-logloss:0.292593\teval-logloss:0.320529\n",
            "[8]\ttrain-logloss:0.267467\teval-logloss:0.29721\n",
            "[9]\ttrain-logloss:0.245153\teval-logloss:0.277991\n",
            "[10]\ttrain-logloss:0.225694\teval-logloss:0.260302\n",
            "[11]\ttrain-logloss:0.207938\teval-logloss:0.246037\n",
            "[12]\ttrain-logloss:0.192184\teval-logloss:0.231556\n",
            "[13]\ttrain-logloss:0.177916\teval-logloss:0.22005\n",
            "[14]\ttrain-logloss:0.165222\teval-logloss:0.208572\n",
            "[15]\ttrain-logloss:0.153622\teval-logloss:0.199993\n",
            "[16]\ttrain-logloss:0.14333\teval-logloss:0.190118\n",
            "[17]\ttrain-logloss:0.133985\teval-logloss:0.181818\n",
            "[18]\ttrain-logloss:0.125599\teval-logloss:0.174729\n",
            "[19]\ttrain-logloss:0.117286\teval-logloss:0.167657\n",
            "[20]\ttrain-logloss:0.109688\teval-logloss:0.158202\n",
            "[21]\ttrain-logloss:0.102975\teval-logloss:0.154725\n",
            "[22]\ttrain-logloss:0.097067\teval-logloss:0.148947\n",
            "[23]\ttrain-logloss:0.091428\teval-logloss:0.143308\n",
            "[24]\ttrain-logloss:0.086335\teval-logloss:0.136344\n",
            "[25]\ttrain-logloss:0.081311\teval-logloss:0.132778\n",
            "[26]\ttrain-logloss:0.076857\teval-logloss:0.127912\n",
            "[27]\ttrain-logloss:0.072836\teval-logloss:0.125263\n",
            "[28]\ttrain-logloss:0.069248\teval-logloss:0.119978\n",
            "[29]\ttrain-logloss:0.065549\teval-logloss:0.116412\n",
            "[30]\ttrain-logloss:0.062414\teval-logloss:0.114502\n",
            "[31]\ttrain-logloss:0.059591\teval-logloss:0.112572\n",
            "[32]\ttrain-logloss:0.057096\teval-logloss:0.11154\n",
            "[33]\ttrain-logloss:0.054407\teval-logloss:0.108681\n",
            "[34]\ttrain-logloss:0.052036\teval-logloss:0.106681\n",
            "[35]\ttrain-logloss:0.049751\teval-logloss:0.104207\n",
            "[36]\ttrain-logloss:0.04775\teval-logloss:0.102962\n",
            "[37]\ttrain-logloss:0.045853\teval-logloss:0.100576\n",
            "[38]\ttrain-logloss:0.044015\teval-logloss:0.098683\n",
            "[39]\ttrain-logloss:0.042263\teval-logloss:0.096444\n",
            "[40]\ttrain-logloss:0.040649\teval-logloss:0.095869\n",
            "[41]\ttrain-logloss:0.039126\teval-logloss:0.094242\n",
            "[42]\ttrain-logloss:0.037377\teval-logloss:0.094715\n",
            "[43]\ttrain-logloss:0.036106\teval-logloss:0.094272\n",
            "[44]\ttrain-logloss:0.034941\teval-logloss:0.093894\n",
            "[45]\ttrain-logloss:0.033654\teval-logloss:0.094184\n",
            "[46]\ttrain-logloss:0.032528\teval-logloss:0.09402\n",
            "[47]\ttrain-logloss:0.031485\teval-logloss:0.09236\n",
            "[48]\ttrain-logloss:0.030389\teval-logloss:0.093012\n",
            "[49]\ttrain-logloss:0.029467\teval-logloss:0.091273\n",
            "[50]\ttrain-logloss:0.028545\teval-logloss:0.090051\n",
            "[51]\ttrain-logloss:0.027525\teval-logloss:0.089605\n",
            "[52]\ttrain-logloss:0.026555\teval-logloss:0.089577\n",
            "[53]\ttrain-logloss:0.025682\teval-logloss:0.090703\n",
            "[54]\ttrain-logloss:0.025004\teval-logloss:0.089579\n",
            "[55]\ttrain-logloss:0.024297\teval-logloss:0.090357\n",
            "[56]\ttrain-logloss:0.023574\teval-logloss:0.091587\n",
            "[57]\ttrain-logloss:0.022965\teval-logloss:0.091527\n",
            "[58]\ttrain-logloss:0.022488\teval-logloss:0.091986\n",
            "[59]\ttrain-logloss:0.021854\teval-logloss:0.091951\n",
            "[60]\ttrain-logloss:0.021316\teval-logloss:0.091939\n",
            "[61]\ttrain-logloss:0.020794\teval-logloss:0.091461\n",
            "[62]\ttrain-logloss:0.020218\teval-logloss:0.090311\n",
            "[63]\ttrain-logloss:0.019701\teval-logloss:0.089407\n",
            "[64]\ttrain-logloss:0.01918\teval-logloss:0.089719\n",
            "[65]\ttrain-logloss:0.018724\teval-logloss:0.089743\n",
            "[66]\ttrain-logloss:0.018325\teval-logloss:0.089622\n",
            "[67]\ttrain-logloss:0.017867\teval-logloss:0.088734\n",
            "[68]\ttrain-logloss:0.017598\teval-logloss:0.088621\n",
            "[69]\ttrain-logloss:0.017243\teval-logloss:0.089739\n",
            "[70]\ttrain-logloss:0.01688\teval-logloss:0.089981\n",
            "[71]\ttrain-logloss:0.016641\teval-logloss:0.089782\n",
            "[72]\ttrain-logloss:0.016287\teval-logloss:0.089584\n",
            "[73]\ttrain-logloss:0.015983\teval-logloss:0.089533\n",
            "[74]\ttrain-logloss:0.015658\teval-logloss:0.088748\n",
            "[75]\ttrain-logloss:0.015393\teval-logloss:0.088597\n",
            "[76]\ttrain-logloss:0.015151\teval-logloss:0.08812\n",
            "[77]\ttrain-logloss:0.01488\teval-logloss:0.088396\n",
            "[78]\ttrain-logloss:0.014637\teval-logloss:0.088736\n",
            "[79]\ttrain-logloss:0.014491\teval-logloss:0.088153\n",
            "[80]\ttrain-logloss:0.014185\teval-logloss:0.087577\n",
            "[81]\ttrain-logloss:0.014005\teval-logloss:0.087412\n",
            "[82]\ttrain-logloss:0.013772\teval-logloss:0.08849\n",
            "[83]\ttrain-logloss:0.013568\teval-logloss:0.088575\n",
            "[84]\ttrain-logloss:0.013414\teval-logloss:0.08807\n",
            "[85]\ttrain-logloss:0.013253\teval-logloss:0.087641\n",
            "[86]\ttrain-logloss:0.013109\teval-logloss:0.087416\n",
            "[87]\ttrain-logloss:0.012926\teval-logloss:0.087611\n",
            "[88]\ttrain-logloss:0.012714\teval-logloss:0.087065\n",
            "[89]\ttrain-logloss:0.012544\teval-logloss:0.08727\n",
            "[90]\ttrain-logloss:0.012353\teval-logloss:0.087161\n",
            "[91]\ttrain-logloss:0.012226\teval-logloss:0.086962\n",
            "[92]\ttrain-logloss:0.012065\teval-logloss:0.087166\n",
            "[93]\ttrain-logloss:0.011927\teval-logloss:0.087067\n",
            "[94]\ttrain-logloss:0.011821\teval-logloss:0.086592\n",
            "[95]\ttrain-logloss:0.011649\teval-logloss:0.086116\n",
            "[96]\ttrain-logloss:0.011482\teval-logloss:0.087139\n",
            "[97]\ttrain-logloss:0.01136\teval-logloss:0.086768\n",
            "[98]\ttrain-logloss:0.011239\teval-logloss:0.086694\n",
            "[99]\ttrain-logloss:0.011132\teval-logloss:0.086547\n",
            "[100]\ttrain-logloss:0.011002\teval-logloss:0.086498\n",
            "[101]\ttrain-logloss:0.010852\teval-logloss:0.08641\n",
            "[102]\ttrain-logloss:0.010755\teval-logloss:0.086288\n",
            "[103]\ttrain-logloss:0.010636\teval-logloss:0.086258\n",
            "[104]\ttrain-logloss:0.0105\teval-logloss:0.086835\n",
            "[105]\ttrain-logloss:0.010395\teval-logloss:0.086767\n",
            "[106]\ttrain-logloss:0.010305\teval-logloss:0.087321\n",
            "[107]\ttrain-logloss:0.010197\teval-logloss:0.087304\n",
            "[108]\ttrain-logloss:0.010072\teval-logloss:0.08728\n",
            "[109]\ttrain-logloss:0.01\teval-logloss:0.087298\n",
            "[110]\ttrain-logloss:0.009914\teval-logloss:0.087289\n",
            "[111]\ttrain-logloss:0.009798\teval-logloss:0.088002\n",
            "[112]\ttrain-logloss:0.00971\teval-logloss:0.087936\n",
            "[113]\ttrain-logloss:0.009628\teval-logloss:0.087843\n",
            "[114]\ttrain-logloss:0.009558\teval-logloss:0.088066\n",
            "[115]\ttrain-logloss:0.009483\teval-logloss:0.087649\n",
            "[116]\ttrain-logloss:0.009416\teval-logloss:0.087298\n",
            "[117]\ttrain-logloss:0.009306\teval-logloss:0.087799\n",
            "[118]\ttrain-logloss:0.009228\teval-logloss:0.087751\n",
            "[119]\ttrain-logloss:0.009154\teval-logloss:0.08768\n",
            "[120]\ttrain-logloss:0.009118\teval-logloss:0.087626\n",
            "[121]\ttrain-logloss:0.009016\teval-logloss:0.08757\n",
            "[122]\ttrain-logloss:0.008972\teval-logloss:0.087547\n",
            "[123]\ttrain-logloss:0.008904\teval-logloss:0.087156\n",
            "[124]\ttrain-logloss:0.008837\teval-logloss:0.08767\n",
            "[125]\ttrain-logloss:0.008803\teval-logloss:0.087737\n",
            "[126]\ttrain-logloss:0.008709\teval-logloss:0.088275\n",
            "[127]\ttrain-logloss:0.008645\teval-logloss:0.088309\n",
            "[128]\ttrain-logloss:0.008613\teval-logloss:0.088266\n",
            "[129]\ttrain-logloss:0.008555\teval-logloss:0.087886\n",
            "[130]\ttrain-logloss:0.008463\teval-logloss:0.088861\n",
            "[131]\ttrain-logloss:0.008416\teval-logloss:0.088675\n",
            "[132]\ttrain-logloss:0.008385\teval-logloss:0.088743\n",
            "[133]\ttrain-logloss:0.0083\teval-logloss:0.089218\n",
            "[134]\ttrain-logloss:0.00827\teval-logloss:0.089179\n",
            "[135]\ttrain-logloss:0.008218\teval-logloss:0.088821\n",
            "[136]\ttrain-logloss:0.008157\teval-logloss:0.088512\n",
            "[137]\ttrain-logloss:0.008076\teval-logloss:0.08848\n",
            "[138]\ttrain-logloss:0.008047\teval-logloss:0.088386\n",
            "[139]\ttrain-logloss:0.007973\teval-logloss:0.089145\n",
            "[140]\ttrain-logloss:0.007946\teval-logloss:0.08911\n",
            "[141]\ttrain-logloss:0.007898\teval-logloss:0.088765\n",
            "[142]\ttrain-logloss:0.007872\teval-logloss:0.088678\n",
            "[143]\ttrain-logloss:0.007847\teval-logloss:0.088389\n",
            "[144]\ttrain-logloss:0.007776\teval-logloss:0.089271\n",
            "[145]\ttrain-logloss:0.007752\teval-logloss:0.089238\n",
            "[146]\ttrain-logloss:0.007728\teval-logloss:0.089139\n",
            "[147]\ttrain-logloss:0.007689\teval-logloss:0.088907\n",
            "[148]\ttrain-logloss:0.007621\teval-logloss:0.089416\n",
            "[149]\ttrain-logloss:0.007598\teval-logloss:0.089388\n",
            "[150]\ttrain-logloss:0.007575\teval-logloss:0.089108\n",
            "[151]\ttrain-logloss:0.007521\teval-logloss:0.088735\n",
            "[152]\ttrain-logloss:0.007498\teval-logloss:0.088717\n",
            "[153]\ttrain-logloss:0.007464\teval-logloss:0.088484\n",
            "[154]\ttrain-logloss:0.00741\teval-logloss:0.088471\n",
            "[155]\ttrain-logloss:0.007389\teval-logloss:0.088545\n",
            "[156]\ttrain-logloss:0.007367\teval-logloss:0.088521\n",
            "[157]\ttrain-logloss:0.007345\teval-logloss:0.088547\n",
            "[158]\ttrain-logloss:0.007323\teval-logloss:0.088275\n",
            "[159]\ttrain-logloss:0.007303\teval-logloss:0.0883\n",
            "[160]\ttrain-logloss:0.007282\teval-logloss:0.08828\n",
            "[161]\ttrain-logloss:0.007261\teval-logloss:0.088013\n",
            "[162]\ttrain-logloss:0.007241\teval-logloss:0.087758\n",
            "[163]\ttrain-logloss:0.007221\teval-logloss:0.087784\n",
            "[164]\ttrain-logloss:0.0072\teval-logloss:0.087777\n",
            "[165]\ttrain-logloss:0.00718\teval-logloss:0.087517\n",
            "[166]\ttrain-logloss:0.007161\teval-logloss:0.087542\n",
            "[167]\ttrain-logloss:0.007142\teval-logloss:0.087642\n",
            "[168]\ttrain-logloss:0.007122\teval-logloss:0.08739\n",
            "[169]\ttrain-logloss:0.007103\teval-logloss:0.087377\n",
            "[170]\ttrain-logloss:0.007084\teval-logloss:0.087298\n",
            "[171]\ttrain-logloss:0.007065\teval-logloss:0.087368\n",
            "[172]\ttrain-logloss:0.007047\teval-logloss:0.087395\n",
            "[173]\ttrain-logloss:0.007028\teval-logloss:0.087385\n",
            "[174]\ttrain-logloss:0.007009\teval-logloss:0.087132\n",
            "[175]\ttrain-logloss:0.006991\teval-logloss:0.087159\n",
            "[176]\ttrain-logloss:0.006973\teval-logloss:0.086955\n",
            "[177]\ttrain-logloss:0.006955\teval-logloss:0.087053\n",
            "[178]\ttrain-logloss:0.006937\teval-logloss:0.08697\n",
            "[179]\ttrain-logloss:0.00692\teval-logloss:0.086973\n",
            "[180]\ttrain-logloss:0.006901\teval-logloss:0.087038\n",
            "[181]\ttrain-logloss:0.006884\teval-logloss:0.086799\n",
            "[182]\ttrain-logloss:0.006866\teval-logloss:0.086826\n",
            "[183]\ttrain-logloss:0.006849\teval-logloss:0.086582\n",
            "[184]\ttrain-logloss:0.006831\teval-logloss:0.086588\n",
            "[185]\ttrain-logloss:0.006815\teval-logloss:0.086614\n",
            "[186]\ttrain-logloss:0.006798\teval-logloss:0.086372\n",
            "[187]\ttrain-logloss:0.006781\teval-logloss:0.086369\n",
            "[188]\ttrain-logloss:0.006764\teval-logloss:0.086297\n",
            "[189]\ttrain-logloss:0.006747\teval-logloss:0.086104\n",
            "[190]\ttrain-logloss:0.00673\teval-logloss:0.086023\n",
            "[191]\ttrain-logloss:0.006714\teval-logloss:0.08605\n",
            "[192]\ttrain-logloss:0.006698\teval-logloss:0.086149\n",
            "[193]\ttrain-logloss:0.006682\teval-logloss:0.085916\n",
            "[194]\ttrain-logloss:0.006666\teval-logloss:0.085915\n",
            "[195]\ttrain-logloss:0.00665\teval-logloss:0.085984\n",
            "[196]\ttrain-logloss:0.006634\teval-logloss:0.086012\n",
            "[197]\ttrain-logloss:0.006618\teval-logloss:0.085922\n",
            "[198]\ttrain-logloss:0.006603\teval-logloss:0.085853\n",
            "[199]\ttrain-logloss:0.006587\teval-logloss:0.085874\n",
            "[200]\ttrain-logloss:0.006572\teval-logloss:0.085888\n",
            "[201]\ttrain-logloss:0.006556\teval-logloss:0.08595\n",
            "[202]\ttrain-logloss:0.006542\teval-logloss:0.08573\n",
            "[203]\ttrain-logloss:0.006527\teval-logloss:0.08573\n",
            "[204]\ttrain-logloss:0.006512\teval-logloss:0.085753\n",
            "[205]\ttrain-logloss:0.006497\teval-logloss:0.085821\n",
            "[206]\ttrain-logloss:0.006483\teval-logloss:0.08584\n",
            "[207]\ttrain-logloss:0.006469\teval-logloss:0.085776\n",
            "[208]\ttrain-logloss:0.006455\teval-logloss:0.085686\n",
            "[209]\ttrain-logloss:0.00644\teval-logloss:0.08571\n",
            "[210]\ttrain-logloss:0.006427\teval-logloss:0.085806\n",
            "[211]\ttrain-logloss:0.006413\teval-logloss:0.085593\n",
            "[212]\ttrain-logloss:0.006399\teval-logloss:0.085801\n",
            "[213]\ttrain-logloss:0.006385\teval-logloss:0.085807\n",
            "[214]\ttrain-logloss:0.006372\teval-logloss:0.085744\n",
            "[215]\ttrain-logloss:0.006359\teval-logloss:0.085658\n",
            "[216]\ttrain-logloss:0.006345\teval-logloss:0.085843\n",
            "[217]\ttrain-logloss:0.006332\teval-logloss:0.085632\n",
            "[218]\ttrain-logloss:0.006319\teval-logloss:0.085726\n",
            "[219]\ttrain-logloss:0.006306\teval-logloss:0.085783\n",
            "[220]\ttrain-logloss:0.006293\teval-logloss:0.085791\n",
            "[221]\ttrain-logloss:0.00628\teval-logloss:0.085817\n",
            "[222]\ttrain-logloss:0.006268\teval-logloss:0.085757\n",
            "[223]\ttrain-logloss:0.006255\teval-logloss:0.085674\n",
            "[224]\ttrain-logloss:0.006242\teval-logloss:0.08586\n",
            "[225]\ttrain-logloss:0.00623\teval-logloss:0.085871\n",
            "[226]\ttrain-logloss:0.006218\teval-logloss:0.085927\n",
            "[227]\ttrain-logloss:0.006206\teval-logloss:0.085954\n",
            "[228]\ttrain-logloss:0.006194\teval-logloss:0.085874\n",
            "[229]\ttrain-logloss:0.006182\teval-logloss:0.086057\n",
            "[230]\ttrain-logloss:0.00617\teval-logloss:0.086002\n",
            "[231]\ttrain-logloss:0.006158\teval-logloss:0.085922\n",
            "[232]\ttrain-logloss:0.006147\teval-logloss:0.086102\n",
            "[233]\ttrain-logloss:0.006135\teval-logloss:0.086115\n",
            "[234]\ttrain-logloss:0.006124\teval-logloss:0.086169\n",
            "[235]\ttrain-logloss:0.006112\teval-logloss:0.086263\n",
            "[236]\ttrain-logloss:0.006101\teval-logloss:0.086291\n",
            "[237]\ttrain-logloss:0.00609\teval-logloss:0.086217\n",
            "[238]\ttrain-logloss:0.006079\teval-logloss:0.086395\n",
            "[239]\ttrain-logloss:0.006068\teval-logloss:0.086342\n",
            "[240]\ttrain-logloss:0.006057\teval-logloss:0.08618\n",
            "[241]\ttrain-logloss:0.006046\teval-logloss:0.086195\n",
            "[242]\ttrain-logloss:0.006036\teval-logloss:0.086248\n",
            "[243]\ttrain-logloss:0.006025\teval-logloss:0.086263\n",
            "[244]\ttrain-logloss:0.006014\teval-logloss:0.086293\n",
            "[245]\ttrain-logloss:0.006004\teval-logloss:0.086222\n",
            "[246]\ttrain-logloss:0.005993\teval-logloss:0.086398\n",
            "[247]\ttrain-logloss:0.005983\teval-logloss:0.086347\n",
            "[248]\ttrain-logloss:0.005972\teval-logloss:0.086276\n",
            "[249]\ttrain-logloss:0.005962\teval-logloss:0.086448\n",
            "[250]\ttrain-logloss:0.005952\teval-logloss:0.086294\n",
            "[251]\ttrain-logloss:0.005942\teval-logloss:0.086312\n",
            "[252]\ttrain-logloss:0.005932\teval-logloss:0.086364\n",
            "[253]\ttrain-logloss:0.005922\teval-logloss:0.086394\n",
            "[254]\ttrain-logloss:0.005912\teval-logloss:0.08649\n",
            "[255]\ttrain-logloss:0.005903\teval-logloss:0.086441\n",
            "[256]\ttrain-logloss:0.005893\teval-logloss:0.08629\n",
            "[257]\ttrain-logloss:0.005883\teval-logloss:0.086459\n",
            "[258]\ttrain-logloss:0.005874\teval-logloss:0.086391\n",
            "[259]\ttrain-logloss:0.005864\teval-logloss:0.086441\n",
            "[260]\ttrain-logloss:0.005855\teval-logloss:0.086461\n",
            "[261]\ttrain-logloss:0.005845\teval-logloss:0.086491\n",
            "[262]\ttrain-logloss:0.005836\teval-logloss:0.086445\n",
            "[263]\ttrain-logloss:0.005827\teval-logloss:0.086466\n",
            "[264]\ttrain-logloss:0.005818\teval-logloss:0.086319\n",
            "[265]\ttrain-logloss:0.005809\teval-logloss:0.086488\n",
            "[266]\ttrain-logloss:0.0058\teval-logloss:0.086538\n",
            "[267]\ttrain-logloss:0.005791\teval-logloss:0.086471\n",
            "[268]\ttrain-logloss:0.005782\teval-logloss:0.086501\n",
            "[269]\ttrain-logloss:0.005773\teval-logloss:0.086522\n",
            "[270]\ttrain-logloss:0.005764\teval-logloss:0.086689\n",
            "[271]\ttrain-logloss:0.005755\teval-logloss:0.086738\n",
            "[272]\ttrain-logloss:0.005747\teval-logloss:0.086829\n",
            "[273]\ttrain-logloss:0.005738\teval-logloss:0.086684\n",
            "[274]\ttrain-logloss:0.005729\teval-logloss:0.08664\n",
            "[275]\ttrain-logloss:0.005721\teval-logloss:0.086496\n",
            "[276]\ttrain-logloss:0.005712\teval-logloss:0.086355\n",
            "[277]\ttrain-logloss:0.005704\teval-logloss:0.086519\n",
            "[278]\ttrain-logloss:0.005696\teval-logloss:0.086567\n",
            "[279]\ttrain-logloss:0.005687\teval-logloss:0.08659\n",
            "[280]\ttrain-logloss:0.005679\teval-logloss:0.086679\n",
            "[281]\ttrain-logloss:0.005671\teval-logloss:0.086637\n",
            "[282]\ttrain-logloss:0.005663\teval-logloss:0.086499\n",
            "[283]\ttrain-logloss:0.005655\teval-logloss:0.086356\n",
            "[284]\ttrain-logloss:0.005646\teval-logloss:0.086405\n",
            "[285]\ttrain-logloss:0.005639\teval-logloss:0.086429\n",
            "[286]\ttrain-logloss:0.005631\teval-logloss:0.086456\n",
            "[287]\ttrain-logloss:0.005623\teval-logloss:0.086504\n",
            "[288]\ttrain-logloss:0.005615\teval-logloss:0.08637\n",
            "[289]\ttrain-logloss:0.005608\teval-logloss:0.086457\n",
            "[290]\ttrain-logloss:0.0056\teval-logloss:0.086453\n",
            "[291]\ttrain-logloss:0.005593\teval-logloss:0.086322\n",
            "[292]\ttrain-logloss:0.005585\teval-logloss:0.086284\n",
            "[293]\ttrain-logloss:0.005577\teval-logloss:0.086148\n",
            "[294]\ttrain-logloss:0.00557\teval-logloss:0.086196\n",
            "[295]\ttrain-logloss:0.005563\teval-logloss:0.086221\n",
            "[296]\ttrain-logloss:0.005556\teval-logloss:0.086308\n",
            "[297]\ttrain-logloss:0.005548\teval-logloss:0.086178\n",
            "[298]\ttrain-logloss:0.005541\teval-logloss:0.086263\n",
            "[299]\ttrain-logloss:0.005534\teval-logloss:0.086131\n",
            "[300]\ttrain-logloss:0.005526\teval-logloss:0.086179\n",
            "[301]\ttrain-logloss:0.005519\teval-logloss:0.086052\n",
            "[302]\ttrain-logloss:0.005512\teval-logloss:0.086016\n",
            "[303]\ttrain-logloss:0.005505\teval-logloss:0.086101\n",
            "[304]\ttrain-logloss:0.005498\teval-logloss:0.085977\n",
            "[305]\ttrain-logloss:0.005491\teval-logloss:0.086059\n",
            "[306]\ttrain-logloss:0.005484\teval-logloss:0.085971\n",
            "[307]\ttrain-logloss:0.005478\teval-logloss:0.085998\n",
            "[308]\ttrain-logloss:0.005471\teval-logloss:0.085998\n",
            "[309]\ttrain-logloss:0.005464\teval-logloss:0.085877\n",
            "[310]\ttrain-logloss:0.005457\teval-logloss:0.085923\n",
            "[311]\ttrain-logloss:0.00545\teval-logloss:0.085948\n",
            "Stopping. Best iteration:\n",
            "[211]\ttrain-logloss:0.006413\teval-logloss:0.085593\n",
            "\n"
          ]
        }
      ]
    },
    {
      "cell_type": "markdown",
      "source": [
        "    train()으로 학습을 수행하면 반복 시 train-error와 eval-logloss가 지속적으로 감소함.\n",
        "- 학습이 완료된 모델을 이용해 테스트 데이터 세트에 예측 수행\n",
        "    - 파이썬 래퍼 XGBoost는 `train()` 함수를 호출해 학습이 완료된 모델 객체를 반환하게 되 는데, 이 모델 객체는 예측을 위해 `predict()` 메서드를 이용\n",
        "    - 한 가지 유의할 점은 사이킷런의 `predict()` 메서드는 예측 결과 클래스 값(즉, 0, 1)을 반환하는 데 반해 xgboost의 `predict()`는 예측 결괏값이 아닌 예측 결과를 추정할 수 있는 확률 값을 반환\n",
        "        - 본 예제는 암이 악성인지, 양성인지를 판단하는 이진 분류이므로 예측 확률이 0.5보다 크면 1, 그렇지 않으면 0으로 예측 결과 값을 결정하는 로직을 추가"
      ],
      "metadata": {
        "id": "3gRkqZnDc4Ig"
      }
    },
    {
      "cell_type": "code",
      "source": [
        "## 테스트 데이터 세트에 예측 수행\n",
        "\n",
        "pred_probs = xgb_model.predict(dtest)\n",
        "print('predict() 수행 결괏값을 10개만 표시, 예측 확률값으로 표시됨')\n",
        "print(np.round(pred_probs[:10], 3))\n",
        "\n",
        "# 예측 확률이 0.5보다 크면 1, 그렇지 않으면 0으로 예측값 결정해 리스트 객체인 preds에 저장\n",
        "preds = [ 1 if x > 0.5 else 0 for x in pred_probs ]\n",
        "print('예측값 10개만 표시:', preds[:10])"
      ],
      "metadata": {
        "colab": {
          "base_uri": "https://localhost:8080/"
        },
        "id": "Qy20o1x8cxXv",
        "outputId": "86931d84-b19f-4d66-f50d-e5627e6ab12e"
      },
      "execution_count": 8,
      "outputs": [
        {
          "output_type": "stream",
          "name": "stdout",
          "text": [
            "predict() 수행 결괏값을 10개만 표시, 예측 확률값으로 표시됨\n",
            "[0.934 0.003 0.91  0.094 0.993 1.    1.    0.999 0.997 0.   ]\n",
            "예측값 10개만 표시: [1, 0, 1, 0, 1, 1, 1, 1, 1, 0]\n"
          ]
        }
      ]
    },
    {
      "cell_type": "markdown",
      "source": [
        "- XGBoost 모델의 예측 성능 평가\n",
        "    - 3장 평가에서 생성한 `get_clf_eval()` 함수 적용"
      ],
      "metadata": {
        "id": "LZwF6HrpeFXG"
      }
    },
    {
      "cell_type": "code",
      "source": [
        "from sklearn.metrics import confusion_matrix, accuracy_score\n",
        "from sklearn.metrics import precision_score, recall_score\n",
        "from sklearn.metrics import f1_score, roc_auc_score\n",
        "\n",
        "def get_clf_eval(y_test, pred=None, pred_proba=None):\n",
        "    confusion = confusion_matrix(y_test, pred)\n",
        "    accuracy = accuracy_score(y_test, pred)\n",
        "    precision = precision_score(y_test, pred)\n",
        "    recall = recall_score(y_test, pred)\n",
        "    f1 = f1_score(y_test, pred)\n",
        "\n",
        "    # ROC-AUC 추가 \n",
        "    roc_auc = roc_auc_score(y_test, pred_proba)\n",
        "    print('오차 행렬')\n",
        "    print(confusion)\n",
        "\n",
        "    # ROC-AUC print 추가\n",
        "    print('정확도: {0:.4f}, 정밀도: {1:.4f}, 재현율: {2:.4f}, F1: {3:.4f}, AUC:{4:.4f}'.format(accuracy, precision, recall, f1, roc_auc))"
      ],
      "metadata": {
        "id": "_bZ-2qu0emQv"
      },
      "execution_count": 9,
      "outputs": []
    },
    {
      "cell_type": "code",
      "source": [
        "get_clf_eval(y_test, preds, pred_probs)"
      ],
      "metadata": {
        "colab": {
          "base_uri": "https://localhost:8080/"
        },
        "id": "kpz3kyVgeC3W",
        "outputId": "c049d771-c109-4968-8adc-fed850084d62"
      },
      "execution_count": 10,
      "outputs": [
        {
          "output_type": "stream",
          "name": "stdout",
          "text": [
            "오차 행렬\n",
            "[[35  2]\n",
            " [ 1 76]]\n",
            "정확도: 0.9737, 정밀도: 0.9744, 재현율: 0.9870, F1: 0.9806, AUC:0.9951\n"
          ]
        }
      ]
    },
    {
      "cell_type": "markdown",
      "source": [
        "- xgboost 패키지에 내장된 시각화 기능 수행\n",
        "    - plot_importance() API는 피처의 중요도를 막대그래프 형식으로 나타냄\n",
        "        - 기본 평가 지표로 f1 스코어를 기반으로 해 각 피처의 중요도를 나타냄\n",
        "        - 호출 시 파라미터로 앞에서 학습이 완료된 모델 객체 및 맷플롯립의 ax 객체를 입력하기만 하면 됨\n",
        "    - 사이킷런은 Estimator 객체의 feature_importances_ 속성을 이용해 직접 시각화 코드 작성해야 하지만, xgboost 패키지는 plot_importance()를 이용해 바로 피처 중요도를 시각화 가능"
      ],
      "metadata": {
        "id": "Duc8oV46fTA4"
      }
    },
    {
      "cell_type": "code",
      "source": [
        "from xgboost import plot_importance\n",
        "import matplotlib.pyplot as plt\n",
        "%matplotlib inline\n",
        "\n",
        "fig, ax = plt.subplots(figsize=(10,12))\n",
        "plot_importance(xgb_model, ax=ax)"
      ],
      "metadata": {
        "colab": {
          "base_uri": "https://localhost:8080/",
          "height": 748
        },
        "id": "5PmUbzC7eo1j",
        "outputId": "d30ae1a5-54b9-48ad-be6d-166c3555a758"
      },
      "execution_count": 11,
      "outputs": [
        {
          "output_type": "execute_result",
          "data": {
            "text/plain": [
              "<matplotlib.axes._subplots.AxesSubplot at 0x7feba57dc150>"
            ]
          },
          "metadata": {},
          "execution_count": 11
        },
        {
          "output_type": "display_data",
          "data": {
            "text/plain": [
              "<Figure size 720x864 with 1 Axes>"
            ],
            "image/png": "[encoded data removed]"
          },
          "metadata": {
            "needs_background": "light"
          }
        }
      ]
    },
    {
      "cell_type": "markdown",
      "source": [
        "    내장된 plot_importance() 이용 시 유의할 점은 xgboost 넘파이 기반의 피처 데이터로 학습 시에 피처명을 제대로 알 수가 없으므로 피처 순서별로 f자 뒤에 순서를 붙여서 X축에 피처들로 나열\n",
        "    (즉, f0은 첫 번째 피처, f1는 두 번째 피처 의미)\n",
        "\n",
        "- 결정 트리에서 보여준 트리 기반 규칙 구조도 xgboost에서 시각화 가능\n",
        "    - `to_graphviz()` API를 이용하면 바로 규칙 트리 구조 그리기 가능\n",
        "- 파이썬 래퍼 XGBoost는 사이킷런의 GridSearchCV와 유사하게 데이터 세트에 대한 교차 검증 수행 후 최적 파라미터를 구할 수 있는 방법을 `cv()` API로 제공\n",
        "    ```\n",
        "xgboost.cv(params, dtrain, num_boost_round=10, nfold=3, stratified=False, folds=None, metrics=(), obj=vone, feval=None, maximize=false, early_stopping_rounds=one, fpreproc=vone, as_pandas=True, verbose_eval=None, show_stdv=True, seed=0, callbacks=None, shuffle=True)\n",
        "    ```\n",
        "    - `params` (dict): 부스터 파라미터\n",
        "    - `dtrain` (DMatrix): 학습 데이터\n",
        "    - `num_boost_round` (int): CV 폴드 개수\n",
        "    - `nfold` (int): CV 폴드 개수\n",
        "    - `stratified` (bool): CV 수행 시 층화 표본 추출(stratified sampling) 수행 여부 \n",
        "    - `metrics` (string or list of strings): CV 수행 시 모니터링할 성능 평가 지표 \n",
        "    - `early_stopping_rounds` (int): 조기 중단을 활성화시킴. 반복 횟수 지정\n"
      ],
      "metadata": {
        "id": "WyBkcs2ygI0q"
      }
    },
    {
      "cell_type": "markdown",
      "source": [
        "> ### 사이킷런 래퍼 XGBoost의 개요 및 적용\n",
        "> ---\n",
        "\n",
        "- XGBoost 개발 그룹은 사이킷런의 프레임워크와 연동하기 위해 사이킷 런 전용의 XGBoost 래퍼 클래스를 개발하였다.\n",
        "- 다른 Estimator와 동일하게 fit( )과 predict( )만으로 학습과 예측이 가능하고, GridSearchCV, Pipeline 등 사이킷런의 다른 유틸리티를 그대로 사용 가능하기 때문에 기존의 다른 머신러닝 알고리즘으로 만들어놓은 프로그램이 있더라도 알고리즘 클래스만 XGboost 래퍼 클래스로 바꾸면 기존 프로그램을 그대로 사용 가능하다.\n",
        "- 사이킷런을 위한 래퍼 XGBoost는 크게 분류를 위한 래퍼 클래스인 XGBClassifier, 회귀를 위한 래퍼 클래스인 XGBRegressor이다.\n",
        "    - XGBClassifer는 기존 사이킷런에서 일반적으로 사용하는 하이퍼 파라미터와 호환성을 유지하기 위해 기존의 xgboost 모듈에서 사용하던 네이티브 하이퍼 파라미터 몇 개를 다음과 같이 변경\n",
        "        - eta -> learning_rate\n",
        "        - sub_sample -> subsample\n",
        "        - lambda -> reg_lambda\n",
        "        - alpha -> reg_alpha\n",
        "-  xgboost의 `n_estimators`와 `num_boost_round` 하이퍼 파라미터는 서로 동일한 파라미터로, 만일 두 개가 동시에 사용되면 파이썬 래퍼 XGBoost API에서는 `n_estimators` 파라미터를 무시하고 `num_boost_round` 파라미터를 적용하지만, 사이킷런 래퍼 XGBoost 클래스에서는 `n_estimators` 파라미터를 적용"
      ],
      "metadata": {
        "id": "A1voD2CjiDAy"
      }
    },
    {
      "cell_type": "markdown",
      "source": [
        "*위스콘신 유방암 데이터 세트를 분류를 위한 래퍼 클래스인 XGBClassifier를 이용해 예측*\n",
        "- XGBClassifier 클래스의 `fit()`, `predict()`, `predict_proba()`를 이용해 학습과 예측 수행"
      ],
      "metadata": {
        "id": "TYzzl6xGjN4a"
      }
    },
    {
      "cell_type": "code",
      "source": [
        "## XGBClassifier를 이용해 학습과 예측 수행\n",
        "\n",
        "# 사이킷런 래퍼 XGBoost 클래스인 XGBClassifier 임포트\n",
        "from xgboost import XGBClassifier\n",
        "\n",
        "xgb_wrapper = XGBClassifier(n_estimators=400, learning_rate=0.1, max_depth=3)\n",
        "xgb_wrapper.fit(X_train, y_train)\n",
        "w_preds = xgb_wrapper.predict(X_test)\n",
        "w_pred_proba = xgb_wrapper.predict_proba(X_test)[:, 1]"
      ],
      "metadata": {
        "id": "SviNIXG_gFAZ"
      },
      "execution_count": 12,
      "outputs": []
    },
    {
      "cell_type": "markdown",
      "source": [
        "- `get_clf_eval()`를 이용해 사이킷런 래퍼 XGBoost로 만들어진 모델 예측 성능 평가"
      ],
      "metadata": {
        "id": "aPJFDsh7kIBA"
      }
    },
    {
      "cell_type": "code",
      "source": [
        "## 모델 예측 성능 평가\n",
        "\n",
        "get_clf_eval(y_test, w_preds, w_pred_proba)"
      ],
      "metadata": {
        "colab": {
          "base_uri": "https://localhost:8080/"
        },
        "id": "yYP6QpXZkEvr",
        "outputId": "080bfad3-7732-4dc8-c097-b2a34c4597eb"
      },
      "execution_count": 13,
      "outputs": [
        {
          "output_type": "stream",
          "name": "stdout",
          "text": [
            "오차 행렬\n",
            "[[35  2]\n",
            " [ 1 76]]\n",
            "정확도: 0.9737, 정밀도: 0.9744, 재현율: 0.9870, F1: 0.9806, AUC:0.9951\n"
          ]
        }
      ]
    },
    {
      "cell_type": "markdown",
      "source": [
        "    앞 예제의 파이썬 래퍼 XGBoost와 동일한 평가 결과 나옴.\n",
        "\n",
        "- 사이킷런 래퍼 XGBoost에서도 조기 중단을 수행할 수 있다.\n",
        "    - 조기 중단 관련한 파라미터를 `fit()`에 입력하면 됨\n",
        "    -  조기 중단 관련 파라미터는 평가 지표가 향상될 수 있는 반복 횟수를 정의하는 `early_stopping_rounds`, 조기 중단을 위한 평가 지표인 `eval_metric`, 그리고 성능 평가를 수행할 데이터 세트인 `eval_set`\n",
        "        - 성능 평가를 수행할 데이터 세트는 학습 데이터가 아니라 별도의 데이터 세트여야 함  \n",
        "        (본 예제에서는 데이터 세트의 크기가 작아 테스트 데이터를 평가용으로 사용)"
      ],
      "metadata": {
        "id": "PuSzrmV4lWW5"
      }
    },
    {
      "cell_type": "code",
      "source": [
        "## 사이킷런 래퍼 XGBoost에서도 조기 중단 수행\n",
        "\n",
        "from xgboost import XGBClassifier\n",
        "\n",
        "xgb_wrapper = XGBClassifier(n_estimators=400, learning_rate=0.1, max_depth=3)\n",
        "evals = [(X_test, y_test)]\n",
        "xgb_wrapper.fit(X_train, y_train, early_stopping_rounds=100, eval_metric=\"logloss\",\n",
        "                eval_set=evals, verbose=True)\n",
        "ws100_preds = xgb_wrapper.predict(X_test)\n",
        "ws100_pred_proba = xgb_wrapper.predict_proba(X_test)[:, 1]"
      ],
      "metadata": {
        "colab": {
          "base_uri": "https://localhost:8080/"
        },
        "id": "Cgiici_GlScy",
        "outputId": "cc607205-9346-4df9-fbd6-e43872ce2ba9"
      },
      "execution_count": 14,
      "outputs": [
        {
          "output_type": "stream",
          "name": "stdout",
          "text": [
            "[0]\tvalidation_0-logloss:0.61352\n",
            "Will train until validation_0-logloss hasn't improved in 100 rounds.\n",
            "[1]\tvalidation_0-logloss:0.547842\n",
            "[2]\tvalidation_0-logloss:0.494247\n",
            "[3]\tvalidation_0-logloss:0.447986\n",
            "[4]\tvalidation_0-logloss:0.409109\n",
            "[5]\tvalidation_0-logloss:0.374977\n",
            "[6]\tvalidation_0-logloss:0.345714\n",
            "[7]\tvalidation_0-logloss:0.320529\n",
            "[8]\tvalidation_0-logloss:0.29721\n",
            "[9]\tvalidation_0-logloss:0.277991\n",
            "[10]\tvalidation_0-logloss:0.260302\n",
            "[11]\tvalidation_0-logloss:0.246037\n",
            "[12]\tvalidation_0-logloss:0.231556\n",
            "[13]\tvalidation_0-logloss:0.22005\n",
            "[14]\tvalidation_0-logloss:0.208572\n",
            "[15]\tvalidation_0-logloss:0.199993\n",
            "[16]\tvalidation_0-logloss:0.190118\n",
            "[17]\tvalidation_0-logloss:0.181818\n",
            "[18]\tvalidation_0-logloss:0.174729\n",
            "[19]\tvalidation_0-logloss:0.167657\n",
            "[20]\tvalidation_0-logloss:0.158202\n",
            "[21]\tvalidation_0-logloss:0.154725\n",
            "[22]\tvalidation_0-logloss:0.148947\n",
            "[23]\tvalidation_0-logloss:0.143308\n",
            "[24]\tvalidation_0-logloss:0.136344\n",
            "[25]\tvalidation_0-logloss:0.132778\n",
            "[26]\tvalidation_0-logloss:0.127912\n",
            "[27]\tvalidation_0-logloss:0.125263\n",
            "[28]\tvalidation_0-logloss:0.119978\n",
            "[29]\tvalidation_0-logloss:0.116412\n",
            "[30]\tvalidation_0-logloss:0.114502\n",
            "[31]\tvalidation_0-logloss:0.112572\n",
            "[32]\tvalidation_0-logloss:0.11154\n",
            "[33]\tvalidation_0-logloss:0.108681\n",
            "[34]\tvalidation_0-logloss:0.106681\n",
            "[35]\tvalidation_0-logloss:0.104207\n",
            "[36]\tvalidation_0-logloss:0.102962\n",
            "[37]\tvalidation_0-logloss:0.100576\n",
            "[38]\tvalidation_0-logloss:0.098683\n",
            "[39]\tvalidation_0-logloss:0.096444\n",
            "[40]\tvalidation_0-logloss:0.095869\n",
            "[41]\tvalidation_0-logloss:0.094242\n",
            "[42]\tvalidation_0-logloss:0.094715\n",
            "[43]\tvalidation_0-logloss:0.094272\n",
            "[44]\tvalidation_0-logloss:0.093894\n",
            "[45]\tvalidation_0-logloss:0.094184\n",
            "[46]\tvalidation_0-logloss:0.09402\n",
            "[47]\tvalidation_0-logloss:0.09236\n",
            "[48]\tvalidation_0-logloss:0.093012\n",
            "[49]\tvalidation_0-logloss:0.091272\n",
            "[50]\tvalidation_0-logloss:0.090051\n",
            "[51]\tvalidation_0-logloss:0.089605\n",
            "[52]\tvalidation_0-logloss:0.089577\n",
            "[53]\tvalidation_0-logloss:0.090703\n",
            "[54]\tvalidation_0-logloss:0.089579\n",
            "[55]\tvalidation_0-logloss:0.090357\n",
            "[56]\tvalidation_0-logloss:0.091587\n",
            "[57]\tvalidation_0-logloss:0.091527\n",
            "[58]\tvalidation_0-logloss:0.091986\n",
            "[59]\tvalidation_0-logloss:0.091951\n",
            "[60]\tvalidation_0-logloss:0.091939\n",
            "[61]\tvalidation_0-logloss:0.091461\n",
            "[62]\tvalidation_0-logloss:0.090311\n",
            "[63]\tvalidation_0-logloss:0.089407\n",
            "[64]\tvalidation_0-logloss:0.089719\n",
            "[65]\tvalidation_0-logloss:0.089743\n",
            "[66]\tvalidation_0-logloss:0.089622\n",
            "[67]\tvalidation_0-logloss:0.088734\n",
            "[68]\tvalidation_0-logloss:0.088621\n",
            "[69]\tvalidation_0-logloss:0.089739\n",
            "[70]\tvalidation_0-logloss:0.089981\n",
            "[71]\tvalidation_0-logloss:0.089782\n",
            "[72]\tvalidation_0-logloss:0.089584\n",
            "[73]\tvalidation_0-logloss:0.089533\n",
            "[74]\tvalidation_0-logloss:0.088748\n",
            "[75]\tvalidation_0-logloss:0.088597\n",
            "[76]\tvalidation_0-logloss:0.08812\n",
            "[77]\tvalidation_0-logloss:0.088396\n",
            "[78]\tvalidation_0-logloss:0.088736\n",
            "[79]\tvalidation_0-logloss:0.088153\n",
            "[80]\tvalidation_0-logloss:0.087577\n",
            "[81]\tvalidation_0-logloss:0.087412\n",
            "[82]\tvalidation_0-logloss:0.08849\n",
            "[83]\tvalidation_0-logloss:0.088575\n",
            "[84]\tvalidation_0-logloss:0.08807\n",
            "[85]\tvalidation_0-logloss:0.087641\n",
            "[86]\tvalidation_0-logloss:0.087416\n",
            "[87]\tvalidation_0-logloss:0.087611\n",
            "[88]\tvalidation_0-logloss:0.087065\n",
            "[89]\tvalidation_0-logloss:0.08727\n",
            "[90]\tvalidation_0-logloss:0.087161\n",
            "[91]\tvalidation_0-logloss:0.086962\n",
            "[92]\tvalidation_0-logloss:0.087166\n",
            "[93]\tvalidation_0-logloss:0.087067\n",
            "[94]\tvalidation_0-logloss:0.086592\n",
            "[95]\tvalidation_0-logloss:0.086116\n",
            "[96]\tvalidation_0-logloss:0.087139\n",
            "[97]\tvalidation_0-logloss:0.086768\n",
            "[98]\tvalidation_0-logloss:0.086694\n",
            "[99]\tvalidation_0-logloss:0.086547\n",
            "[100]\tvalidation_0-logloss:0.086498\n",
            "[101]\tvalidation_0-logloss:0.08641\n",
            "[102]\tvalidation_0-logloss:0.086288\n",
            "[103]\tvalidation_0-logloss:0.086258\n",
            "[104]\tvalidation_0-logloss:0.086835\n",
            "[105]\tvalidation_0-logloss:0.086767\n",
            "[106]\tvalidation_0-logloss:0.087321\n",
            "[107]\tvalidation_0-logloss:0.087304\n",
            "[108]\tvalidation_0-logloss:0.08728\n",
            "[109]\tvalidation_0-logloss:0.087298\n",
            "[110]\tvalidation_0-logloss:0.087289\n",
            "[111]\tvalidation_0-logloss:0.088002\n",
            "[112]\tvalidation_0-logloss:0.087936\n",
            "[113]\tvalidation_0-logloss:0.087843\n",
            "[114]\tvalidation_0-logloss:0.088066\n",
            "[115]\tvalidation_0-logloss:0.087649\n",
            "[116]\tvalidation_0-logloss:0.087298\n",
            "[117]\tvalidation_0-logloss:0.087799\n",
            "[118]\tvalidation_0-logloss:0.087751\n",
            "[119]\tvalidation_0-logloss:0.08768\n",
            "[120]\tvalidation_0-logloss:0.087626\n",
            "[121]\tvalidation_0-logloss:0.08757\n",
            "[122]\tvalidation_0-logloss:0.087547\n",
            "[123]\tvalidation_0-logloss:0.087156\n",
            "[124]\tvalidation_0-logloss:0.08767\n",
            "[125]\tvalidation_0-logloss:0.087737\n",
            "[126]\tvalidation_0-logloss:0.088275\n",
            "[127]\tvalidation_0-logloss:0.088309\n",
            "[128]\tvalidation_0-logloss:0.088266\n",
            "[129]\tvalidation_0-logloss:0.087886\n",
            "[130]\tvalidation_0-logloss:0.088861\n",
            "[131]\tvalidation_0-logloss:0.088675\n",
            "[132]\tvalidation_0-logloss:0.088743\n",
            "[133]\tvalidation_0-logloss:0.089218\n",
            "[134]\tvalidation_0-logloss:0.089179\n",
            "[135]\tvalidation_0-logloss:0.088821\n",
            "[136]\tvalidation_0-logloss:0.088512\n",
            "[137]\tvalidation_0-logloss:0.08848\n",
            "[138]\tvalidation_0-logloss:0.088386\n",
            "[139]\tvalidation_0-logloss:0.089145\n",
            "[140]\tvalidation_0-logloss:0.08911\n",
            "[141]\tvalidation_0-logloss:0.088765\n",
            "[142]\tvalidation_0-logloss:0.088678\n",
            "[143]\tvalidation_0-logloss:0.088389\n",
            "[144]\tvalidation_0-logloss:0.089271\n",
            "[145]\tvalidation_0-logloss:0.089238\n",
            "[146]\tvalidation_0-logloss:0.089139\n",
            "[147]\tvalidation_0-logloss:0.088907\n",
            "[148]\tvalidation_0-logloss:0.089416\n",
            "[149]\tvalidation_0-logloss:0.089388\n",
            "[150]\tvalidation_0-logloss:0.089108\n",
            "[151]\tvalidation_0-logloss:0.088735\n",
            "[152]\tvalidation_0-logloss:0.088717\n",
            "[153]\tvalidation_0-logloss:0.088484\n",
            "[154]\tvalidation_0-logloss:0.088471\n",
            "[155]\tvalidation_0-logloss:0.088545\n",
            "[156]\tvalidation_0-logloss:0.088521\n",
            "[157]\tvalidation_0-logloss:0.088547\n",
            "[158]\tvalidation_0-logloss:0.088275\n",
            "[159]\tvalidation_0-logloss:0.0883\n",
            "[160]\tvalidation_0-logloss:0.08828\n",
            "[161]\tvalidation_0-logloss:0.088013\n",
            "[162]\tvalidation_0-logloss:0.087758\n",
            "[163]\tvalidation_0-logloss:0.087784\n",
            "[164]\tvalidation_0-logloss:0.087777\n",
            "[165]\tvalidation_0-logloss:0.087517\n",
            "[166]\tvalidation_0-logloss:0.087542\n",
            "[167]\tvalidation_0-logloss:0.087642\n",
            "[168]\tvalidation_0-logloss:0.08739\n",
            "[169]\tvalidation_0-logloss:0.087377\n",
            "[170]\tvalidation_0-logloss:0.087298\n",
            "[171]\tvalidation_0-logloss:0.087368\n",
            "[172]\tvalidation_0-logloss:0.087395\n",
            "[173]\tvalidation_0-logloss:0.087385\n",
            "[174]\tvalidation_0-logloss:0.087132\n",
            "[175]\tvalidation_0-logloss:0.087159\n",
            "[176]\tvalidation_0-logloss:0.086955\n",
            "[177]\tvalidation_0-logloss:0.087053\n",
            "[178]\tvalidation_0-logloss:0.08697\n",
            "[179]\tvalidation_0-logloss:0.086973\n",
            "[180]\tvalidation_0-logloss:0.087038\n",
            "[181]\tvalidation_0-logloss:0.086799\n",
            "[182]\tvalidation_0-logloss:0.086826\n",
            "[183]\tvalidation_0-logloss:0.086582\n",
            "[184]\tvalidation_0-logloss:0.086588\n",
            "[185]\tvalidation_0-logloss:0.086614\n",
            "[186]\tvalidation_0-logloss:0.086372\n",
            "[187]\tvalidation_0-logloss:0.086369\n",
            "[188]\tvalidation_0-logloss:0.086297\n",
            "[189]\tvalidation_0-logloss:0.086104\n",
            "[190]\tvalidation_0-logloss:0.086023\n",
            "[191]\tvalidation_0-logloss:0.08605\n",
            "[192]\tvalidation_0-logloss:0.086149\n",
            "[193]\tvalidation_0-logloss:0.085916\n",
            "[194]\tvalidation_0-logloss:0.085915\n",
            "[195]\tvalidation_0-logloss:0.085984\n",
            "[196]\tvalidation_0-logloss:0.086012\n",
            "[197]\tvalidation_0-logloss:0.085922\n",
            "[198]\tvalidation_0-logloss:0.085853\n",
            "[199]\tvalidation_0-logloss:0.085874\n",
            "[200]\tvalidation_0-logloss:0.085888\n",
            "[201]\tvalidation_0-logloss:0.08595\n",
            "[202]\tvalidation_0-logloss:0.08573\n",
            "[203]\tvalidation_0-logloss:0.08573\n",
            "[204]\tvalidation_0-logloss:0.085753\n",
            "[205]\tvalidation_0-logloss:0.085821\n",
            "[206]\tvalidation_0-logloss:0.08584\n",
            "[207]\tvalidation_0-logloss:0.085776\n",
            "[208]\tvalidation_0-logloss:0.085686\n",
            "[209]\tvalidation_0-logloss:0.08571\n",
            "[210]\tvalidation_0-logloss:0.085806\n",
            "[211]\tvalidation_0-logloss:0.085593\n",
            "[212]\tvalidation_0-logloss:0.085801\n",
            "[213]\tvalidation_0-logloss:0.085806\n",
            "[214]\tvalidation_0-logloss:0.085744\n",
            "[215]\tvalidation_0-logloss:0.085658\n",
            "[216]\tvalidation_0-logloss:0.085843\n",
            "[217]\tvalidation_0-logloss:0.085632\n",
            "[218]\tvalidation_0-logloss:0.085726\n",
            "[219]\tvalidation_0-logloss:0.085783\n",
            "[220]\tvalidation_0-logloss:0.085791\n",
            "[221]\tvalidation_0-logloss:0.085817\n",
            "[222]\tvalidation_0-logloss:0.085757\n",
            "[223]\tvalidation_0-logloss:0.085674\n",
            "[224]\tvalidation_0-logloss:0.08586\n",
            "[225]\tvalidation_0-logloss:0.085871\n",
            "[226]\tvalidation_0-logloss:0.085927\n",
            "[227]\tvalidation_0-logloss:0.085954\n",
            "[228]\tvalidation_0-logloss:0.085874\n",
            "[229]\tvalidation_0-logloss:0.086057\n",
            "[230]\tvalidation_0-logloss:0.086002\n",
            "[231]\tvalidation_0-logloss:0.085922\n",
            "[232]\tvalidation_0-logloss:0.086102\n",
            "[233]\tvalidation_0-logloss:0.086115\n",
            "[234]\tvalidation_0-logloss:0.086169\n",
            "[235]\tvalidation_0-logloss:0.086263\n",
            "[236]\tvalidation_0-logloss:0.086292\n",
            "[237]\tvalidation_0-logloss:0.086217\n",
            "[238]\tvalidation_0-logloss:0.086395\n",
            "[239]\tvalidation_0-logloss:0.086342\n",
            "[240]\tvalidation_0-logloss:0.08618\n",
            "[241]\tvalidation_0-logloss:0.086195\n",
            "[242]\tvalidation_0-logloss:0.086248\n",
            "[243]\tvalidation_0-logloss:0.086263\n",
            "[244]\tvalidation_0-logloss:0.086293\n",
            "[245]\tvalidation_0-logloss:0.086222\n",
            "[246]\tvalidation_0-logloss:0.086398\n",
            "[247]\tvalidation_0-logloss:0.086347\n",
            "[248]\tvalidation_0-logloss:0.086276\n",
            "[249]\tvalidation_0-logloss:0.086448\n",
            "[250]\tvalidation_0-logloss:0.086294\n",
            "[251]\tvalidation_0-logloss:0.086312\n",
            "[252]\tvalidation_0-logloss:0.086364\n",
            "[253]\tvalidation_0-logloss:0.086394\n",
            "[254]\tvalidation_0-logloss:0.08649\n",
            "[255]\tvalidation_0-logloss:0.086441\n",
            "[256]\tvalidation_0-logloss:0.08629\n",
            "[257]\tvalidation_0-logloss:0.08646\n",
            "[258]\tvalidation_0-logloss:0.086391\n",
            "[259]\tvalidation_0-logloss:0.086441\n",
            "[260]\tvalidation_0-logloss:0.086461\n",
            "[261]\tvalidation_0-logloss:0.086491\n",
            "[262]\tvalidation_0-logloss:0.086445\n",
            "[263]\tvalidation_0-logloss:0.086466\n",
            "[264]\tvalidation_0-logloss:0.086319\n",
            "[265]\tvalidation_0-logloss:0.086488\n",
            "[266]\tvalidation_0-logloss:0.086538\n",
            "[267]\tvalidation_0-logloss:0.086471\n",
            "[268]\tvalidation_0-logloss:0.086501\n",
            "[269]\tvalidation_0-logloss:0.086522\n",
            "[270]\tvalidation_0-logloss:0.086689\n",
            "[271]\tvalidation_0-logloss:0.086738\n",
            "[272]\tvalidation_0-logloss:0.08683\n",
            "[273]\tvalidation_0-logloss:0.086684\n",
            "[274]\tvalidation_0-logloss:0.08664\n",
            "[275]\tvalidation_0-logloss:0.086496\n",
            "[276]\tvalidation_0-logloss:0.086355\n",
            "[277]\tvalidation_0-logloss:0.086519\n",
            "[278]\tvalidation_0-logloss:0.086567\n",
            "[279]\tvalidation_0-logloss:0.08659\n",
            "[280]\tvalidation_0-logloss:0.086679\n",
            "[281]\tvalidation_0-logloss:0.086637\n",
            "[282]\tvalidation_0-logloss:0.086499\n",
            "[283]\tvalidation_0-logloss:0.086356\n",
            "[284]\tvalidation_0-logloss:0.086405\n",
            "[285]\tvalidation_0-logloss:0.086429\n",
            "[286]\tvalidation_0-logloss:0.086456\n",
            "[287]\tvalidation_0-logloss:0.086504\n",
            "[288]\tvalidation_0-logloss:0.08637\n",
            "[289]\tvalidation_0-logloss:0.086457\n",
            "[290]\tvalidation_0-logloss:0.086453\n",
            "[291]\tvalidation_0-logloss:0.086322\n",
            "[292]\tvalidation_0-logloss:0.086284\n",
            "[293]\tvalidation_0-logloss:0.086148\n",
            "[294]\tvalidation_0-logloss:0.086196\n",
            "[295]\tvalidation_0-logloss:0.086221\n",
            "[296]\tvalidation_0-logloss:0.086308\n",
            "[297]\tvalidation_0-logloss:0.086178\n",
            "[298]\tvalidation_0-logloss:0.086263\n",
            "[299]\tvalidation_0-logloss:0.086131\n",
            "[300]\tvalidation_0-logloss:0.086179\n",
            "[301]\tvalidation_0-logloss:0.086052\n",
            "[302]\tvalidation_0-logloss:0.086016\n",
            "[303]\tvalidation_0-logloss:0.086101\n",
            "[304]\tvalidation_0-logloss:0.085977\n",
            "[305]\tvalidation_0-logloss:0.086059\n",
            "[306]\tvalidation_0-logloss:0.085971\n",
            "[307]\tvalidation_0-logloss:0.085998\n",
            "[308]\tvalidation_0-logloss:0.085999\n",
            "[309]\tvalidation_0-logloss:0.085877\n",
            "[310]\tvalidation_0-logloss:0.085923\n",
            "[311]\tvalidation_0-logloss:0.085948\n",
            "Stopping. Best iteration:\n",
            "[211]\tvalidation_0-logloss:0.085593\n",
            "\n"
          ]
        }
      ]
    },
    {
      "cell_type": "markdown",
      "source": [
        "    n_estimators를 400으로 설정해도 400번 반복을 수행하지 않고 311번 반복한 후 학습을 완료함.\n",
        "    211에서 311번까지 early_stopping_rounds=100으로 지정된 100번의 반복 동안 성능 평가 지수가 향상되지 않았기 때문에 더 이상 반복하지 않고 멈춘 것임.\n",
        "\n",
        "- 조기 중단으로 학습된 XGBClassifier의 예측 성능 살펴보기"
      ],
      "metadata": {
        "id": "EW2ZsJOEnN-Z"
      }
    },
    {
      "cell_type": "code",
      "source": [
        "## 조기 중단으로 학습된 예측 성능 확인\n",
        "\n",
        "get_clf_eval(y_test, ws100_preds, ws100_pred_proba)"
      ],
      "metadata": {
        "colab": {
          "base_uri": "https://localhost:8080/"
        },
        "id": "npRVeO7QnDPX",
        "outputId": "8fde710a-6cc4-4e10-b261-0de6c1c5f686"
      },
      "execution_count": 15,
      "outputs": [
        {
          "output_type": "stream",
          "name": "stdout",
          "text": [
            "오차 행렬\n",
            "[[34  3]\n",
            " [ 1 76]]\n",
            "정확도: 0.9649, 정밀도: 0.9620, 재현율: 0.9870, F1: 0.9744, AUC:0.9954\n"
          ]
        }
      ]
    },
    {
      "cell_type": "markdown",
      "source": [
        "    조기 중단이 적용되지 않은 결과보다 약간 저조한 성능 나타내지만, 큰 차이는 아님.\n",
        "\n",
        "- 조기 중단값 줄여 예측 성능 다시 측정\n",
        "    - 조기 중단값을 너무 급격하게 줄이면 예측 성능이 저하될 우려가 큼\n",
        "    - 아직 성능이 향상될 여지가 있음에도 불구하고 성능 평가 지표가 향상되지 않으면 반복이 멈춰 버려서 충분한 학습이 되지 않아 예측 성능이 나빠질 가능성 있음"
      ],
      "metadata": {
        "id": "ArzykVymnnyV"
      }
    },
    {
      "cell_type": "code",
      "source": [
        "## 조기 중단값 10으로 하여 다시 예측 성능 확인\n",
        "\n",
        "# early_stopping_rounds를 10으로 설정하고 재학습\n",
        "xgb_wrapper.fit(X_train, y_train, early_stopping_rounds=10,\n",
        "                eval_metric=\"logloss\", eval_set=evals, verbose=True)\n",
        "\n",
        "ws10_preds = xgb_wrapper.predict(X_test)\n",
        "ws10_pred_proba = xgb_wrapper.predict_proba(X_test)[:, 1]\n",
        "get_clf_eval(y_test, ws10_preds, ws10_pred_proba)"
      ],
      "metadata": {
        "colab": {
          "base_uri": "https://localhost:8080/"
        },
        "id": "FBlZQkxMnmgq",
        "outputId": "9ab114b7-ae76-4cfd-9d49-775fbda08cbb"
      },
      "execution_count": 16,
      "outputs": [
        {
          "output_type": "stream",
          "name": "stdout",
          "text": [
            "[0]\tvalidation_0-logloss:0.61352\n",
            "Will train until validation_0-logloss hasn't improved in 10 rounds.\n",
            "[1]\tvalidation_0-logloss:0.547842\n",
            "[2]\tvalidation_0-logloss:0.494247\n",
            "[3]\tvalidation_0-logloss:0.447986\n",
            "[4]\tvalidation_0-logloss:0.409109\n",
            "[5]\tvalidation_0-logloss:0.374977\n",
            "[6]\tvalidation_0-logloss:0.345714\n",
            "[7]\tvalidation_0-logloss:0.320529\n",
            "[8]\tvalidation_0-logloss:0.29721\n",
            "[9]\tvalidation_0-logloss:0.277991\n",
            "[10]\tvalidation_0-logloss:0.260302\n",
            "[11]\tvalidation_0-logloss:0.246037\n",
            "[12]\tvalidation_0-logloss:0.231556\n",
            "[13]\tvalidation_0-logloss:0.22005\n",
            "[14]\tvalidation_0-logloss:0.208572\n",
            "[15]\tvalidation_0-logloss:0.199993\n",
            "[16]\tvalidation_0-logloss:0.190118\n",
            "[17]\tvalidation_0-logloss:0.181818\n",
            "[18]\tvalidation_0-logloss:0.174729\n",
            "[19]\tvalidation_0-logloss:0.167657\n",
            "[20]\tvalidation_0-logloss:0.158202\n",
            "[21]\tvalidation_0-logloss:0.154725\n",
            "[22]\tvalidation_0-logloss:0.148947\n",
            "[23]\tvalidation_0-logloss:0.143308\n",
            "[24]\tvalidation_0-logloss:0.136344\n",
            "[25]\tvalidation_0-logloss:0.132778\n",
            "[26]\tvalidation_0-logloss:0.127912\n",
            "[27]\tvalidation_0-logloss:0.125263\n",
            "[28]\tvalidation_0-logloss:0.119978\n",
            "[29]\tvalidation_0-logloss:0.116412\n",
            "[30]\tvalidation_0-logloss:0.114502\n",
            "[31]\tvalidation_0-logloss:0.112572\n",
            "[32]\tvalidation_0-logloss:0.11154\n",
            "[33]\tvalidation_0-logloss:0.108681\n",
            "[34]\tvalidation_0-logloss:0.106681\n",
            "[35]\tvalidation_0-logloss:0.104207\n",
            "[36]\tvalidation_0-logloss:0.102962\n",
            "[37]\tvalidation_0-logloss:0.100576\n",
            "[38]\tvalidation_0-logloss:0.098683\n",
            "[39]\tvalidation_0-logloss:0.096444\n",
            "[40]\tvalidation_0-logloss:0.095869\n",
            "[41]\tvalidation_0-logloss:0.094242\n",
            "[42]\tvalidation_0-logloss:0.094715\n",
            "[43]\tvalidation_0-logloss:0.094272\n",
            "[44]\tvalidation_0-logloss:0.093894\n",
            "[45]\tvalidation_0-logloss:0.094184\n",
            "[46]\tvalidation_0-logloss:0.09402\n",
            "[47]\tvalidation_0-logloss:0.09236\n",
            "[48]\tvalidation_0-logloss:0.093012\n",
            "[49]\tvalidation_0-logloss:0.091272\n",
            "[50]\tvalidation_0-logloss:0.090051\n",
            "[51]\tvalidation_0-logloss:0.089605\n",
            "[52]\tvalidation_0-logloss:0.089577\n",
            "[53]\tvalidation_0-logloss:0.090703\n",
            "[54]\tvalidation_0-logloss:0.089579\n",
            "[55]\tvalidation_0-logloss:0.090357\n",
            "[56]\tvalidation_0-logloss:0.091587\n",
            "[57]\tvalidation_0-logloss:0.091527\n",
            "[58]\tvalidation_0-logloss:0.091986\n",
            "[59]\tvalidation_0-logloss:0.091951\n",
            "[60]\tvalidation_0-logloss:0.091939\n",
            "[61]\tvalidation_0-logloss:0.091461\n",
            "[62]\tvalidation_0-logloss:0.090311\n",
            "Stopping. Best iteration:\n",
            "[52]\tvalidation_0-logloss:0.089577\n",
            "\n",
            "오차 행렬\n",
            "[[34  3]\n",
            " [ 2 75]]\n",
            "정확도: 0.9561, 정밀도: 0.9615, 재현율: 0.9740, F1: 0.9677, AUC:0.9947\n"
          ]
        }
      ]
    },
    {
      "cell_type": "markdown",
      "source": [
        "- 피처 중요도 시각화\n",
        "    - 피처의 중요도를 시각화하는 모듈인 `plot_importance()` API에 사이킷런 래퍼 클래스를 입력해도 앞에서 파이썬 클래스를 입력한 결과와 똑같이 시각화 결과 도출"
      ],
      "metadata": {
        "id": "4Juz1yFDo4K_"
      }
    },
    {
      "cell_type": "code",
      "source": [
        "## 피처 중요도 시각화\n",
        "\n",
        "from xgboost import plot_importance\n",
        "import matplotlib.pyplot as plt\n",
        "%matplotlib inline\n",
        "\n",
        "fig, ax = plt.subplots(figsize=(10,12))\n",
        "# 사이킷런 Wrapper 클래스를 입력해도 무방\n",
        "plot_importance(xgb_wrapper, ax=ax)"
      ],
      "metadata": {
        "colab": {
          "base_uri": "https://localhost:8080/",
          "height": 748
        },
        "id": "1BjyvJykoll9",
        "outputId": "94a59d4e-c5dd-4f97-b530-26442f275c78"
      },
      "execution_count": 17,
      "outputs": [
        {
          "output_type": "execute_result",
          "data": {
            "text/plain": [
              "<matplotlib.axes._subplots.AxesSubplot at 0x7feba4edb7d0>"
            ]
          },
          "metadata": {},
          "execution_count": 17
        },
        {
          "output_type": "display_data",
          "data": {
            "text/plain": [
              "<Figure size 720x864 with 1 Axes>"
            ],
            "image/png": "[encoded data removed]"
          },
          "metadata": {
            "needs_background": "light"
          }
        }
      ]
    },
    {
      "cell_type": "markdown",
      "source": [
        "### **07. LightGBM**\n",
        "---\n",
        "\n",
        "- LightGBM은 XGBoost와 함께 부스팅 계열 알고리즘에서 가장 각광 받고 있다.\n",
        "- LightGBM의 가장 큰 장점은 XGBoost보다 학습에 걸리는 시간이 훨씬 적다는 점이다. 또한 메모리 사용량도 상대적으로 적다.\n",
        "- LightGBM과 XGBoost의 예측 성능은 별다른 차이가 없다. 또한 기능상의 다양성은 LightGBM이 약간 더 많다.\n",
        "- LightGBM의 한 가지 단점으로 알려진 것은 적은 데이터 세트에 적용할 경우 과적합이 발생하기 쉽다는 것이다. 일반적으로 10,000건 이하의 데이터 세트 정도이다.\n",
        "- LightGBM은 일반 GBM 계열의 트리 분할 방법과 다르게 리프 중심 트리 분할(Leaf Wise) 방식을 사용한다. 기존의 대부분 트리 기반 알고리즘은 트리의 깊이를 효과적으로 줄이기 위한 균형 트리 분할(Level Wise) 방식을 사용한다.\n",
        "    -  LightGBM의 리프 중심 트리 분할 방식은 트리의 균형을 맞추지 않고, 최대 손실 값(max delta loss)을 가지는 리프 노드를 지속적으로 분할하면서 트리의 깊이가 깊어지고 비대칭적인 규칙 트리가 생성됨\n",
        "    - 최대 손실값을 가지는 리프 노드를 지속적으로 분할해 생성된 규칙 트리는 학습을 반복할수록 결국은 균형 트리 분할 방식보다 예측 오류 손실을 최소화 할 수 있다는 것이 LightGBM의 구현 사상\n",
        "-  LightGBM은 XGBoost와 마찬가지로 다음과 같은 대용량 데이터에 대한 뛰어난 예측 성능 및 병 렬 컴퓨팅 기능을 제공하고 있으며, 추가로 최근에는 GPU까지 지원한다.\n",
        "- LightBGM의 파이썬 패키지인 lightbgm 패키지 내에 파이썬 래퍼용 LightGBM, 사이킷런 래퍼 LightGBM, 두 래퍼 모듈 모두 가지고 있다.\n",
        "    - 사이킷런 래퍼 LightGBM 클래스는 분류를 위한 LGBMClassifier 클래스와 회귀를 위한 LGBMRegressor 클래스"
      ],
      "metadata": {
        "id": "uBcy-lWBpgi4"
      }
    },
    {
      "cell_type": "markdown",
      "source": [
        "> ### LightGBM 설치\n",
        "> ---\n",
        "\n",
        "```\n",
        "conda install -c conda-forge lightgbm\n",
        "```\n",
        "\n"
      ],
      "metadata": {
        "id": "7IC2rsYJrsvj"
      }
    },
    {
      "cell_type": "markdown",
      "source": [
        "> ### LightGBM 하이퍼 파라미터\n",
        "> ---\n",
        "\n",
        "- 주요 파라미터\n",
        "    - `num_iterations` [default=100]: 반복 수행하려는 트리의 개수 지정\n",
        "    - `learning_rate` [default=0.1]: 0에서 1 사이의 값을 지정하며 부스팅 스텝을 반복적으로 수행할 때 업데이터되는 학습률 값\n",
        "    - `max_depth` [default=-1]: 트리 기반 알고리즘의 `max_depth`와 같음\n",
        "    - `min_data_in_leaf` [default=20]: 결정 트리의 `min_samples_leaf`와 같은 파라미터, 최종 결정 클래스인 리프 노드가 되기 위해서 최소한으로 필요한 레코드 수이며 과적합을 제어하기 위한 파라미터\n",
        "    - `num_leaves` [default=31]: 하나의 트리가 가질 수 있는 최대 리프 개수\n",
        "    - `boosting` [default=gbdt]: 부스팅의 트리를 생성하는 알고리즘 기술\n",
        "        - `gbdt`: 일반적인` `그래디언트 부스팅 결정 트리\n",
        "        - `rf`: 랜덤 포레스트\n",
        "    - `bagging_fraction` [default=1.0]: 트리가 과적합되는 것을 제어하기 위해서 데이터를 샘플링하는 비율을 지정\n",
        "    - `feature_fraction` [default=1.0]: 개별 트리를 학습할 때마다 무작위로 선택하는 피처의 비율\n",
        "    - `lamda_l2` [defalut=0.0]: L2 regulation 제어를 위한 값\n",
        "    - `lambda_l1` [default=0.0]: L1 regulation 제어를 위한 값\n",
        "\n",
        "- Learning Task 파라미터\n",
        "    - `objective`: 최솟값을 가져야 할 손실함수 정의. Xgboost objective 파라미터와 동일. 회귀, 다중 클래스 분류, 이진 분류인지에 따라서 objective인 손실함수가 지정\n",
        "\n",
        "    "
      ],
      "metadata": {
        "id": "sVVg2y1br5hF"
      }
    },
    {
      "cell_type": "markdown",
      "source": [
        "> ### 하이퍼 파라미터 튜닝 방안\n",
        "> ---\n",
        "\n",
        "- `num_leaves`의 개수를 중심으로 `min_child_samples`(`min_data_in_leaf`), `max_depth`를 함께 조정하면서 모델의 복잡도를 줄이는 것이 기본 튜닝 방안이다.\n",
        "    - `num_leaves`는 개별 트리가 가질 수 있는 최대 리프의 개수이고 LightGBM 모델의 복잡도를 제어하는 주요 파라미터임. 일반적으로 `num_leaves`의 개수를 높이면 정확도가 높아지지만, 반대로 트리의 깊이가 깊어지고 모델이 복잡도가 커져 과적합 영향도가 커짐\n",
        "    - `min_data_in_leaf`는 사이킷런 래퍼 클래스에서는 `min_child_samples`로 이름이 바뀜. 과적합을 개선하기 위한 중요한 파라미터임. `num_leaves`와 학습 데이터의 크기에 따라 달라지지만, 보통 큰 값으로 설정하면 트리가 깊어지는 것을 방지함\n",
        "    - `max_depth`는 명시적으로 깊이의 크기를 제한함. `num_leaves`, `min_data_in_leaf`와 결합해 과적합을 개선하는 데 사용함\n",
        "- `learning_rate`를 작게 하면서 `n_estimators`를 크게 하는 것은 부스팅 계열 튜닝에서 가장 기본적인 튜닝 방안이므로 이를 적용하는 것도 좋다.\n",
        "- 이밖에 과적합을 제어하기 위해서 `reg_lambda`, `reg_alpha`와 같은 regularization을 적용하거나 학 습 데이터에 사용할 피처의 개수나 데이터 샘플링 레코드 개수를 줄이기 위해 `colsample _bytree`, `subsample` 파라미터를 적용 가능하다.\n"
      ],
      "metadata": {
        "id": "6Pe53sNBuGbW"
      }
    },
    {
      "cell_type": "markdown",
      "source": [
        "> ### 파이썬 래퍼 LightGBM과 사이킷런 래퍼 XGBoost, LightGBM 하이퍼 파라미터 비교\n",
        "> ---\n",
        "\n",
        "|파이썬 래퍼 LightGBM|사이킷런 래퍼 LightGBM|사이킷런 래퍼 XGBoost|\n",
        "|---|---|---|\n",
        "|num_iterations|n_estimators|n_estimatros|\n",
        "|learing_rate|learning_rate|learning_rate|\n",
        "|max_depth|max_depth|max_depth|\n",
        "|min_data_in_leaf|min_child_samples|N/A|\n",
        "|bagging_fraction|subsample|subsample|\n",
        "|feature_fraction|colsample_bytree|colsample_bytree|\n",
        "|lambda_l2|reg_lambda|reg_lambda|\n",
        "|lambda_l1|reg_alpha|reg_alpha|\n",
        "|early_stopping_round|early_stopping_rounds|early_stopping_rounds|\n",
        "|num_leaves|num_leaves|N/A|\n",
        "|min_sum_hessian_in_leaf|min_child_weight|min_child_weight|"
      ],
      "metadata": {
        "id": "Q1kzS8b1vkS3"
      }
    },
    {
      "cell_type": "markdown",
      "source": [
        "## LightGBM 적용 - 위스콘신 유방암 예측\n",
        "\n",
        "*위스콘신 유방암 데이터 세트를 이용해 LightGBM으로 예측*\n",
        "- lightbgm에서 LGBMClassifier를 임포트해 사용"
      ],
      "metadata": {
        "id": "cpOu9gDVwlSP"
      }
    },
    {
      "cell_type": "code",
      "source": [
        "## 필요한 모듈 로딩, 조기 중단 수행\n",
        "\n",
        "# LightGBM의 파이썬 패키지인 lightgbm에서 LGBMClassifier 임포트\n",
        "from lightgbm import LGBMClassifier\n",
        "\n",
        "import pandas as pd\n",
        "import numpy as np\n",
        "from sklearn.datasets import load_breast_cancer\n",
        "from sklearn.model_selection import train_test_split\n",
        "\n",
        "dataset = load_breast_cancer()\n",
        "ftr = dataset.data\n",
        "target = dataset.target\n",
        "\n",
        "# 전체 데이터 중 80%는 학습용 데이터, 20%는 테스트용 데이터 추출\n",
        "X_train, X_test, y_train, y_test = train_test_split(ftr, target, test_size=0.2, random_state=156)\n",
        "\n",
        "# 앞서 XGBoost와 동일하게 n_estimators는 400 설정\n",
        "lgbm_wrapper = LGBMClassifier(n_estimators=400)\n",
        "\n",
        "# LightGBM도 XGBoost와 동일하게 조기 중단 수행 가능\n",
        "evals = [(X_test, y_test)]\n",
        "lgbm_wrapper.fit(X_train, y_train, early_stopping_rounds=100, eval_metric=\"logloss\",\n",
        "                 eval_set=evals, verbose=True)\n",
        "preds = lgbm_wrapper.predict(X_test)\n",
        "pred_proba = lgbm_wrapper.predict_proba(X_test)[:, 1]"
      ],
      "metadata": {
        "colab": {
          "base_uri": "https://localhost:8080/"
        },
        "id": "mZ12XAiJpc9z",
        "outputId": "91a6586f-1d42-4e7f-e877-707a09ea3368"
      },
      "execution_count": 18,
      "outputs": [
        {
          "output_type": "stream",
          "name": "stdout",
          "text": [
            "[1]\tvalid_0's binary_logloss: 0.565079\tvalid_0's binary_logloss: 0.565079\n",
            "Training until validation scores don't improve for 100 rounds.\n",
            "[2]\tvalid_0's binary_logloss: 0.507451\tvalid_0's binary_logloss: 0.507451\n",
            "[3]\tvalid_0's binary_logloss: 0.458489\tvalid_0's binary_logloss: 0.458489\n",
            "[4]\tvalid_0's binary_logloss: 0.417481\tvalid_0's binary_logloss: 0.417481\n",
            "[5]\tvalid_0's binary_logloss: 0.385507\tvalid_0's binary_logloss: 0.385507\n",
            "[6]\tvalid_0's binary_logloss: 0.355846\tvalid_0's binary_logloss: 0.355846\n",
            "[7]\tvalid_0's binary_logloss: 0.330897\tvalid_0's binary_logloss: 0.330897\n",
            "[8]\tvalid_0's binary_logloss: 0.306923\tvalid_0's binary_logloss: 0.306923\n",
            "[9]\tvalid_0's binary_logloss: 0.28776\tvalid_0's binary_logloss: 0.28776\n",
            "[10]\tvalid_0's binary_logloss: 0.26917\tvalid_0's binary_logloss: 0.26917\n",
            "[11]\tvalid_0's binary_logloss: 0.250954\tvalid_0's binary_logloss: 0.250954\n",
            "[12]\tvalid_0's binary_logloss: 0.23847\tvalid_0's binary_logloss: 0.23847\n",
            "[13]\tvalid_0's binary_logloss: 0.225865\tvalid_0's binary_logloss: 0.225865\n",
            "[14]\tvalid_0's binary_logloss: 0.215076\tvalid_0's binary_logloss: 0.215076\n",
            "[15]\tvalid_0's binary_logloss: 0.205996\tvalid_0's binary_logloss: 0.205996\n",
            "[16]\tvalid_0's binary_logloss: 0.196091\tvalid_0's binary_logloss: 0.196091\n",
            "[17]\tvalid_0's binary_logloss: 0.186395\tvalid_0's binary_logloss: 0.186395\n",
            "[18]\tvalid_0's binary_logloss: 0.17942\tvalid_0's binary_logloss: 0.17942\n",
            "[19]\tvalid_0's binary_logloss: 0.174727\tvalid_0's binary_logloss: 0.174727\n",
            "[20]\tvalid_0's binary_logloss: 0.168563\tvalid_0's binary_logloss: 0.168563\n",
            "[21]\tvalid_0's binary_logloss: 0.165432\tvalid_0's binary_logloss: 0.165432\n",
            "[22]\tvalid_0's binary_logloss: 0.160356\tvalid_0's binary_logloss: 0.160356\n",
            "[23]\tvalid_0's binary_logloss: 0.155508\tvalid_0's binary_logloss: 0.155508\n",
            "[24]\tvalid_0's binary_logloss: 0.151598\tvalid_0's binary_logloss: 0.151598\n",
            "[25]\tvalid_0's binary_logloss: 0.149861\tvalid_0's binary_logloss: 0.149861\n",
            "[26]\tvalid_0's binary_logloss: 0.149873\tvalid_0's binary_logloss: 0.149873\n",
            "[27]\tvalid_0's binary_logloss: 0.147032\tvalid_0's binary_logloss: 0.147032\n",
            "[28]\tvalid_0's binary_logloss: 0.145077\tvalid_0's binary_logloss: 0.145077\n",
            "[29]\tvalid_0's binary_logloss: 0.139891\tvalid_0's binary_logloss: 0.139891\n",
            "[30]\tvalid_0's binary_logloss: 0.137416\tvalid_0's binary_logloss: 0.137416\n",
            "[31]\tvalid_0's binary_logloss: 0.138393\tvalid_0's binary_logloss: 0.138393\n",
            "[32]\tvalid_0's binary_logloss: 0.135948\tvalid_0's binary_logloss: 0.135948\n",
            "[33]\tvalid_0's binary_logloss: 0.132968\tvalid_0's binary_logloss: 0.132968\n",
            "[34]\tvalid_0's binary_logloss: 0.129697\tvalid_0's binary_logloss: 0.129697\n",
            "[35]\tvalid_0's binary_logloss: 0.131102\tvalid_0's binary_logloss: 0.131102\n",
            "[36]\tvalid_0's binary_logloss: 0.129382\tvalid_0's binary_logloss: 0.129382\n",
            "[37]\tvalid_0's binary_logloss: 0.128044\tvalid_0's binary_logloss: 0.128044\n",
            "[38]\tvalid_0's binary_logloss: 0.127325\tvalid_0's binary_logloss: 0.127325\n",
            "[39]\tvalid_0's binary_logloss: 0.128091\tvalid_0's binary_logloss: 0.128091\n",
            "[40]\tvalid_0's binary_logloss: 0.129045\tvalid_0's binary_logloss: 0.129045\n",
            "[41]\tvalid_0's binary_logloss: 0.127023\tvalid_0's binary_logloss: 0.127023\n",
            "[42]\tvalid_0's binary_logloss: 0.129314\tvalid_0's binary_logloss: 0.129314\n",
            "[43]\tvalid_0's binary_logloss: 0.129175\tvalid_0's binary_logloss: 0.129175\n",
            "[44]\tvalid_0's binary_logloss: 0.128212\tvalid_0's binary_logloss: 0.128212\n",
            "[45]\tvalid_0's binary_logloss: 0.126664\tvalid_0's binary_logloss: 0.126664\n",
            "[46]\tvalid_0's binary_logloss: 0.127662\tvalid_0's binary_logloss: 0.127662\n",
            "[47]\tvalid_0's binary_logloss: 0.126108\tvalid_0's binary_logloss: 0.126108\n",
            "[48]\tvalid_0's binary_logloss: 0.129371\tvalid_0's binary_logloss: 0.129371\n",
            "[49]\tvalid_0's binary_logloss: 0.129573\tvalid_0's binary_logloss: 0.129573\n",
            "[50]\tvalid_0's binary_logloss: 0.130876\tvalid_0's binary_logloss: 0.130876\n",
            "[51]\tvalid_0's binary_logloss: 0.131366\tvalid_0's binary_logloss: 0.131366\n",
            "[52]\tvalid_0's binary_logloss: 0.131336\tvalid_0's binary_logloss: 0.131336\n",
            "[53]\tvalid_0's binary_logloss: 0.13208\tvalid_0's binary_logloss: 0.13208\n",
            "[54]\tvalid_0's binary_logloss: 0.13306\tvalid_0's binary_logloss: 0.13306\n",
            "[55]\tvalid_0's binary_logloss: 0.132342\tvalid_0's binary_logloss: 0.132342\n",
            "[56]\tvalid_0's binary_logloss: 0.134836\tvalid_0's binary_logloss: 0.134836\n",
            "[57]\tvalid_0's binary_logloss: 0.135208\tvalid_0's binary_logloss: 0.135208\n",
            "[58]\tvalid_0's binary_logloss: 0.13328\tvalid_0's binary_logloss: 0.13328\n",
            "[59]\tvalid_0's binary_logloss: 0.134147\tvalid_0's binary_logloss: 0.134147\n",
            "[60]\tvalid_0's binary_logloss: 0.134549\tvalid_0's binary_logloss: 0.134549\n",
            "[61]\tvalid_0's binary_logloss: 0.133202\tvalid_0's binary_logloss: 0.133202\n",
            "[62]\tvalid_0's binary_logloss: 0.135726\tvalid_0's binary_logloss: 0.135726\n",
            "[63]\tvalid_0's binary_logloss: 0.134011\tvalid_0's binary_logloss: 0.134011\n",
            "[64]\tvalid_0's binary_logloss: 0.131493\tvalid_0's binary_logloss: 0.131493\n",
            "[65]\tvalid_0's binary_logloss: 0.134114\tvalid_0's binary_logloss: 0.134114\n",
            "[66]\tvalid_0's binary_logloss: 0.134525\tvalid_0's binary_logloss: 0.134525\n",
            "[67]\tvalid_0's binary_logloss: 0.131412\tvalid_0's binary_logloss: 0.131412\n",
            "[68]\tvalid_0's binary_logloss: 0.12878\tvalid_0's binary_logloss: 0.12878\n",
            "[69]\tvalid_0's binary_logloss: 0.129571\tvalid_0's binary_logloss: 0.129571\n",
            "[70]\tvalid_0's binary_logloss: 0.129671\tvalid_0's binary_logloss: 0.129671\n",
            "[71]\tvalid_0's binary_logloss: 0.129935\tvalid_0's binary_logloss: 0.129935\n",
            "[72]\tvalid_0's binary_logloss: 0.128951\tvalid_0's binary_logloss: 0.128951\n",
            "[73]\tvalid_0's binary_logloss: 0.128977\tvalid_0's binary_logloss: 0.128977\n",
            "[74]\tvalid_0's binary_logloss: 0.127121\tvalid_0's binary_logloss: 0.127121\n",
            "[75]\tvalid_0's binary_logloss: 0.128107\tvalid_0's binary_logloss: 0.128107\n",
            "[76]\tvalid_0's binary_logloss: 0.129796\tvalid_0's binary_logloss: 0.129796\n",
            "[77]\tvalid_0's binary_logloss: 0.131663\tvalid_0's binary_logloss: 0.131663\n",
            "[78]\tvalid_0's binary_logloss: 0.132483\tvalid_0's binary_logloss: 0.132483\n",
            "[79]\tvalid_0's binary_logloss: 0.131578\tvalid_0's binary_logloss: 0.131578\n",
            "[80]\tvalid_0's binary_logloss: 0.130352\tvalid_0's binary_logloss: 0.130352\n",
            "[81]\tvalid_0's binary_logloss: 0.129895\tvalid_0's binary_logloss: 0.129895\n",
            "[82]\tvalid_0's binary_logloss: 0.131587\tvalid_0's binary_logloss: 0.131587\n",
            "[83]\tvalid_0's binary_logloss: 0.132763\tvalid_0's binary_logloss: 0.132763\n",
            "[84]\tvalid_0's binary_logloss: 0.133677\tvalid_0's binary_logloss: 0.133677\n",
            "[85]\tvalid_0's binary_logloss: 0.137552\tvalid_0's binary_logloss: 0.137552\n",
            "[86]\tvalid_0's binary_logloss: 0.136055\tvalid_0's binary_logloss: 0.136055\n",
            "[87]\tvalid_0's binary_logloss: 0.137904\tvalid_0's binary_logloss: 0.137904\n",
            "[88]\tvalid_0's binary_logloss: 0.139524\tvalid_0's binary_logloss: 0.139524\n",
            "[89]\tvalid_0's binary_logloss: 0.138434\tvalid_0's binary_logloss: 0.138434\n",
            "[90]\tvalid_0's binary_logloss: 0.138402\tvalid_0's binary_logloss: 0.138402\n",
            "[91]\tvalid_0's binary_logloss: 0.139384\tvalid_0's binary_logloss: 0.139384\n",
            "[92]\tvalid_0's binary_logloss: 0.139642\tvalid_0's binary_logloss: 0.139642\n",
            "[93]\tvalid_0's binary_logloss: 0.138006\tvalid_0's binary_logloss: 0.138006\n",
            "[94]\tvalid_0's binary_logloss: 0.141612\tvalid_0's binary_logloss: 0.141612\n",
            "[95]\tvalid_0's binary_logloss: 0.142319\tvalid_0's binary_logloss: 0.142319\n",
            "[96]\tvalid_0's binary_logloss: 0.145095\tvalid_0's binary_logloss: 0.145095\n",
            "[97]\tvalid_0's binary_logloss: 0.141542\tvalid_0's binary_logloss: 0.141542\n",
            "[98]\tvalid_0's binary_logloss: 0.144993\tvalid_0's binary_logloss: 0.144993\n",
            "[99]\tvalid_0's binary_logloss: 0.147936\tvalid_0's binary_logloss: 0.147936\n",
            "[100]\tvalid_0's binary_logloss: 0.147432\tvalid_0's binary_logloss: 0.147432\n",
            "[101]\tvalid_0's binary_logloss: 0.149689\tvalid_0's binary_logloss: 0.149689\n",
            "[102]\tvalid_0's binary_logloss: 0.153542\tvalid_0's binary_logloss: 0.153542\n",
            "[103]\tvalid_0's binary_logloss: 0.154556\tvalid_0's binary_logloss: 0.154556\n",
            "[104]\tvalid_0's binary_logloss: 0.155458\tvalid_0's binary_logloss: 0.155458\n",
            "[105]\tvalid_0's binary_logloss: 0.159357\tvalid_0's binary_logloss: 0.159357\n",
            "[106]\tvalid_0's binary_logloss: 0.160176\tvalid_0's binary_logloss: 0.160176\n",
            "[107]\tvalid_0's binary_logloss: 0.163369\tvalid_0's binary_logloss: 0.163369\n",
            "[108]\tvalid_0's binary_logloss: 0.163494\tvalid_0's binary_logloss: 0.163494\n",
            "[109]\tvalid_0's binary_logloss: 0.161111\tvalid_0's binary_logloss: 0.161111\n",
            "[110]\tvalid_0's binary_logloss: 0.16332\tvalid_0's binary_logloss: 0.16332\n",
            "[111]\tvalid_0's binary_logloss: 0.1663\tvalid_0's binary_logloss: 0.1663\n",
            "[112]\tvalid_0's binary_logloss: 0.166363\tvalid_0's binary_logloss: 0.166363\n",
            "[113]\tvalid_0's binary_logloss: 0.169834\tvalid_0's binary_logloss: 0.169834\n",
            "[114]\tvalid_0's binary_logloss: 0.166509\tvalid_0's binary_logloss: 0.166509\n",
            "[115]\tvalid_0's binary_logloss: 0.165823\tvalid_0's binary_logloss: 0.165823\n",
            "[116]\tvalid_0's binary_logloss: 0.167059\tvalid_0's binary_logloss: 0.167059\n",
            "[117]\tvalid_0's binary_logloss: 0.169086\tvalid_0's binary_logloss: 0.169086\n",
            "[118]\tvalid_0's binary_logloss: 0.170012\tvalid_0's binary_logloss: 0.170012\n",
            "[119]\tvalid_0's binary_logloss: 0.168639\tvalid_0's binary_logloss: 0.168639\n",
            "[120]\tvalid_0's binary_logloss: 0.16907\tvalid_0's binary_logloss: 0.16907\n",
            "[121]\tvalid_0's binary_logloss: 0.16918\tvalid_0's binary_logloss: 0.16918\n",
            "[122]\tvalid_0's binary_logloss: 0.170233\tvalid_0's binary_logloss: 0.170233\n",
            "[123]\tvalid_0's binary_logloss: 0.165655\tvalid_0's binary_logloss: 0.165655\n",
            "[124]\tvalid_0's binary_logloss: 0.16695\tvalid_0's binary_logloss: 0.16695\n",
            "[125]\tvalid_0's binary_logloss: 0.170955\tvalid_0's binary_logloss: 0.170955\n",
            "[126]\tvalid_0's binary_logloss: 0.168916\tvalid_0's binary_logloss: 0.168916\n",
            "[127]\tvalid_0's binary_logloss: 0.172316\tvalid_0's binary_logloss: 0.172316\n",
            "[128]\tvalid_0's binary_logloss: 0.173734\tvalid_0's binary_logloss: 0.173734\n",
            "[129]\tvalid_0's binary_logloss: 0.174309\tvalid_0's binary_logloss: 0.174309\n",
            "[130]\tvalid_0's binary_logloss: 0.176719\tvalid_0's binary_logloss: 0.176719\n",
            "[131]\tvalid_0's binary_logloss: 0.176591\tvalid_0's binary_logloss: 0.176591\n",
            "[132]\tvalid_0's binary_logloss: 0.180168\tvalid_0's binary_logloss: 0.180168\n",
            "[133]\tvalid_0's binary_logloss: 0.179856\tvalid_0's binary_logloss: 0.179856\n",
            "[134]\tvalid_0's binary_logloss: 0.179251\tvalid_0's binary_logloss: 0.179251\n",
            "[135]\tvalid_0's binary_logloss: 0.18315\tvalid_0's binary_logloss: 0.18315\n",
            "[136]\tvalid_0's binary_logloss: 0.184656\tvalid_0's binary_logloss: 0.184656\n",
            "[137]\tvalid_0's binary_logloss: 0.187475\tvalid_0's binary_logloss: 0.187475\n",
            "[138]\tvalid_0's binary_logloss: 0.188721\tvalid_0's binary_logloss: 0.188721\n",
            "[139]\tvalid_0's binary_logloss: 0.188542\tvalid_0's binary_logloss: 0.188542\n",
            "[140]\tvalid_0's binary_logloss: 0.18817\tvalid_0's binary_logloss: 0.18817\n",
            "[141]\tvalid_0's binary_logloss: 0.185899\tvalid_0's binary_logloss: 0.185899\n",
            "[142]\tvalid_0's binary_logloss: 0.185452\tvalid_0's binary_logloss: 0.185452\n",
            "[143]\tvalid_0's binary_logloss: 0.186084\tvalid_0's binary_logloss: 0.186084\n",
            "[144]\tvalid_0's binary_logloss: 0.185302\tvalid_0's binary_logloss: 0.185302\n",
            "[145]\tvalid_0's binary_logloss: 0.187856\tvalid_0's binary_logloss: 0.187856\n",
            "[146]\tvalid_0's binary_logloss: 0.190334\tvalid_0's binary_logloss: 0.190334\n",
            "[147]\tvalid_0's binary_logloss: 0.192769\tvalid_0's binary_logloss: 0.192769\n",
            "Early stopping, best iteration is:\n",
            "[47]\tvalid_0's binary_logloss: 0.126108\tvalid_0's binary_logloss: 0.126108\n"
          ]
        }
      ]
    },
    {
      "cell_type": "markdown",
      "source": [
        "- 학습된 LightGBM 모델을 기반으로 예측 성능 평가"
      ],
      "metadata": {
        "id": "rfkhU01fymYm"
      }
    },
    {
      "cell_type": "code",
      "source": [
        "## 학습된 LightGBM 모델을 기반으로 예측 성능 평가\n",
        "\n",
        "get_clf_eval(y_test, preds, pred_proba)"
      ],
      "metadata": {
        "colab": {
          "base_uri": "https://localhost:8080/"
        },
        "id": "FYK1UCApyJ2J",
        "outputId": "9a11013c-fbf6-49bd-bc7d-4619ac8ec241"
      },
      "execution_count": 19,
      "outputs": [
        {
          "output_type": "stream",
          "name": "stdout",
          "text": [
            "오차 행렬\n",
            "[[33  4]\n",
            " [ 2 75]]\n",
            "정확도: 0.9474, 정밀도: 0.9494, 재현율: 0.9740, F1: 0.9615, AUC:0.9926\n"
          ]
        }
      ]
    },
    {
      "cell_type": "markdown",
      "source": [
        "- lightgbm은 XGBoost 파이썬 패키지인 xgboost와 동일하게 피처 중요도를 시각화할 수 있는 내장 API `plot_importance()` 제공한다.\n",
        "- 사이킷런 래퍼 클래스를 입력해도 시각화 제공한다."
      ],
      "metadata": {
        "id": "Fq2frEvty9GY"
      }
    },
    {
      "cell_type": "markdown",
      "source": [
        "## **10. 스태킹 앙상블**\n",
        "--- \n",
        "\n",
        "- 스태킹(Stacking)은 개별적인 여러 알고리즘을 서로 결합해 예측 결과를 도출한다는 점에서 앞에 소개 한 배경(Bagging) 및 부스팅(Boosting)과 공통점을 가진다.\n",
        "- 가장 큰 차이점은 개별 알고리즘으로 예측한 데이터를 기반으로 다시 예측을 수행한다는 것이다. 즉, 개별 알고리즘의 예측 결과 데이터 세트를 최종적인 메타 데이터 세트로 만들어 별도의 ML 알고리즘으로 최종 학습을 수행하고 테스트 데이터를 기반으로 다시 최종 예측을 수행하는 방식이다.\n",
        "- 스태킹 모델은 두 종류의 모델이 필요하다.\n",
        "    - 첫 번째는 개별적인 기반 모델\n",
        "    - 두 번째는 이 개별 기반 모델의 예측 데이터를 학습 데이터로 만들어서 학습하는 최종 메타 모델\n",
        "- 스태킹 모델의 핵심은 여러 개별 모델의 예측 데이터를 각각 스태킹 형태로 결합해 최종 메타 모델의 학습용 피처 데이터 세트와 테스트용 피처 데이터 세트를 만드는 것이다.\n",
        "- 스태킹을 적용할 때는 많은 개별 모델이 필요하다. 2~3개의 개별 모델만을 결합해서는 쉽게 예측 성능을 향상시킬 수 없으며, 스태킹을 적용한다고 해서 반드시 성능 향상이 되리라는 보장도 없다."
      ],
      "metadata": {
        "id": "dBdEkRZmzOtI"
      }
    },
    {
      "cell_type": "markdown",
      "source": [
        "![image.png](data:image/png;base64,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)"
      ],
      "metadata": {
        "id": "isl1083J0hqr"
      }
    },
    {
      "cell_type": "markdown",
      "source": [
        "> ### 기본 스태킹 모델\n",
        "> ---\n",
        "\n",
        "*기본 스태킹 모델을 위스콘신 유방암 데이터 세트에 적용*\n",
        "- 데이터 다시 로딩하고 학습 데이터 세트와 테스트 데이터 세트로 나누기"
      ],
      "metadata": {
        "id": "zTOMpWB00pvI"
      }
    },
    {
      "cell_type": "code",
      "source": [
        "import numpy as np\n",
        "\n",
        "from sklearn.neighbors import KNeighborsClassifier\n",
        "from sklearn.ensemble import RandomForestClassifier\n",
        "from sklearn.ensemble import AdaBoostClassifier\n",
        "from sklearn.tree import DecisionTreeClassifier\n",
        "from sklearn.linear_model import LogisticRegression\n",
        "\n",
        "from sklearn.datasets import load_breast_cancer\n",
        "from sklearn.model_selection import train_test_split\n",
        "from sklearn.metrics import accuracy_score\n",
        "\n",
        "cancer_data = load_breast_cancer()\n",
        "\n",
        "X_data = cancer_data.data\n",
        "y_label = cancer_data.target\n",
        "\n",
        "X_train, X_test, y_train, y_test = train_test_split(X_data, y_label, test_size=0.2, random_state=0)"
      ],
      "metadata": {
        "id": "PVIIBNiwywdM"
      },
      "execution_count": 20,
      "outputs": []
    },
    {
      "cell_type": "markdown",
      "source": [
        "- 스태킹에 사용될 머신러닝 알고리즘 클래스를 생성\n",
        "    - 개별 모델은 KNN, 랜덤 포레스트, 결정 트리, 에이다부스트이며, 이들 모델의 예측 결과를 합한 데이터 세트로 학습/예측하는 최종 모델은 로지스틱 회귀"
      ],
      "metadata": {
        "id": "0QGVb-Ys1j6g"
      }
    },
    {
      "cell_type": "code",
      "source": [
        "## 사용될 머신러닝 알고리즘 클래스 생성\n",
        "\n",
        "# 개별 ML 모델 생성\n",
        "knn_clf = KNeighborsClassifier(n_neighbors=4)\n",
        "rf_clf = RandomForestClassifier(n_estimators=100, random_state=0)\n",
        "dt_clf = DecisionTreeClassifier()\n",
        "ada_clf = AdaBoostClassifier(n_estimators=100)\n",
        "\n",
        "# 스태킹으로 만들어진 데이터 세트를 학습, 예측할 최종 모델\n",
        "lr_final = LogisticRegression(C=10)"
      ],
      "metadata": {
        "id": "s2D-OWcV1i-m"
      },
      "execution_count": 21,
      "outputs": []
    },
    {
      "cell_type": "markdown",
      "source": [
        "- 개별 모델 학습"
      ],
      "metadata": {
        "id": "6aMPQUuH1-lk"
      }
    },
    {
      "cell_type": "code",
      "source": [
        "## 개별 모델 학습\n",
        "\n",
        "# 개별 모델들을 학습.\n",
        "knn_clf.fit(X_train, y_train)\n",
        "rf_clf.fit(X_train, y_train)\n",
        "dt_clf.fit(X_train, y_train)\n",
        "ada_clf.fit(X_train, y_train)"
      ],
      "metadata": {
        "colab": {
          "base_uri": "https://localhost:8080/"
        },
        "id": "gdirKu4D1-E4",
        "outputId": "5388fa8f-0d6f-4222-9095-9c5bcbc735f2"
      },
      "execution_count": 22,
      "outputs": [
        {
          "output_type": "execute_result",
          "data": {
            "text/plain": [
              "AdaBoostClassifier(n_estimators=100)"
            ]
          },
          "metadata": {},
          "execution_count": 22
        }
      ]
    },
    {
      "cell_type": "markdown",
      "source": [
        "- 개별 모델의 예측 데이터 세트를 반환하고 각 모델의 예측 정확도 확인"
      ],
      "metadata": {
        "id": "FlqD6JPj2F2N"
      }
    },
    {
      "cell_type": "code",
      "source": [
        "## 개별 모델의 예측 데이터 세트를 반환하고 각 모델의 예측 정확도 확인\n",
        "\n",
        "# 학습된 개별 모델들이 각자 변환하는 예측 데이터 세트를 생성하고 개별 모델의 정확도 측정\n",
        "knn_pred = knn_clf.predict(X_test)\n",
        "rf_pred = rf_clf.predict(X_test)\n",
        "dt_pred = dt_clf.predict(X_test)\n",
        "ada_pred = ada_clf.predict(X_test)\n",
        "\n",
        "print('KNN 정확도: {0:.4f}'.format(accuracy_score(y_test, knn_pred)))\n",
        "print('랜덤 포레스트 정확도: {0:.4f}'.format(accuracy_score(y_test, rf_pred)))\n",
        "print('결정 트리 정확도: {0:.4f}'.format(accuracy_score(y_test, dt_pred)))\n",
        "print('에이다부스트 정확도: {0:.4f} :'.format(accuracy_score(y_test, ada_pred)))"
      ],
      "metadata": {
        "colab": {
          "base_uri": "https://localhost:8080/"
        },
        "id": "7ZVZT2oO2EoZ",
        "outputId": "4d453bbb-9db9-43d1-bb4e-f69bb8e77d50"
      },
      "execution_count": 23,
      "outputs": [
        {
          "output_type": "stream",
          "name": "stdout",
          "text": [
            "KNN 정확도: 0.9211\n",
            "랜덤 포레스트 정확도: 0.9649\n",
            "결정 트리 정확도: 0.9035\n",
            "에이다부스트 정확도: 0.9561 :\n"
          ]
        }
      ]
    },
    {
      "cell_type": "markdown",
      "source": [
        "- 개별 알고리즘으로부터 예측된 예측값을 칼럼 레벨로 옆으로 붙여서 피처 값으로 만들어, 최종 메타 모델인 로지스틱 회귀에서 학습 데이터로 다시 사용\n",
        "    - 반환된 예측 데이터 세트는 1차원 형태의 ndarray이므로 먼저 반환된 예측 결과를 행 형태로 붙인 뒤, 넘파이의 `transpose()`를 이용해 행과 열 위치를 바꾼 ndarray로 변환하면 됨\n"
      ],
      "metadata": {
        "id": "i7nSnTgg2YjE"
      }
    },
    {
      "cell_type": "code",
      "source": [
        "pred = np.array([knn_pred, rf_pred, dt_pred, ada_pred])\n",
        "print(pred.shape)\n",
        "\n",
        "# transpose를 이용해 행과 열의 위치 교환. 컬럼 레벨로 각 알고리즘의 예측 결과를 피처로 만듦 \n",
        "pred = np.transpose(pred)\n",
        "print(pred.shape)"
      ],
      "metadata": {
        "colab": {
          "base_uri": "https://localhost:8080/"
        },
        "id": "Y4cwkgC62Xcr",
        "outputId": "d90fa82a-9108-44b3-dca1-69576476de7b"
      },
      "execution_count": 24,
      "outputs": [
        {
          "output_type": "stream",
          "name": "stdout",
          "text": [
            "(4, 114)\n",
            "(114, 4)\n"
          ]
        }
      ]
    },
    {
      "cell_type": "markdown",
      "source": [
        "- 예측 데이터로 생성된 데이터 세트를 기반으로 최종 메타 모델인 로지스틱 회귀 학습하고 예측 정확도 측정\n"
      ],
      "metadata": {
        "id": "saWYiO5p24J8"
      }
    },
    {
      "cell_type": "code",
      "source": [
        "lr_final.fit(pred, y_test)\n",
        "final = lr_final.predict(pred)\n",
        "\n",
        "print('최종 메타 모델의 예측 정확도: {0:.4f}'.format(accuracy_score(y_test, final)))"
      ],
      "metadata": {
        "colab": {
          "base_uri": "https://localhost:8080/"
        },
        "id": "DmuY5PCa2t96",
        "outputId": "fa9c6281-f807-4e74-af11-aa566fc75f3f"
      },
      "execution_count": 25,
      "outputs": [
        {
          "output_type": "stream",
          "name": "stdout",
          "text": [
            "최종 메타 모델의 예측 정확도: 0.9737\n"
          ]
        }
      ]
    }
  ]
}