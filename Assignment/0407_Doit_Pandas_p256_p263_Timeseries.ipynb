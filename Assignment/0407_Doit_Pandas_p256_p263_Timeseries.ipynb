{
  "nbformat": 4,
  "nbformat_minor": 0,
  "metadata": {
    "colab": {
      "name": "0407 Doit Pandas p256-p263 Timeseries.ipynb",
      "provenance": []
    },
    "kernelspec": {
      "name": "python3",
      "display_name": "Python 3"
    },
    "language_info": {
      "name": "python"
    }
  },
  "cells": [
    {
      "cell_type": "markdown",
      "source": [
        "## **12. 시계열 데이터**"
      ],
      "metadata": {
        "id": "79_jJLHlK-Z2"
      }
    },
    {
      "cell_type": "markdown",
      "source": [
        "> ### 12 - 1 datetime 오브젝트\n",
        "> ---\n",
        "\n",
        "* datetime 라이브러리: 날짜와 시간을 처리하는 등의 다양한 기능을 제공하는 파이썬 라이브러리\n",
        "    * date 오브젝트: 날짜 처리\n",
        "    * time 오브젝트: 시간 처리\n",
        "    * datetime 오브젝트: 날짜와 시간을 모두 처리"
      ],
      "metadata": {
        "id": "2jzVmNyQLBqo"
      }
    },
    {
      "cell_type": "markdown",
      "source": [
        "#### *datetime 오브젝트 사용하기*\n",
        "1. datetime 라이브러리를 불러온다."
      ],
      "metadata": {
        "id": "DhoP5vhBNiYe"
      }
    },
    {
      "cell_type": "code",
      "execution_count": 1,
      "metadata": {
        "id": "ZiSPJNnLKgTc"
      },
      "outputs": [],
      "source": [
        "from datetime import datetime"
      ]
    },
    {
      "cell_type": "markdown",
      "source": [
        "2. `now`, `today` 메서드를 사용하여 현재 시간을 출력할 수 있다."
      ],
      "metadata": {
        "id": "1jsla0XvMznl"
      }
    },
    {
      "cell_type": "code",
      "source": [
        "## 현재 시간 출력\n",
        "\n",
        "now1 = datetime.now()\n",
        "print(now1)\n",
        "\n",
        "now2 = datetime.today()\n",
        "print(now2)"
      ],
      "metadata": {
        "colab": {
          "base_uri": "https://localhost:8080/"
        },
        "id": "jAStSrufMJpX",
        "outputId": "9d716492-2467-47c1-ff34-dbaac5184786"
      },
      "execution_count": 2,
      "outputs": [
        {
          "output_type": "stream",
          "name": "stdout",
          "text": [
            "2022-04-09 10:27:07.389760\n",
            "2022-04-09 10:27:07.391051\n"
          ]
        }
      ]
    },
    {
      "cell_type": "markdown",
      "source": [
        "3. datetime 오브젝트를 생성할 때 시간을 직접 입력하여 인자로 전달해 각 변수를 출력할 수 있다."
      ],
      "metadata": {
        "id": "yy0xGpLDM2SY"
      }
    },
    {
      "cell_type": "code",
      "source": [
        "## 시간을 직접 인자로 전달\n",
        "\n",
        "t1 = datetime.now()\n",
        "t2 = datetime(1970, 1, 1)\n",
        "t3 = datetime(1970, 12, 12, 13, 24, 34)\n",
        "\n",
        "print(t1)\n",
        "print(t2)\n",
        "print(t3)"
      ],
      "metadata": {
        "colab": {
          "base_uri": "https://localhost:8080/"
        },
        "id": "ocf1BbwxMN10",
        "outputId": "43c11937-600b-40a5-c2c4-90d47811b2e7"
      },
      "execution_count": 3,
      "outputs": [
        {
          "output_type": "stream",
          "name": "stdout",
          "text": [
            "2022-04-09 10:27:09.101204\n",
            "1970-01-01 00:00:00\n",
            "1970-12-12 13:24:34\n"
          ]
        }
      ]
    },
    {
      "cell_type": "markdown",
      "source": [
        "4. datetime 오브젝트를 사용하여 시간 계산을 할 수 있다."
      ],
      "metadata": {
        "id": "3AQ2s5S8M46A"
      }
    },
    {
      "cell_type": "code",
      "source": [
        "## 두 datetime 오브젝트의 차이를 구함\n",
        "\n",
        "diff1 = t1 - t2\n",
        "print(diff1)\n",
        "print(type(diff1))\n",
        "\n",
        "diff2 = t2 - t1\n",
        "print(diff2)\n",
        "print(type(diff2))"
      ],
      "metadata": {
        "colab": {
          "base_uri": "https://localhost:8080/"
        },
        "id": "tDKX--m5MbM-",
        "outputId": "3680bcab-2f80-4429-9901-9e6bb861416f"
      },
      "execution_count": 4,
      "outputs": [
        {
          "output_type": "stream",
          "name": "stdout",
          "text": [
            "19091 days, 10:27:09.101204\n",
            "<class 'datetime.timedelta'>\n",
            "-19092 days, 13:32:50.898796\n",
            "<class 'datetime.timedelta'>\n"
          ]
        }
      ]
    },
    {
      "cell_type": "markdown",
      "source": [
        "#### *테슬라 주식 데이터로 시간 계산하기*\n",
        "\n",
        "1. 테슬라 주식 데이터 내려받는다.\n",
        "* **`get_data_quanal`** 메서드에 TSLA라는 문자열을 전달하여 테슬라의 주식 데이터를 내려받음\n",
        "* **`to_csv`** 메서드를 사용하여 data 폴더 안에 'tesla_stock_quandl.csv'라는 이름으로 저장\n",
        "\n"
      ],
      "metadata": {
        "id": "spPc040ZNVdF"
      }
    },
    {
      "cell_type": "code",
      "source": [
        "!pip install pandas-datareader"
      ],
      "metadata": {
        "colab": {
          "base_uri": "https://localhost:8080/"
        },
        "id": "E9MToMHaMhrf",
        "outputId": "4ec899d4-ac5b-47fe-9c40-c4570d7a5036"
      },
      "execution_count": 5,
      "outputs": [
        {
          "output_type": "stream",
          "name": "stdout",
          "text": [
            "Requirement already satisfied: pandas-datareader in /usr/local/lib/python3.7/dist-packages (0.9.0)\n",
            "Requirement already satisfied: lxml in /usr/local/lib/python3.7/dist-packages (from pandas-datareader) (4.2.6)\n",
            "Requirement already satisfied: requests>=2.19.0 in /usr/local/lib/python3.7/dist-packages (from pandas-datareader) (2.23.0)\n",
            "Requirement already satisfied: pandas>=0.23 in /usr/local/lib/python3.7/dist-packages (from pandas-datareader) (1.3.5)\n",
            "Requirement already satisfied: pytz>=2017.3 in /usr/local/lib/python3.7/dist-packages (from pandas>=0.23->pandas-datareader) (2018.9)\n",
            "Requirement already satisfied: python-dateutil>=2.7.3 in /usr/local/lib/python3.7/dist-packages (from pandas>=0.23->pandas-datareader) (2.8.2)\n",
            "Requirement already satisfied: numpy>=1.17.3 in /usr/local/lib/python3.7/dist-packages (from pandas>=0.23->pandas-datareader) (1.21.5)\n",
            "Requirement already satisfied: six>=1.5 in /usr/local/lib/python3.7/dist-packages (from python-dateutil>=2.7.3->pandas>=0.23->pandas-datareader) (1.15.0)\n",
            "Requirement already satisfied: chardet<4,>=3.0.2 in /usr/local/lib/python3.7/dist-packages (from requests>=2.19.0->pandas-datareader) (3.0.4)\n",
            "Requirement already satisfied: urllib3!=1.25.0,!=1.25.1,<1.26,>=1.21.1 in /usr/local/lib/python3.7/dist-packages (from requests>=2.19.0->pandas-datareader) (1.24.3)\n",
            "Requirement already satisfied: certifi>=2017.4.17 in /usr/local/lib/python3.7/dist-packages (from requests>=2.19.0->pandas-datareader) (2021.10.8)\n",
            "Requirement already satisfied: idna<3,>=2.5 in /usr/local/lib/python3.7/dist-packages (from requests>=2.19.0->pandas-datareader) (2.10)\n"
          ]
        }
      ]
    },
    {
      "cell_type": "code",
      "source": [
        "import pandas as pd\n",
        "from google.colab import drive\n",
        "drive.mount('/content/drive')"
      ],
      "metadata": {
        "colab": {
          "base_uri": "https://localhost:8080/"
        },
        "id": "H7X_YT8RV-L_",
        "outputId": "e25b1be6-a03c-4b0a-f2ef-ba1665c83b57"
      },
      "execution_count": 6,
      "outputs": [
        {
          "output_type": "stream",
          "name": "stdout",
          "text": [
            "Mounted at /content/drive\n"
          ]
        }
      ]
    },
    {
      "cell_type": "code",
      "source": [
        "pd.core.common.is_list_like = pd.api.types.is_list_like\n",
        "import pandas_datareader as pdr\n",
        "\n",
        "# tesla에 데이터프레임 저장\n",
        "tesla = pdr.get_data_quandl('TSLA', api_key = 'Phxx_ez-sYDE9vhMheqz')\n",
        "\n",
        "# tesla에 저장된 데이터프레임을 파일로 저장\n",
        "tesla.to_csv('/content/drive/MyDrive/ESAA/data/tesla_stock_quandl.csv')"
      ],
      "metadata": {
        "id": "lvO-DtJKUAfj"
      },
      "execution_count": 7,
      "outputs": []
    },
    {
      "cell_type": "markdown",
      "source": [
        "2. tesla 데이터프레임을 확인한다.\n",
        "* tesla 데이터프레임의 Date 열은 문자열로 저장되어 있어 datetime 오브젝트로 자료형을 변환해야 시간 계산 가능."
      ],
      "metadata": {
        "id": "5DG0MwDiY8qm"
      }
    },
    {
      "cell_type": "code",
      "source": [
        "print(tesla.head())"
      ],
      "metadata": {
        "colab": {
          "base_uri": "https://localhost:8080/"
        },
        "id": "0W93OPHOUhv1",
        "outputId": "548d9976-73b5-417c-c500-d0dccecd357e"
      },
      "execution_count": 8,
      "outputs": [
        {
          "output_type": "stream",
          "name": "stdout",
          "text": [
            "              Open    High     Low   Close      Volume  ExDividend  \\\n",
            "Date                                                                 \n",
            "2018-03-27  304.00  304.27  277.18  279.18  13696168.0         0.0   \n",
            "2018-03-26  307.34  307.59  291.36  304.18   8324639.0         0.0   \n",
            "2018-03-23  311.25  311.61  300.45  301.54   6600538.0         0.0   \n",
            "2018-03-22  313.89  318.82  308.18  309.10   4914307.0         0.0   \n",
            "2018-03-21  310.25  322.44  310.19  316.53   5927881.0         0.0   \n",
            "\n",
            "            SplitRatio  AdjOpen  AdjHigh  AdjLow  AdjClose   AdjVolume  \n",
            "Date                                                                    \n",
            "2018-03-27         1.0   304.00   304.27  277.18    279.18  13696168.0  \n",
            "2018-03-26         1.0   307.34   307.59  291.36    304.18   8324639.0  \n",
            "2018-03-23         1.0   311.25   311.61  300.45    301.54   6600538.0  \n",
            "2018-03-22         1.0   313.89   318.82  308.18    309.10   4914307.0  \n",
            "2018-03-21         1.0   310.25   322.44  310.19    316.53   5927881.0  \n"
          ]
        }
      ]
    },
    {
      "cell_type": "markdown",
      "source": [
        "3. Date 열을 Datetime 형으로 변환한다.\n",
        "* `read_csv` 메서드로 데이터 집합(tesla_stock_quandl.csv)을 불러올 때 **`parse_dates`** 인자에 Date 열을 전달\n"
      ],
      "metadata": {
        "id": "BZBlKLeLZoV8"
      }
    },
    {
      "cell_type": "code",
      "source": [
        "tesla = pd.read_csv('/content/drive/MyDrive/ESAA/data/tesla_stock_quandl.csv', parse_dates=[0])\n",
        "print(tesla.info())"
      ],
      "metadata": {
        "colab": {
          "base_uri": "https://localhost:8080/"
        },
        "id": "zZvNp8VRYPV7",
        "outputId": "79b32c04-8899-4f58-f79e-02251c65b548"
      },
      "execution_count": 9,
      "outputs": [
        {
          "output_type": "stream",
          "name": "stdout",
          "text": [
            "<class 'pandas.core.frame.DataFrame'>\n",
            "RangeIndex: 242 entries, 0 to 241\n",
            "Data columns (total 13 columns):\n",
            " #   Column      Non-Null Count  Dtype         \n",
            "---  ------      --------------  -----         \n",
            " 0   Date        242 non-null    datetime64[ns]\n",
            " 1   Open        242 non-null    float64       \n",
            " 2   High        242 non-null    float64       \n",
            " 3   Low         242 non-null    float64       \n",
            " 4   Close       242 non-null    float64       \n",
            " 5   Volume      242 non-null    float64       \n",
            " 6   ExDividend  242 non-null    float64       \n",
            " 7   SplitRatio  242 non-null    float64       \n",
            " 8   AdjOpen     242 non-null    float64       \n",
            " 9   AdjHigh     242 non-null    float64       \n",
            " 10  AdjLow      242 non-null    float64       \n",
            " 11  AdjClose    242 non-null    float64       \n",
            " 12  AdjVolume   242 non-null    float64       \n",
            "dtypes: datetime64[ns](1), float64(12)\n",
            "memory usage: 24.7 KB\n",
            "None\n"
          ]
        }
      ]
    },
    {
      "cell_type": "markdown",
      "source": [
        "4. `dt` 접근자를 사용하여 일부 데이터 추출한다.\n",
        "* Date 열의 자료형이 datetime 오브젝트로 변환되어 `dt` 접근자를 사용할 수 있게 됨\n",
        "* 불린 추출로 2010년 6월의 데이터만 추출"
      ],
      "metadata": {
        "id": "eQUamV2VaJSG"
      }
    },
    {
      "cell_type": "code",
      "source": [
        "print(tesla.loc[(tesla.Date.dt.year == 2010) % (tesla.Date.dt.month == 6)])"
      ],
      "metadata": {
        "colab": {
          "base_uri": "https://localhost:8080/"
        },
        "id": "6zs34bhvaGBE",
        "outputId": "7d8f6cf0-f960-49ec-d0bc-e79526f486e2"
      },
      "execution_count": 10,
      "outputs": [
        {
          "output_type": "stream",
          "name": "stdout",
          "text": [
            "         Date   Open    High     Low   Close      Volume  ExDividend  \\\n",
            "0  2018-03-27  304.0  304.27  277.18  279.18  13696168.0         0.0   \n",
            "0  2018-03-27  304.0  304.27  277.18  279.18  13696168.0         0.0   \n",
            "0  2018-03-27  304.0  304.27  277.18  279.18  13696168.0         0.0   \n",
            "0  2018-03-27  304.0  304.27  277.18  279.18  13696168.0         0.0   \n",
            "0  2018-03-27  304.0  304.27  277.18  279.18  13696168.0         0.0   \n",
            "..        ...    ...     ...     ...     ...         ...         ...   \n",
            "0  2018-03-27  304.0  304.27  277.18  279.18  13696168.0         0.0   \n",
            "0  2018-03-27  304.0  304.27  277.18  279.18  13696168.0         0.0   \n",
            "0  2018-03-27  304.0  304.27  277.18  279.18  13696168.0         0.0   \n",
            "0  2018-03-27  304.0  304.27  277.18  279.18  13696168.0         0.0   \n",
            "0  2018-03-27  304.0  304.27  277.18  279.18  13696168.0         0.0   \n",
            "\n",
            "    SplitRatio  AdjOpen  AdjHigh  AdjLow  AdjClose   AdjVolume  \n",
            "0          1.0    304.0   304.27  277.18    279.18  13696168.0  \n",
            "0          1.0    304.0   304.27  277.18    279.18  13696168.0  \n",
            "0          1.0    304.0   304.27  277.18    279.18  13696168.0  \n",
            "0          1.0    304.0   304.27  277.18    279.18  13696168.0  \n",
            "0          1.0    304.0   304.27  277.18    279.18  13696168.0  \n",
            "..         ...      ...      ...     ...       ...         ...  \n",
            "0          1.0    304.0   304.27  277.18    279.18  13696168.0  \n",
            "0          1.0    304.0   304.27  277.18    279.18  13696168.0  \n",
            "0          1.0    304.0   304.27  277.18    279.18  13696168.0  \n",
            "0          1.0    304.0   304.27  277.18    279.18  13696168.0  \n",
            "0          1.0    304.0   304.27  277.18    279.18  13696168.0  \n",
            "\n",
            "[242 rows x 13 columns]\n"
          ]
        }
      ]
    },
    {
      "cell_type": "markdown",
      "source": [
        "> #### **datetime 오브젝트와 인덱스 - DatetimeIndex**\n",
        "\n",
        "datetime 오브젝트를 데이터프레임의 인덱스로 설정하면 원하는 시간의 데이터를 바로 추출할 수 있어 편리하다."
      ],
      "metadata": {
        "id": "iNK_LmaRbXI9"
      }
    },
    {
      "cell_type": "markdown",
      "source": [
        "#### *datetime 오브젝트를 인덱스로 설정해 데이터 추출하기*\n",
        "\n",
        "1. Date 열을 tesla 데이터프레임의 **인덱스로 지정**한다."
      ],
      "metadata": {
        "id": "oBhRuBCjsRfR"
      }
    },
    {
      "cell_type": "code",
      "source": [
        "tesla.index = tesla['Date']\n",
        "print(tesla.index)"
      ],
      "metadata": {
        "colab": {
          "base_uri": "https://localhost:8080/"
        },
        "id": "q3aOtM20a6cJ",
        "outputId": "8e359490-7dbd-4832-e9b1-e5e03f95a10d"
      },
      "execution_count": 11,
      "outputs": [
        {
          "output_type": "stream",
          "name": "stdout",
          "text": [
            "DatetimeIndex(['2018-03-27', '2018-03-26', '2018-03-23', '2018-03-22',\n",
            "               '2018-03-21', '2018-03-20', '2018-03-19', '2018-03-16',\n",
            "               '2018-03-15', '2018-03-14',\n",
            "               ...\n",
            "               '2017-04-24', '2017-04-21', '2017-04-20', '2017-04-19',\n",
            "               '2017-04-18', '2017-04-17', '2017-04-13', '2017-04-12',\n",
            "               '2017-04-11', '2017-04-10'],\n",
            "              dtype='datetime64[ns]', name='Date', length=242, freq=None)\n"
          ]
        }
      ]
    },
    {
      "cell_type": "markdown",
      "source": [
        "2. 원하는 시간의 데이터를 바로 추출한다."
      ],
      "metadata": {
        "id": "iY5cNvQIshcX"
      }
    },
    {
      "cell_type": "code",
      "source": [
        "## 2015년의 데이터 추출\n",
        "print(tesla['2018'].iloc[:5, :5])"
      ],
      "metadata": {
        "colab": {
          "base_uri": "https://localhost:8080/"
        },
        "id": "cA3R7wMbsgk2",
        "outputId": "058fb9a2-b66b-4fa2-8416-d742df709abc"
      },
      "execution_count": 12,
      "outputs": [
        {
          "output_type": "stream",
          "name": "stdout",
          "text": [
            "                 Date    Open    High     Low   Close\n",
            "Date                                                 \n",
            "2018-03-27 2018-03-27  304.00  304.27  277.18  279.18\n",
            "2018-03-26 2018-03-26  307.34  307.59  291.36  304.18\n",
            "2018-03-23 2018-03-23  311.25  311.61  300.45  301.54\n",
            "2018-03-22 2018-03-22  313.89  318.82  308.18  309.10\n",
            "2018-03-21 2018-03-21  310.25  322.44  310.19  316.53\n"
          ]
        },
        {
          "output_type": "stream",
          "name": "stderr",
          "text": [
            "/usr/local/lib/python3.7/dist-packages/ipykernel_launcher.py:2: FutureWarning: Indexing a DataFrame with a datetimelike index using a single string to slice the rows, like `frame[string]`, is deprecated and will be removed in a future version. Use `frame.loc[string]` instead.\n",
            "  \n"
          ]
        }
      ]
    },
    {
      "cell_type": "code",
      "source": [
        "## 2018년 1월의 데이터 추출\n",
        "print(tesla['2018-01'].iloc[:,:5])"
      ],
      "metadata": {
        "colab": {
          "base_uri": "https://localhost:8080/"
        },
        "id": "rT8WLsCzsx4f",
        "outputId": "84d65e04-8d6d-4d22-a36d-609955ea25e7"
      },
      "execution_count": 13,
      "outputs": [
        {
          "output_type": "stream",
          "name": "stdout",
          "text": [
            "                 Date    Open      High      Low     Close\n",
            "Date                                                      \n",
            "2018-01-31 2018-01-31  347.51  356.1900  345.190  354.4200\n",
            "2018-01-30 2018-01-30  345.14  348.2700  342.170  345.8200\n",
            "2018-01-29 2018-01-29  339.85  350.8500  338.280  349.5300\n",
            "2018-01-26 2018-01-26  341.50  344.0000  335.710  342.8500\n",
            "2018-01-25 2018-01-25  348.27  349.2000  336.400  337.6400\n",
            "2018-01-24 2018-01-24  354.58  354.7500  343.520  345.7404\n",
            "2018-01-23 2018-01-23  360.00  360.5000  351.000  352.7900\n",
            "2018-01-22 2018-01-22  349.40  357.8300  349.200  351.5600\n",
            "2018-01-19 2018-01-19  345.00  350.5899  342.600  350.0200\n",
            "2018-01-18 2018-01-18  345.67  352.3000  343.740  344.5700\n",
            "2018-01-17 2018-01-17  340.47  349.0000  339.750  347.1600\n",
            "2018-01-16 2018-01-16  337.54  345.0000  334.800  340.0600\n",
            "2018-01-12 2018-01-12  338.63  340.4100  333.670  336.2200\n",
            "2018-01-11 2018-01-11  335.24  344.8099  333.260  337.9500\n",
            "2018-01-10 2018-01-10  332.20  337.0000  330.000  334.8000\n",
            "2018-01-09 2018-01-09  335.16  338.8000  327.405  333.6900\n",
            "2018-01-08 2018-01-08  316.00  337.0199  315.500  336.4100\n",
            "2018-01-05 2018-01-05  316.62  317.2400  312.000  316.5800\n",
            "2018-01-04 2018-01-04  312.87  318.5500  305.680  314.6200\n",
            "2018-01-03 2018-01-03  321.00  325.2500  315.550  317.2500\n",
            "2018-01-02 2018-01-02  312.00  322.1099  311.000  320.5300\n"
          ]
        },
        {
          "output_type": "stream",
          "name": "stderr",
          "text": [
            "/usr/local/lib/python3.7/dist-packages/ipykernel_launcher.py:2: FutureWarning: Indexing a DataFrame with a datetimelike index using a single string to slice the rows, like `frame[string]`, is deprecated and will be removed in a future version. Use `frame.loc[string]` instead.\n",
            "  \n"
          ]
        }
      ]
    },
    {
      "cell_type": "markdown",
      "source": [
        "> #### **시간 간격과 인덱스 - TimedeltaIndex**"
      ],
      "metadata": {
        "id": "Kk6BV-iZtbxE"
      }
    },
    {
      "cell_type": "markdown",
      "source": [
        "#### *시간 간격을 인덱스로 지정해 데이터 추출하기*\n",
        "\n",
        "1. **데이터를 수집한 이후에 시간이 얼마나 흘렀는지** 알기 위해 Date 열에서 Date 열의 최솟값을 뺀 다음 ref_date 열로 추가한다."
      ],
      "metadata": {
        "id": "DHhtefPHtV_Z"
      }
    },
    {
      "cell_type": "code",
      "source": [
        "tesla['ref_date'] = tesla['Date'] - tesla['Date'].min()\n",
        "print(tesla.head())"
      ],
      "metadata": {
        "colab": {
          "base_uri": "https://localhost:8080/"
        },
        "id": "mZ4oDDyrtQ5M",
        "outputId": "7a4f84df-eb40-406a-dd1b-63f51491f802"
      },
      "execution_count": 14,
      "outputs": [
        {
          "output_type": "stream",
          "name": "stdout",
          "text": [
            "                 Date    Open    High     Low   Close      Volume  ExDividend  \\\n",
            "Date                                                                            \n",
            "2018-03-27 2018-03-27  304.00  304.27  277.18  279.18  13696168.0         0.0   \n",
            "2018-03-26 2018-03-26  307.34  307.59  291.36  304.18   8324639.0         0.0   \n",
            "2018-03-23 2018-03-23  311.25  311.61  300.45  301.54   6600538.0         0.0   \n",
            "2018-03-22 2018-03-22  313.89  318.82  308.18  309.10   4914307.0         0.0   \n",
            "2018-03-21 2018-03-21  310.25  322.44  310.19  316.53   5927881.0         0.0   \n",
            "\n",
            "            SplitRatio  AdjOpen  AdjHigh  AdjLow  AdjClose   AdjVolume  \\\n",
            "Date                                                                     \n",
            "2018-03-27         1.0   304.00   304.27  277.18    279.18  13696168.0   \n",
            "2018-03-26         1.0   307.34   307.59  291.36    304.18   8324639.0   \n",
            "2018-03-23         1.0   311.25   311.61  300.45    301.54   6600538.0   \n",
            "2018-03-22         1.0   313.89   318.82  308.18    309.10   4914307.0   \n",
            "2018-03-21         1.0   310.25   322.44  310.19    316.53   5927881.0   \n",
            "\n",
            "           ref_date  \n",
            "Date                 \n",
            "2018-03-27 351 days  \n",
            "2018-03-26 350 days  \n",
            "2018-03-23 347 days  \n",
            "2018-03-22 346 days  \n",
            "2018-03-21 345 days  \n"
          ]
        }
      ]
    },
    {
      "cell_type": "markdown",
      "source": [
        "2. ref_date 열을 **인덱스로 지정**하여 시간 간격(ref_date)을 이용해 데이터를 추출할 수 있다."
      ],
      "metadata": {
        "id": "ckD0HkosuDtD"
      }
    },
    {
      "cell_type": "code",
      "source": [
        "tesla.index = tesla['ref_date']\n",
        "print(tesla.iloc[:5,:5])"
      ],
      "metadata": {
        "colab": {
          "base_uri": "https://localhost:8080/"
        },
        "id": "ZbqcIG7huBsV",
        "outputId": "607e52ed-e806-4da4-b52e-86b533a30b85"
      },
      "execution_count": 15,
      "outputs": [
        {
          "output_type": "stream",
          "name": "stdout",
          "text": [
            "               Date    Open    High     Low   Close\n",
            "ref_date                                           \n",
            "351 days 2018-03-27  304.00  304.27  277.18  279.18\n",
            "350 days 2018-03-26  307.34  307.59  291.36  304.18\n",
            "347 days 2018-03-23  311.25  311.61  300.45  301.54\n",
            "346 days 2018-03-22  313.89  318.82  308.18  309.10\n",
            "345 days 2018-03-21  310.25  322.44  310.19  316.53\n"
          ]
        }
      ]
    },
    {
      "cell_type": "code",
      "source": [
        "## 데이터 수집한 이후 최초 5일의 데이터 추출\n",
        "print(tesla['5 days':].iloc[:5,:5])"
      ],
      "metadata": {
        "colab": {
          "base_uri": "https://localhost:8080/"
        },
        "id": "KGdkAVqfuRgK",
        "outputId": "adb462b3-92b5-442c-8362-e9c282229931"
      },
      "execution_count": 16,
      "outputs": [
        {
          "output_type": "stream",
          "name": "stdout",
          "text": [
            "               Date    Open      High     Low   Close\n",
            "ref_date                                             \n",
            "3 days   2017-04-13  296.70  307.3900  295.30  304.00\n",
            "2 days   2017-04-12  306.34  308.4481  296.32  296.84\n",
            "1 days   2017-04-11  313.38  313.4700  305.50  308.71\n",
            "0 days   2017-04-10  309.15  313.7299  308.71  312.39\n"
          ]
        }
      ]
    },
    {
      "cell_type": "markdown",
      "source": [
        "> #### **시간 범위와 인덱스**\n",
        "\n",
        "특정 일에 누락된 데이터도 포함시켜 데이터를 살펴보기 위해 임의로 시간 범위를 생성하여 인덱스로 지정한다."
      ],
      "metadata": {
        "id": "gjRsi-C-udrE"
      }
    },
    {
      "cell_type": "markdown",
      "source": [
        "#### *시간 범위 생성해 인덱스로 지정하기*\n",
        "\n",
        "1. 에볼라 데이터 살펴보기\n",
        "    * 가장 앞쪽의 데이터 살펴보면 2015년 01월 01일의 데이터 누락됨\n",
        "    * 뒤쪽의 데이터에서도 2014년 03월 23일의 데이터 누락됨"
      ],
      "metadata": {
        "id": "pbUprXuIutAg"
      }
    },
    {
      "cell_type": "code",
      "source": [
        "import pandas as pd\n",
        "import os\n",
        "\n",
        "ebola = pd.read_csv('/content/drive/MyDrive/ESAA/data/country_timeseries.csv', parse_dates=[0])"
      ],
      "metadata": {
        "id": "oVS0bJABubCE"
      },
      "execution_count": 17,
      "outputs": []
    },
    {
      "cell_type": "code",
      "source": [
        "print(ebola.iloc[:5,:5])"
      ],
      "metadata": {
        "id": "-13uWeE-vL2x",
        "colab": {
          "base_uri": "https://localhost:8080/"
        },
        "outputId": "629fc9ed-1b7f-4b8c-a567-545381d9b9a5"
      },
      "execution_count": 18,
      "outputs": [
        {
          "output_type": "stream",
          "name": "stdout",
          "text": [
            "        Date  Day  Cases_Guinea  Cases_Liberia  Cases_SierraLeone\n",
            "0 2015-01-05  289        2776.0            NaN            10030.0\n",
            "1 2015-01-04  288        2775.0            NaN             9780.0\n",
            "2 2015-01-03  287        2769.0         8166.0             9722.0\n",
            "3 2015-01-02  286           NaN         8157.0                NaN\n",
            "4 2014-12-31  284        2730.0         8115.0             9633.0\n"
          ]
        }
      ]
    },
    {
      "cell_type": "code",
      "source": [
        "print(ebola.iloc[:-5,:5])"
      ],
      "metadata": {
        "colab": {
          "base_uri": "https://localhost:8080/"
        },
        "id": "gT-FJ-tXzlZs",
        "outputId": "2e250460-77fc-47c0-852c-f0783f4d8f36"
      },
      "execution_count": 19,
      "outputs": [
        {
          "output_type": "stream",
          "name": "stdout",
          "text": [
            "          Date  Day  Cases_Guinea  Cases_Liberia  Cases_SierraLeone\n",
            "0   2015-01-05  289        2776.0            NaN            10030.0\n",
            "1   2015-01-04  288        2775.0            NaN             9780.0\n",
            "2   2015-01-03  287        2769.0         8166.0             9722.0\n",
            "3   2015-01-02  286           NaN         8157.0                NaN\n",
            "4   2014-12-31  284        2730.0         8115.0             9633.0\n",
            "..         ...  ...           ...            ...                ...\n",
            "112 2014-04-04   13         143.0           18.0                2.0\n",
            "113 2014-04-01   10         127.0            8.0                2.0\n",
            "114 2014-03-31    9         122.0            8.0                2.0\n",
            "115 2014-03-29    7         112.0            7.0                NaN\n",
            "116 2014-03-28    6         112.0            3.0                2.0\n",
            "\n",
            "[117 rows x 5 columns]\n"
          ]
        }
      ]
    },
    {
      "cell_type": "markdown",
      "source": [
        "2. **`date_range`** 메서드를 사용하여 시간 인덱스(DatetimeIndex)를 생성한다.\n",
        "    * 2014년 12월 31일부터 2015년 01월 05일 사이의 시간 인덱스"
      ],
      "metadata": {
        "id": "D_Daodegzp16"
      }
    },
    {
      "cell_type": "code",
      "source": [
        "head_range = pd.date_range(start='2014-12-31', end='2015-01-05')\n",
        "print(head_range)"
      ],
      "metadata": {
        "colab": {
          "base_uri": "https://localhost:8080/"
        },
        "id": "Gz9f_22ZzoMU",
        "outputId": "4f27cde6-1908-4c0c-dc4e-896485afcae5"
      },
      "execution_count": 20,
      "outputs": [
        {
          "output_type": "stream",
          "name": "stdout",
          "text": [
            "DatetimeIndex(['2014-12-31', '2015-01-01', '2015-01-02', '2015-01-03',\n",
            "               '2015-01-04', '2015-01-05'],\n",
            "              dtype='datetime64[ns]', freq='D')\n"
          ]
        }
      ]
    },
    {
      "cell_type": "markdown",
      "source": [
        "3. 원본 데이터를 손상시키는 것을 방지하기 위해 새로운 데이터프레임을 만든다.\n",
        "    * ebola 데이터프레임의 앞쪽 5개의 데이터 추출하여 새로운 데이터프레임 생성\n",
        "    * 반드시 Date 열을 인덱스로 지정한 다음 생성한 시간 범위를 인덱스로 지정"
      ],
      "metadata": {
        "id": "iLiq_rfqz-o6"
      }
    },
    {
      "cell_type": "code",
      "source": [
        "ebola_5 = ebola.head()\n",
        "ebola_5.index = ebola_5['Date']\n",
        "ebola_5.reindex(head_range)\n",
        "print(ebola_5.iloc[:5,:5])"
      ],
      "metadata": {
        "colab": {
          "base_uri": "https://localhost:8080/"
        },
        "id": "1bJmQ2lvz9s1",
        "outputId": "230e2e30-5ea8-48cf-e2d7-4645cb8ff3fc"
      },
      "execution_count": 21,
      "outputs": [
        {
          "output_type": "stream",
          "name": "stdout",
          "text": [
            "                 Date  Day  Cases_Guinea  Cases_Liberia  Cases_SierraLeone\n",
            "Date                                                                      \n",
            "2015-01-05 2015-01-05  289        2776.0            NaN            10030.0\n",
            "2015-01-04 2015-01-04  288        2775.0            NaN             9780.0\n",
            "2015-01-03 2015-01-03  287        2769.0         8166.0             9722.0\n",
            "2015-01-02 2015-01-02  286           NaN         8157.0                NaN\n",
            "2014-12-31 2014-12-31  284        2730.0         8115.0             9633.0\n"
          ]
        }
      ]
    },
    {
      "cell_type": "markdown",
      "source": [
        "* 시간 범위의 주기 설정하기\n",
        "    * 시간 범위를 인덱스로 지정하면 DatetimeIndex 자료형이 만들어지고 이 안에는 freq 속성이 포함되어 있음\n",
        "    * freq 속성값을 지정하면 시간 간격을 조절하여 DatetimeIndex 생성 가능  \n",
        "\n",
        "    * freq 속성값으로 사용할 수 있는 시간 주기\n",
        "\n",
        "\n",
        "|시간 주기|설명|\n",
        "|---|---|\n",
        "|B|평일만 포함|\n",
        "|C|사용자가 정의한 평일만 포함|\n",
        "|D|달력 일자 단위|\n",
        "|W|주간 단위|\n",
        "|M|월 마지막 날만 포함|\n",
        "|SM|15일과 월 마지막 날만 포함|\n",
        "|BM|M 주기의 값이 휴일이면 제외하고 평일만 포함|\n",
        "|CBM|BM에 사용자 정의 평일을 적용|\n",
        "|MS|월 시작일만 포함|\n",
        "|SMS|월 시작일과 15일만 포함|\n",
        "|BMS|MS 주기의 값이 휴일이면 제외하고 평일만 포함|\n",
        "|CBMS|BMS에 사용자 정의 평일을 적용|\n",
        "|Q|3,6,9,12월 분기 마지막 날만 포함|\n",
        "|BQ|3,6,9,12월 분기 마지막 날이 휴일이면 제외하고 평일만 포함|\n",
        "|QS|3,6,9,12월 분기 시작일만 포함|\n",
        "|BQS|3,6,9,12월 분기 시작이 휴일이면 제외하고 평일만 포함|\n",
        "|A|년의 마지막 날만 포함|\n",
        "|BA|년의 마지막 날이 휴일이면 제외하고 평일만 포함|\n",
        "|AS|년의 시작일만 포함|\n",
        "|BAS|년의 시작일이 휴일이면 제외하고 평일만 포함|\n",
        "|BH|평일을 시간 단위로 포함(09:00 ~ 16:00)|\n",
        "|H|시간 단위로 포함(00:00 ~ 00:00)|"
      ],
      "metadata": {
        "id": "Gl6uWK4V0tQM"
      }
    }
  ]
}