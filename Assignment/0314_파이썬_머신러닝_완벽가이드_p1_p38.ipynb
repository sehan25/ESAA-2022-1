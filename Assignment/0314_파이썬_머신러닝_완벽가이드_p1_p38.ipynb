{
  "nbformat": 4,
  "nbformat_minor": 0,
  "metadata": {
    "colab": {
      "name": "0314 파이썬 머신러닝 완벽가이드 p1-p38.ipynb",
      "private_outputs": true,
      "provenance": [],
      "collapsed_sections": [],
      "authorship_tag": "ABX9TyPL7t4FphFCGLQvW1ua+t63",
      "include_colab_link": true
    },
    "kernelspec": {
      "name": "python3",
      "display_name": "Python 3"
    },
    "language_info": {
      "name": "python"
    }
  },
  "cells": [
    {
      "cell_type": "markdown",
      "metadata": {
        "id": "view-in-github",
        "colab_type": "text"
      },
      "source": [
        "<a href=\"https://colab.research.google.com/github/sehan25/ESSA-2022-1/blob/main/0314_%ED%8C%8C%EC%9D%B4%EC%8D%AC_%EB%A8%B8%EC%8B%A0%EB%9F%AC%EB%8B%9D_%EC%99%84%EB%B2%BD%EA%B0%80%EC%9D%B4%EB%93%9C_p1_p38.ipynb\" target=\"_parent\"><img src=\"https://colab.research.google.com/assets/colab-badge.svg\" alt=\"Open In Colab\"/></a>"
      ]
    },
    {
      "cell_type": "markdown",
      "source": [
        "\n",
        "## **01. 머신러닝의 개념**\n",
        "---\n",
        "**머신러닝(Machine Learning)**: 일반적으로는 애플리케이션을 수정하지 않고도 데이터를 기반으로 패턴을 학습하고 결과를 예측하는 알고리즘 기법을 통칭한다.\n",
        "* 머신러닝 알고리즘은 데이터를 기반으로 통계적인 신뢰도를 강화하고 예측 오류를 최소화하기 위한 다양한 수학적 기법을 적용해 데이터 내의 패턴을 스스로 인지하고 신뢰도 있는 예측 결과를 도출해 낸다."
      ],
      "metadata": {
        "id": "eOuJDBBaXB9C"
      }
    },
    {
      "cell_type": "markdown",
      "source": [
        "> ### 머신러닝의 분류\n",
        "> ---\n",
        "\n",
        "\n",
        "* 지도학습(Supervised Learning)\n",
        "    * 분류(Classification)\n",
        "    * 회귀(Regression)\n",
        "    * 추천 시스템, 시각/음성 감지/인지, 텍스트 분석,LNP\n",
        "* 비지도학습(Un-supervised Learning)\n",
        "    * 클러스터링, 차원 축소\n",
        "* 강화학습(Reinforcement Learning)\n",
        "\n"
      ],
      "metadata": {
        "id": "IBgHY25ZfmqB"
      }
    },
    {
      "cell_type": "markdown",
      "source": [
        "## **02. 파이썬 머신러닝 생태계를 구성하는 주요 패키지**\n",
        "---\n",
        "* **머신러닝 패키지**: 사이킷런(Scikit-Learn)  ++텐서플로, 케라스 등의 전문 딥러닝 라이브러리\n",
        "* **행렬/선형대수/통계 패키지**: 넘파이(NumPy), 사이파이(SciPy)\n",
        "* **데이터 핸들링**: 판다스(Pandas)\n",
        "* **시각화**: 맷플롯립(Matplotlib), 시본(Seaborn)"
      ],
      "metadata": {
        "id": "lWG9dZcOwW4j"
      }
    },
    {
      "cell_type": "markdown",
      "source": [
        "## **03. 넘파이(NumPy)**\n",
        "---\n",
        "**넘파이(Numerical Python)**: 파이썬에서 선형대수 기반의 프로그램을 쉽게 만들 수 있도록 지원하는 대표적인 패키지\n",
        "* 루프를 사용하지 않고 대량 데이터의 배열 연산을 가능하게 하므로 빠른 배열 연산 속도를 보장한다.\n",
        "* C/C++과 같은 저수준 언어 기반의 호환 API를 제공 -> 기존 C/C++기반의 타 프로그램과 데이터를 주고받거나 API를 호출해 쉽게 톻합할 수 있는 기능을 제공한다.\n",
        "* 많은 머신러닝 알고리즘이 넘파이 기반으로 작성돼 있으며, 이들 알고리즘의 입력 데이터와 출력 데이터를 넘파이 배열 타입으로 사용하기 때문에 넘파이를 이해하는 것은 매우 중요하다."
      ],
      "metadata": {
        "id": "kYFQRjl7wcmK"
      }
    },
    {
      "cell_type": "markdown",
      "source": [
        "> ### 넘파이 ndarray 개요\n",
        "> ---\n",
        "\n",
        "```\n",
        "import numpy as np\n",
        "```\n",
        "* 넘파이의 기반 데이터 타입: **ndarray**\n",
        "* ndarray를 이용해 다차원(Multi-dimension) 배열을 쉽게 생성, 다양한 영산을 수행할 수 있다.\n",
        "* **`array()`**: 파이썬의 리스트와 같은 다양한 인자를 입력 받아 ndarray로 변환하는 기능을 수행한다.\n",
        "    * 생성된 ndarray 배열의 shape 변수는 ndarray의 크기, 즉 행과 열의 수를 튜플 형태로 가지고 있으며 이를 통해 ndarray 배열의 차원까지 알 수 있다.\n",
        "    * `np.array()` - ndarray로 변환을 원하는 객체를 인자로 입력하면 ndarray를 반환한다.\n",
        "    * **`ndarray.shape`** - ndarray의 차원과 크기를 튜플(tuple) 형태로 나타내 준다."
      ],
      "metadata": {
        "id": "j5MXQqbrwnQE"
      }
    },
    {
      "cell_type": "code",
      "source": [
        "import numpy as np\n",
        "\n",
        "array1 = np.array([1,2,3])\n",
        "print('array1 type:', type(array1))\n",
        "print('array1 array 형태:', array1.shape)  #1차원 array | 3개의 데이터\n",
        "\n",
        "array2 = np.array([[1,2,3],\n",
        "                   [2,3,4]])\n",
        "print('array2 type:', type(array2))\n",
        "print('array2 array 형태:', array2.shape)  #2차원 array | 2개의 row와 3개의 column, 2*3=6개의 데이터\n",
        "\n",
        "array3 = np.array([[1,2,3]])\n",
        "print('array3 type:', type(array3))\n",
        "print('array3 array 형태:', array3.shape)  #2차원 array | 1개의 row와 3개의 column, 1*3=3개의 데이터"
      ],
      "metadata": {
        "id": "SWXp5vodXJaO"
      },
      "execution_count": null,
      "outputs": []
    },
    {
      "cell_type": "code",
      "source": [
        "## 각 array의 차원을 ndarray.ndim으로 확인\n",
        "print('array1: {:0}차원, array2: {:1}차원, array3: {:2}차원'.format(array1.ndim, array2.ndim, array3.ndim))"
      ],
      "metadata": {
        "id": "6ukNY0iaYodc"
      },
      "execution_count": null,
      "outputs": []
    },
    {
      "cell_type": "markdown",
      "source": [
        "> ### ndarray의 데이터 타입\n",
        "> ---\n",
        "\n",
        "* ndarray내의 데이터값은 숫자 값, 문자열 값, 불 값 등 모두 가능하다.\n",
        "    * 숫자형의 경우 int형(8bit, 16bit, 32bit), unsigned int형(8bit, 16bit, 32bit), float형(16bit, 32bit, 64bit, 128bit), 그리고 이보다 더 큰 숫자 값이나 정밀도를 위해 complex 타입도 제공\n",
        "* ndarray내의 데이터 타입은 연산의 특성상 **같은 데이터 타입만 가능**하다.\n",
        "    * ndarray내의 데이터 타입은 `dtype` 속성으로 확인 가능\n",
        "    * (예제) integer 숫자 1,2,3을 가진 리스트 자료형 list1 -> int32형의 데이터값을 가지는 ndarray"
      ],
      "metadata": {
        "id": "-HALn62KZF3p"
      }
    },
    {
      "cell_type": "code",
      "source": [
        "list1 = [1,2,3]\n",
        "print(type(list1))\n",
        "array1 = np.array(list1)\n",
        "print(type(array1))\n",
        "print(array1, array1.dtype)"
      ],
      "metadata": {
        "id": "2c6vC8pbW1kr"
      },
      "execution_count": null,
      "outputs": []
    },
    {
      "cell_type": "markdown",
      "source": [
        "* 다른 데이터 유형이 섞여 있는 리스트를 ndarray로 변경하는 경우 - **데이터 크기가 더 큰 데이터 타입으로 형 변환**을 일괄 적용한다.\n",
        "    * (예제) int형 값과 문자열이 섞여 있는 list2 -> 숫자형 값 1,2가 모두 문자열 값인 '1','2'로 변환된 array2 (int형이 유니코드 문자열 값으로 변환)\n",
        "    * (예제) int형과 float형이 섞여 있는 list3 -> int 1,2가 모두 1.2.인 float64형으로 변환"
      ],
      "metadata": {
        "id": "FTWzFxhyXy5h"
      }
    },
    {
      "cell_type": "code",
      "source": [
        "list2 = [1,2,'test']\n",
        "array2 = np.array(list2)\n",
        "print(array2, array2.dtype)\n",
        "\n",
        "list3 = [1,2,3.0]\n",
        "array3 = np.array(list3)\n",
        "print(array3, array3.dtype)"
      ],
      "metadata": {
        "id": "J-UiIw-8XRof"
      },
      "execution_count": null,
      "outputs": []
    },
    {
      "cell_type": "markdown",
      "source": [
        "* **`astype()`**: ndarray 내 데이터값 타입 변경, 인자로 원하는 타입을 문자열로 지정하면 된다.\n",
        "* 데이터 타입을 변경하는 경우는 대용량 데이터의 ndarray를 만들 때 많은 메모리가 사용되는데, 메모리를 더 절약해야 할 때 이용된다.\n",
        "    * (예제) int32형 -> float64형 -> int32형으로 변경"
      ],
      "metadata": {
        "id": "_r8M3l_yaI5_"
      }
    },
    {
      "cell_type": "code",
      "source": [
        "array_int = np.array([1,2,3])\n",
        "array_float = array_int.astype('float64')\n",
        "print(array_float, array_float.dtype)\n",
        "\n",
        "array_int1 = array_float.astype('int32')\n",
        "print(array_int1, array_int1.dtype)\n",
        "\n",
        "array_float1 = np.array([1.1,2.1,3.1])\n",
        "array_int2 = array_float1.astype('int32')\n",
        "print(array_int2, array_int2.dtype)"
      ],
      "metadata": {
        "id": "0p9wq9DCbDj9"
      },
      "execution_count": null,
      "outputs": []
    },
    {
      "cell_type": "markdown",
      "source": [
        "> ### ndarray를 편리하게 생성하기 - arrange, zeros, ones\n",
        "> ---\n",
        "\n",
        "특정 크기와 차원을 가진 ndarray를 연속값이나 0또는 1로 초기화해 쉽게 생성해야 할 필요가 있는 경우가 발생할 수 있다. 주로 테스트용으로 데이터를 만들거나 대규모의 데이터를 일괄적으로 초기화해야할 경우에 사용된다.\n",
        "* **`arrange()`**: 0부터 함수 인자 값 -1값까지의 값을 순차적으로 ndarray의 데이터값으로 변환해 준다.\n",
        "    * 파이썬 표준 함수인 `range()`와 유사한 기능, array를 `range()`로 표현하는 것\n",
        "    * default 함수 인자는 stop 값이며, 0부터 stop 값에서 -1을 더한 숫자까지의 연속 숫자 값으로 구성된 1차원 ndarray를 만든다.\n",
        "    * start 값도 부여해 0이 아닌 다른 값부터 시작한 연속 값을 부여할 수도 있다."
      ],
      "metadata": {
        "id": "2CXuTk7tb4Hv"
      }
    },
    {
      "cell_type": "code",
      "source": [
        "sequence_array = np.arange(10)\n",
        "print(sequence_array)\n",
        "print(sequence_array.dtype, sequence_array.shape)"
      ],
      "metadata": {
        "id": "Duc9NtmbdEhC"
      },
      "execution_count": null,
      "outputs": []
    },
    {
      "cell_type": "markdown",
      "source": [
        "* **`zeros()`**: 함수 인자로 튜플 형태의 shape 값을 입력하면 **모든 값을 0**으로 채운 해당 shape를 가진 ndarray를 반환한다.\n",
        "* **`ones()`**: 함수 인자로 튜플 형태의 shape 값을 입력하면 **모든 값을 1**로 채운 해당 shape를 가진 ndarray를 반환한다.\n",
        "    * 함수 인자로 dtype을 정해주지 않으면 default로 float64형의 데이터로 ndarray를 채운다."
      ],
      "metadata": {
        "id": "6mlCCQRzdTH9"
      }
    },
    {
      "cell_type": "code",
      "source": [
        "zero_array = np.zeros((3,2),dtype='int32')\n",
        "print(zero_array)\n",
        "print(zero_array.dtype, zero_array.shape)\n",
        "\n",
        "one_array = np.ones((3,2))\n",
        "print(one_array)\n",
        "print(one_array.dtype, one_array.shape)"
      ],
      "metadata": {
        "id": "bRinzONMdrnK"
      },
      "execution_count": null,
      "outputs": []
    },
    {
      "cell_type": "markdown",
      "source": [
        "> ### ndarray의 차원과 크기를 변경하는 reshape()\n",
        "> ---\n",
        "\n",
        "* **`reshape()`**: ndarray를 특정 차원 및 크기로 변환한다. 변환을 원하는 크기를 함수 인자로 부여하면 된다.\n",
        "    * (예제) 0~9까지의 1차원 ndarray를 2 row * 5 column과 5 row * 2 column 형태로 2차원 ndarray로 변환\n",
        "\n"
      ],
      "metadata": {
        "id": "PTZcvbMBeFdK"
      }
    },
    {
      "cell_type": "code",
      "source": [
        "array1 = np.arange(10)\n",
        "print('array1:\\n', array1)\n",
        "\n",
        "array2 = array1.reshape(2,5)\n",
        "print('array2:\\n', array2)\n",
        "\n",
        "array3 = array1.reshape(5,2)\n",
        "print('array3:\\n', array3)"
      ],
      "metadata": {
        "id": "ZsDJHJxqe1F7"
      },
      "execution_count": null,
      "outputs": []
    },
    {
      "cell_type": "markdown",
      "source": [
        "* 지정된 사이즈로 변경이 불가능하면 오류를 발생한다.\n",
        "    * (예제) (10,) 데이터를 (4,3) shape 형태로 변경할 수 없다."
      ],
      "metadata": {
        "id": "pz3I8fQtfJZC"
      }
    },
    {
      "cell_type": "code",
      "source": [
        "array1.reshape(4,3)"
      ],
      "metadata": {
        "id": "MIT5schxmuP8"
      },
      "execution_count": null,
      "outputs": []
    },
    {
      "cell_type": "markdown",
      "source": [
        "* -1을 인자로 사용하면 원래 ndarray와 호환되는 새로운 shape로 변환해 주어 더욱 효율적으로 사용 가능하다.\n",
        "    * (예제)\n",
        "        * array1 | 1차원 ndarray, 0~9까지의 데이터 가짐\n",
        "        * array2 | array1.reshape(-1,5): 10개의 1차원 데이터와 호환될 수 있는 고정된 5개 칼럼에 맞는 로우 개수는 2이므로 2*5의 2차원 ndarray로 변환하는 것 => array1과 호환될 수 있는 2차원 ndarray로 변환하되, 고정된 5개의 칼럼에 맞는 로우를 자동으로 새롭게 생성해 변환하라는 의미\n",
        "        * array3 | array1.shape(5,-1): 10개의 1차원 데이터와 호환될 수 있는 고정된 5개의 로우에 맞는 칼럼은 2이므로 5*2의 2차원 ndarray로 변환하는 것\n"
      ],
      "metadata": {
        "id": "VEiS2YRbmxW8"
      }
    },
    {
      "cell_type": "code",
      "source": [
        "array1 = np.arange(10)\n",
        "print(array1)\n",
        "array2 = array1.reshape(-1,5)\n",
        "print('array2 shape:', array2.shape)\n",
        "array3 = array1.reshape(5,-1)\n",
        "print('array3 shape:', array3.shape)"
      ],
      "metadata": {
        "id": "M3wfTg-WnBwr"
      },
      "execution_count": null,
      "outputs": []
    },
    {
      "cell_type": "markdown",
      "source": [
        "* -1을 사용하더라도 호환될 수 없는 형태는 변환할 수 없다.\n",
        "    * (예제) 10개의 1차원 데이터를 고정된 4개의 칼럼을 가진 로우는 변경할 수 없다."
      ],
      "metadata": {
        "id": "L50NPb2mpb3D"
      }
    },
    {
      "cell_type": "code",
      "source": [
        "array1 = np.arange(10)\n",
        "array4 = array1.reshape(-1,4)"
      ],
      "metadata": {
        "id": "gAkYWp6spVXc"
      },
      "execution_count": null,
      "outputs": []
    },
    {
      "cell_type": "markdown",
      "source": [
        "* -1 인자는 `reshape(-1,1)`와 같은 형태로 자주 사용된다.\n",
        "* `reshape(-1,1)`은 원본 ndarray가 어떤 형태라도 2차원이고, 여러 개의 로우를 가지되 반드시 1개의 칼럼을 가진 ndarray로 변환됨을 보장한다.\n",
        "    * (예제) `reshape(-1,1)`을 이용해 3차원을 2차원으로, 1차원으로 2차원으로 변경 (ndarray는 `tolist()` 메서드를 이용해 리스트 자료형으로 변환 가능)\n",
        "* 여러 개의 넘파이 ndarray는 `stack`이나 `concat`으로 결합할 때 각각의 ndarray의 형태를 통일해 유용하게 사용된다."
      ],
      "metadata": {
        "id": "O0c9dk5PpeAb"
      }
    },
    {
      "cell_type": "code",
      "source": [
        "array1 = np.arange(8)\n",
        "array3d = array1.reshape((2,2,2))\n",
        "print('array3d:\\n', array3d.tolist())\n",
        "\n",
        "# 3차원 ndarray를 2차원 ndarray로 변환\n",
        "array5 = array3d.reshape(-1,1)\n",
        "print('array5:\\n', array5.tolist())\n",
        "print('array5 shape:', array5.shape)\n",
        "\n",
        "# 1차원 ndarray를 2차원 ndarray로 변환\n",
        "array6 = array1.reshape(-1,1)\n",
        "print('array6:\\n', array6.tolist())\n",
        "print('array6 shape:', array6.shape)"
      ],
      "metadata": {
        "id": "SKO-vij-tEwS"
      },
      "execution_count": null,
      "outputs": []
    },
    {
      "cell_type": "markdown",
      "source": [
        "> ### 넘파이의 ndarray의 데이터 세트 선택하기 - 인덱싱(Indexing)\n",
        "> ---\n",
        "\n",
        "1. **특정한 데이터만 추출**: 원하는 위치의 인덱스 값을 지정하면 해당 위치의 데이터가 반환된다.\n",
        "2. **슬라이싱(Slicing)**: 슬라이싱은 연속된 인덱스상의 ndarray를 추출하는 방식이다. ':' 기호 사이에 시작 인덱스와 종료 인덱스를 표시하면 시작 인덱스에서 종료 인덱스-1 위치에 있는 데이터의 ndarray를 반환한다.\n",
        "ex) 1:5라고 하면 시작 인덱스 1과 종료 인덱스 4까지에 해당하는 ndarray를 반환\n",
        "3. **팬시 인덱싱(Fancy Indexing)**: 일정한 인덱싱 집합을 리스트 또는 ndarray 형태로 지정해 해당 위치에 있는 데이터의 ndarray를 반환한다.\n",
        "4. **불린 인덱싱(Boolean Indexing)**: 특정 조건에 해당하는지 여부인 True/False 값 인덱싱 집합을 기반으로 True에 해당하는 인덱스 위치에 있는 데이터의 ndarray를 반환한다.\n",
        "\n",
        "\n",
        "\n"
      ],
      "metadata": {
        "id": "B3xhvAF6uUqf"
      }
    },
    {
      "cell_type": "markdown",
      "source": [
        "> #### *단일 값 추출*\n",
        "\n",
        "*한 개의 데이터만을 추출하는 방법*\n",
        "* ndarray 객체에 해당하는 위치의 인덱스 값을 `[ ]` 안에 입력하면 된다.\n",
        "* **인덱스는 0부터 시작**한다.\n",
        "    * (예제) `array1[2]`는 3번째 인덱스 위치의 데이터값을 의미하므로 데이터값 3을 의미, `array1[2]`의 타입은 더 이상 ndarray 타입이 아니고 ndarray 내의 데이터값을 의미"
      ],
      "metadata": {
        "id": "KUoEVXW3vksi"
      }
    },
    {
      "cell_type": "code",
      "source": [
        "# 1부터 9까지의 1차원 ndarray 생성\n",
        "array1 = np.arange(start=1, stop=10)\n",
        "print('array1:', array1)\n",
        "# index는 0부터 시작하므로 array1[2]는 3번째 index 위치의 데이터값을 의미\n",
        "value = array1[2]\n",
        "print('value:', value)\n",
        "print(type(value))"
      ],
      "metadata": {
        "id": "i7labUWbuNoO"
      },
      "execution_count": null,
      "outputs": []
    },
    {
      "cell_type": "markdown",
      "source": [
        "* 인덱스에 **마이너스 기호**를 이용하면 맨 뒤에서부터 데이터를 추출할 수 있다.\n",
        "    * (예제) 인덱스 -1은 맨 뒤의 데이터값, -2는 맨 뒤에서 두 번째에 있는 데이터값"
      ],
      "metadata": {
        "id": "iLezs2gcynj3"
      }
    },
    {
      "cell_type": "code",
      "source": [
        "print('맨 뒤의 값:', array1[-1], ' 맨 뒤에서 두 번째 값:', array1[-2])"
      ],
      "metadata": {
        "id": "h39gfi0KxyWY"
      },
      "execution_count": null,
      "outputs": []
    },
    {
      "cell_type": "markdown",
      "source": [
        "* 단일 인덱스를 이용해 ndarray 내의 데이터값도 간단히 수정 가능하다."
      ],
      "metadata": {
        "id": "2yH3XdB7zou4"
      }
    },
    {
      "cell_type": "code",
      "source": [
        "array1[0] = 9\n",
        "array1[8] = 0\n",
        "print('array1:', array1)"
      ],
      "metadata": {
        "id": "wO-9-4NDziCF"
      },
      "execution_count": null,
      "outputs": []
    },
    {
      "cell_type": "markdown",
      "source": [
        "*다차원 ndarray에서 단일 값 추출*\n",
        "\n",
        "* 3차원 이상의 ndarray에서의 데이터 추출도 2차원 ndarray와 큰 차이 없다.\n",
        "    * (예제)\n",
        "        * 앞 예제의 1차원 ndarray를 2차원의 3*3 ndarray로 변환한 후 [row, col]을 이용해 2차원 ndarray에서 데이터를 추출\n",
        "        * 3개의 로우(행) 각각 0,1,2의 인덱스, 3개의 칼럼(열) 각각 0,1,2의 인덱스\n"
      ],
      "metadata": {
        "id": "VLqO6nkl45k2"
      }
    },
    {
      "cell_type": "code",
      "source": [
        "array1d = np.arange(start=1, stop=10)\n",
        "array2d = array1d.reshape(3,3)\n",
        "print(array2d)\n",
        "\n",
        "print('(row=0, col=0) index 가리키는 값:', array2d[0,0])\n",
        "print('(row=0, col=1) index 가리키는 값:', array2d[0,1])\n",
        "print('(row=1, col=0) index 가리키는 값:', array2d[1,0])\n",
        "print('(row=2, col=2) index 가리키는 값:', array2d[2,2])"
      ],
      "metadata": {
        "id": "OA3UiQFV5J-f"
      },
      "execution_count": null,
      "outputs": []
    },
    {
      "cell_type": "markdown",
      "source": [
        "* 넘파이의 다차원 ndarray의 경우 축(axis)에 따른 연산을 지원한다.\n",
        "    * 앞에서 지칭한 로우와 칼럼은 넘파이 ndarray에서는 사용되지 않는 방식\n",
        "    * **axis 0은 로우 방향의 축**을 의미, **axis 1은 칼럼 방향의 축**을 의미\n",
        "    * 축 기반의 연산에서 axis가 생략되면 axis 0을 의미\n",
        "    * 2차원) axis 0, axis 1로 구분\n",
        "    * 3차원) axis 0, axis 1, axis 2 (행, 열 높이)로 구분"
      ],
      "metadata": {
        "id": "zIXxxGno7vQ9"
      }
    },
    {
      "cell_type": "markdown",
      "source": [
        "> #### *슬라이싱*\n",
        "\n",
        "단일 데이터값 추출을 제외하고 슬라이싱, 팬시 인덱싱, 불린 인덱싱으로 추출된 데이터 세트는 모두 ndarray 타입이다.\n",
        "* '**:**' 기호를 이용해 연속한 데이터를 슬라이싱해서 추출할 수 있다.\n",
        "* ':' 사이에 **시작 인덱스와 종료 인덱스를 표시**하면 **시작 인덱스에서 종료 인덱스-1의 위치**에 있는 데이터의 ndarray를 반환한다."
      ],
      "metadata": {
        "id": "PDWCeePF7xEv"
      }
    },
    {
      "cell_type": "code",
      "source": [
        "array1 = np.arange(start=1, stop=10)\n",
        "array3 = array1[0:3]\n",
        "print(array3)\n",
        "print(type(array3))"
      ],
      "metadata": {
        "id": "EMnK42m87wE2"
      },
      "execution_count": null,
      "outputs": []
    },
    {
      "cell_type": "markdown",
      "source": [
        "* 슬라이싱 기호인 ':' 사이의 시작, 종료 인덱스는 생략이 가능하다.\n",
        "    * ':' 기호 앞에 시작 인덱스를 생략 -> 자동으로 맨 처음 인덱스인 0으로 간주\n",
        "    * ':' 기호 뒤에 종료 인덱스를 생략 -> 자동으로 맨 마지막 인덱스로 간주\n",
        "    * ':' 기호 앞/뒤에 시작/종료 인덱스를 생략하면 자동으로 맨 처음/맨 마지막 인덱스로 간주"
      ],
      "metadata": {
        "id": "4snZrv2y8qZt"
      }
    },
    {
      "cell_type": "code",
      "source": [
        "array1 = np.arange(start=1, stop=10)\n",
        "array4 = array1[:3]\n",
        "print(array4)\n",
        "\n",
        "array5 = array1[3:]\n",
        "print(array5)\n",
        "\n",
        "array6 = array1[:]\n",
        "print(array6)"
      ],
      "metadata": {
        "id": "zQPAu2sA89Lj"
      },
      "execution_count": null,
      "outputs": []
    },
    {
      "cell_type": "markdown",
      "source": [
        "*2차원 ndarray에서의 슬라이싱*\n",
        "* 1차원 ndarray에서의 슬라이싱과 유사하게, row, col 각각의 인덱스에 슬라이싱을 적용하면 된다.\n",
        "    * (예제) `array[:2, 0]`과 같이 로우나 칼럼 축 한쪽에만 슬라이싱을 적용하고, 다른 쪽 축에는 단일 값 인덱스를 적용해도 됨"
      ],
      "metadata": {
        "id": "Xx50lRUu9VIo"
      }
    },
    {
      "cell_type": "code",
      "source": [
        "array1d = np.arange(start=1, stop=10)\n",
        "array2d = array1d.reshape(3,3)\n",
        "print('array2d:\\n', array2d)\n",
        "\n",
        "print('array2d[0:2, 0:2] \\n', array2d[0:2, 0:2])\n",
        "print('array2d[1:3, 0:3] \\n', array2d[1:3, 0:3])\n",
        "print('array2d[1:3, :] \\n', array2d[1:3, :])\n",
        "print('array2d[:, :] \\n', array2d[:, :])\n",
        "print('array2d[:2, 1:] \\n', array2d[:2, 1:])\n",
        "print('array2d[:2, 0] \\n', array2d[:2, 0])"
      ],
      "metadata": {
        "id": "I5-qzWGV9niF"
      },
      "execution_count": null,
      "outputs": []
    },
    {
      "cell_type": "markdown",
      "source": [
        "* 2차원 ndarray에서 뒤에 오는 인덱스를 없애면 1차원 ndarray를 반환한다.\n",
        "    * (예제) `array2d[0]`는 로우 축(axis 0)의 첫 번째 로우 ndarray를 반환하게 된다.\n",
        "* 3차원 ndarray에서 뒤에 오는 인덱스를 없애면 2차원 ndarray를 반환한다."
      ],
      "metadata": {
        "id": "hWP_EOQXNeOm"
      }
    },
    {
      "cell_type": "code",
      "source": [
        "print(array2d[0])\n",
        "print(array2d[1])\n",
        "print('array2d[0] shape:', array2d[0].shape, 'array2d[1] shape:', array2d[1].shape )"
      ],
      "metadata": {
        "id": "ui6Tjp9YOAKf"
      },
      "execution_count": null,
      "outputs": []
    },
    {
      "cell_type": "markdown",
      "source": [
        "> #### *팬시 인덱싱*\n",
        "\n",
        "리스트나 ndarray로 인덱스 집합을 지정하면 **해당 위치의 인덱스에 해당하는 ndarray를 반환**하는 인덱싱 방식\n",
        "* (예제) 2차원 ndarray에 팬시 인덱싱 적용\n",
        "    * `array2d[[0,1],2]`: 로우 축에 팬시 인덱싱인 [0,1]을, 칼럼 축에는 단일 값 인덱싱 2 적용 -> (row, col) 인덱스가 (0,2),(1,2)로 적용돼 [3,6]을 반환\n",
        "    * `array2d[[0,1],0:2]`: ((0,0),(0,1)), ((1,0),(1,1)) 인덱싱 적용 -> [[1,2],[4,5]]를 반환\n",
        "    * `array2d[[0,1]]`: ((0, :),(1, :)) 인덱싱 적용 -> [[1,2,3],[4,5,6]]을 반환"
      ],
      "metadata": {
        "id": "EyLsbJY_OUfd"
      }
    },
    {
      "cell_type": "code",
      "source": [
        "array1d = np.arange(start=1, stop=10)\n",
        "array2d = array1d.reshape(3,3)\n",
        "\n",
        "array3 = array2d[[0,1],2]\n",
        "print('array2d[[0,1],2] => ', array3.tolist())\n",
        "\n",
        "array4 = array2d[[0,1],0:2]\n",
        "print('array2d[[0,1],0:2] => ', array4.tolist())\n",
        "\n",
        "array5 = array2d[[0,1]]\n",
        "print('array2d[[0,1]] => ', array5.tolist())"
      ],
      "metadata": {
        "id": "HAM15SVZOSVG"
      },
      "execution_count": null,
      "outputs": []
    },
    {
      "cell_type": "markdown",
      "source": [
        "> #### *불린 인덱싱*\n",
        "\n",
        "**조건 필터링과 검색을 동시에** 할 수 있기 때문에 매우 자주 사용되는 인덱싱 방식\n",
        "* 불린 인덱싱은 ndarray의 인덱스를 지정하는 `[ ]` 내에 조건문을 그대로 기재하면 된다.\n",
        "* 불린 인덱싱을 이용하면 for loop/if else 문보다 훨씬 간단하게 구현 가능하다.\n",
        "    * (예제) 1차원 ndarray [1, 2, 3, 4, 5, 6, 7, 8, 9]에서 데이터값이 5보다 큰 데이터만 추출"
      ],
      "metadata": {
        "id": "vZh7Xmk6QjXJ"
      }
    },
    {
      "cell_type": "code",
      "source": [
        "array1d = np.arange(start=1, stop=10)\n",
        "# [ ] 안에 array1d > 5 Boolean indexing을 적용\n",
        "array3 = array1d[array1d > 5]\n",
        "print('array1d > 5 불린 인덱싱 결과 값:', array3)"
      ],
      "metadata": {
        "id": "k--ffsCbReQn"
      },
      "execution_count": null,
      "outputs": []
    },
    {
      "cell_type": "markdown",
      "source": [
        "* 넘파이 ndarray 객체에 조건식을 할당하면 False, True가 반환된다.\n",
        "* 조건으로 반환된 ndarray 객체를 인덱싱을 지정하는 `[ ]` 내에 입력하면 **False 값은 무시**하고 **True 값이 있는 위치 인덱스 값으로 자동 변환해 해당하는 인덱스 위치의 데이터만 반환**한다.\n",
        "    * (예제) array([False, False, False, False, False, True, True, True, True])에서 False가 있는 인덱스 0~4는 무시하고 인덱스 [5,6,7,8]이 만들어지고 이 위치 인덱스에 해당하는 데이터 세트 [6,7,8,9]를 반환하게 됨"
      ],
      "metadata": {
        "id": "Myy_findSB2z"
      }
    },
    {
      "cell_type": "code",
      "source": [
        "array1d > 5"
      ],
      "metadata": {
        "id": "LLmJlCklR0kF"
      },
      "execution_count": null,
      "outputs": []
    },
    {
      "cell_type": "markdown",
      "source": [
        "* 동일한 불린 ndarray를 만들고 이를 `array1d[ ]` 내에 인덱스로 입력하면 동일한 데이터 세트가 반환된다."
      ],
      "metadata": {
        "id": "776fBl_yTb6k"
      }
    },
    {
      "cell_type": "code",
      "source": [
        "boolean_indexes = np.array([False, False, False, False, False, True, True, True, True])\n",
        "array3 = array1d[boolean_indexes]\n",
        "print('불린 인덱스로 필터링 결과:', array3)"
      ],
      "metadata": {
        "id": "RZdiLAzsTNuE"
      },
      "execution_count": null,
      "outputs": []
    },
    {
      "cell_type": "markdown",
      "source": [
        "* 직접 인덱스 집합을 만들어 대입한 것과 동일하다."
      ],
      "metadata": {
        "id": "tYTv_PSBTpfs"
      }
    },
    {
      "cell_type": "code",
      "source": [
        "indexes = np.array([5,6,7,8])\n",
        "array4 = array1d[indexes]\n",
        "print('일반 인덱스로 필터링 결과:', array4)"
      ],
      "metadata": {
        "id": "KSFsrOXXTtDT"
      },
      "execution_count": null,
      "outputs": []
    },
    {
      "cell_type": "markdown",
      "source": [
        "* 불린 인덱싱 동작 단계\n",
        "\n",
        "1. ndarray의 필터링 조건을 `[ ]` 안에 기재\n",
        "2. False 값은 무시하고 True 값에 해당하는 인덱스값만 저장(유의해야 할 사항은 True값 자체인 1을 저장하는 것이 아니라 True값을 가진 인덱스를 저장한다는 것)\n",
        "3. 저장된 인덱스 데이터 세트로 ndarray 조회\n",
        "\n"
      ],
      "metadata": {
        "id": "2i76ECGTT8mn"
      }
    },
    {
      "cell_type": "markdown",
      "source": [
        "> ### 행렬의 정렬 - sort()와 argsort()\n",
        "> ---\n",
        "\n",
        "* `np.sort()`, `ndarray.sort()`: 넘파이에서 행렬을 정렬하는 대표적인 방법 \n",
        "* `argsort()`: 정렬된 행렬의 인덱스를 반환하는 방법"
      ],
      "metadata": {
        "id": "qGtYj26hUwMq"
      }
    },
    {
      "cell_type": "markdown",
      "source": [
        "> #### *행렬 정렬*\n",
        "\n",
        "* **`np.sort()`**: **원 행렬은 그대로 유지**한 채 원 행렬의 정렬된 행렬을 반환, **넘파이**에서 `sort()`를 호출하는 방식이다.\n",
        "* **`ndarray.sort()`**: **원 행렬 자체를 정렬**한 형태로 변환하며 반환 값은 None, **행렬 자체**에서 `sort()`를 호출하는 방식이다.\n",
        "\n",
        "* `np.sort()`나 `ndarray.sort()` 모두 기본적으로 오름차순으로 행렬 내 원소를 정렬한다."
      ],
      "metadata": {
        "id": "VhX_n4QzVUdo"
      }
    },
    {
      "cell_type": "code",
      "source": [
        "org_array = np.array([3,1,9,5])\n",
        "print('원본 행렬:', org_array)\n",
        "\n",
        "# np.sort()로 정렬\n",
        "sort_array1 = np.sort(org_array)\n",
        "print('np.sort() 호출 후 반환된 정렬 행렬:', sort_array1)\n",
        "print('np.sort() 호출 후 원본 행렬:', org_array)\n",
        "\n",
        "# ndarray.sort()로 정렬\n",
        "sort_array2 = org_array.sort()\n",
        "print('org_array.sort() 호출 후 반환된 행렬:', sort_array2)\n",
        "print('org_array.sort() 호출 후 원본 행렬:', org_array)"
      ],
      "metadata": {
        "id": "EJVy1Wu3VaDk"
      },
      "execution_count": null,
      "outputs": []
    },
    {
      "cell_type": "markdown",
      "source": [
        "* 내림차순으로 정렬하기 위해서는 **`[::-1]`**을 적용한다.\n",
        "    * 예시) `np.sort()[::-1]`"
      ],
      "metadata": {
        "id": "aPaah-X7YrLT"
      }
    },
    {
      "cell_type": "code",
      "source": [
        "sort_array1_desc = np.sort(org_array)[::-1]\n",
        "print('내림차순으로 정렬:', sort_array1_desc)"
      ],
      "metadata": {
        "id": "xxCNVT_kY4Eo"
      },
      "execution_count": null,
      "outputs": []
    },
    {
      "cell_type": "markdown",
      "source": [
        "* 행렬이 2차원 이상일 경우) axis 축 값 설정을 통해 로우 방향, 또는 칼럼 방향으로 정렬을 수행할 수 있다."
      ],
      "metadata": {
        "id": "ApFYSXU5ZERY"
      }
    },
    {
      "cell_type": "code",
      "source": [
        "array2d = np.array([[8,12],\n",
        "                    [7,1]])\n",
        "sort_array2d_axis0 = np.sort(array2d, axis=0)\n",
        "print('로우 방향으로 정렬:\\n', sort_array2d_axis0)\n",
        "\n",
        "sort_array2d_axis1 = np.sort(array2d, axis=1)\n",
        "print('칼럼 방향으로 정렬:\\n', sort_array2d_axis1)"
      ],
      "metadata": {
        "id": "M09iO8YCZLi4"
      },
      "execution_count": null,
      "outputs": []
    },
    {
      "cell_type": "markdown",
      "source": [
        "> #### *정렬된 행렬의 인덱스를 반환하기*\n",
        "\n",
        "* **`np.argsort()`**: 정렬 행렬의 원본 행렬 인덱스를 ndarray형으로 반환한다.\n",
        "* 원본 행렬이 정렬되었을 때 기존 원본 행렬의 원소에 대한 인덱스를 필요로 할 때 이용한다."
      ],
      "metadata": {
        "id": "LWk8eJC4ZhXc"
      }
    },
    {
      "cell_type": "code",
      "source": [
        "org_array = np.array([3,1,9,5])\n",
        "sort_indices = np.argsort(org_array)\n",
        "print(type(sort_indices))\n",
        "print('행렬 정렬 시 원본 행렬의 인덱스:', sort_indices)"
      ],
      "metadata": {
        "id": "GAO7H1jdZ967"
      },
      "execution_count": null,
      "outputs": []
    },
    {
      "cell_type": "markdown",
      "source": [
        "* 내림차순으로 정렬 시에는 **`[::-1]`**을 적용하면 된다.\n",
        "    * 예시) `np.argsort()[::-1]`"
      ],
      "metadata": {
        "id": "MRWGFxcWaYl_"
      }
    },
    {
      "cell_type": "code",
      "source": [
        "org_array = np.array([3,1,9,5])\n",
        "sort_indices_desc = np.argsort(org_array)[::-1]\n",
        "print('행렬 내림차순 정렬 시 원본 행렬의 인덱스:', sort_indices_desc)"
      ],
      "metadata": {
        "id": "vuVl5lQwauEN"
      },
      "execution_count": null,
      "outputs": []
    },
    {
      "cell_type": "markdown",
      "source": [
        "* `argsort()`는 넘파이에서 매우 활용도가 높다.\n",
        "    * 넘파이의 ndarray는 RDBMS의 TABLE 칼럼이나 판다스 DataFrame 칼럼과 같은 메타 데이터를 가질 수 없기 때문에 실제 값과 그 값이 뜻하는 메타 데이터를 별도의 ndarray로 각각 가져야만 한다.\n",
        "    * (예제) 학생별 시험 성적\n",
        "        * 학생의 이름, 시험 성적 각각 ndarray로 가져야 함\n",
        "        * 시험 성적순으로 학생 이름을 출력하려면 `np.argsort(score_array)`를 이용해 반환된 인덱스를 name_array에 팬시 인덱스로 적용해 추출할 수 있다.\n"
      ],
      "metadata": {
        "id": "mqAjXiH5a-9f"
      }
    },
    {
      "cell_type": "code",
      "source": [
        "import numpy as np\n",
        "\n",
        "name_array = np.array(['John', 'Mike', 'Sarah', 'Kate', 'Samuel'])\n",
        "score_array = np.array([78, 95, 84, 98, 88])\n",
        "\n",
        "sort_indices_asc = np.argsort(score_array)\n",
        "print('성적 오름차순 정렬 시 score_array의 인덱스:', sort_indices_asc)\n",
        "print('성적 오름차순으로 name_array의 이름 출력:', name_array[sort_indices_asc])"
      ],
      "metadata": {
        "id": "SyJG8efjbJE7"
      },
      "execution_count": null,
      "outputs": []
    },
    {
      "cell_type": "markdown",
      "source": [
        "> ### 선형대수 연산 - 행렬 내적과 전치 행렬 구하기\n",
        "> ---"
      ],
      "metadata": {
        "id": "xu2QE6UhdPwD"
      }
    },
    {
      "cell_type": "markdown",
      "source": [
        "> #### *행렬 내적(행렬 곱)*\n",
        "\n",
        "* 행렬 내적은 행렬 곱이며, 두 행렬 A와 B의 내적은 **`np.dot()`**을 이용해 계산 가능하다.\n",
        "* 두 행렬 A와 B의 내적은 왼쪽 행렬의 로우(행)와 오른쪽 행렬의 칼럼(열)의 원소들을 순차적으로 곱한 뒤 그 결과를 모두 더한 값이다."
      ],
      "metadata": {
        "id": "cg8EjP9fdUNa"
      }
    },
    {
      "cell_type": "code",
      "source": [
        "A = np.array( [[1, 2, 3],\n",
        "                [4, 5, 6]] )\n",
        "B = np.array( [[7, 8],\n",
        "               [9, 10],\n",
        "               [11, 12]] )\n",
        "dot_product = np.dot(A, B)\n",
        "print('행렬 내적 결과:\\n', dot_product)"
      ],
      "metadata": {
        "id": "87nIG8FKd80X"
      },
      "execution_count": null,
      "outputs": []
    },
    {
      "cell_type": "markdown",
      "source": [
        "> #### *전치 행렬*\n",
        "\n",
        "* 전치 행렬은 원 행렬에서 행과 열 위치를 교환한 원소로 구성한 행렬을 뜻한다.\n",
        "* 넘파이의 **`transpose()`**를 이용해 구할 수 있다."
      ],
      "metadata": {
        "id": "1XvQMrHSeYRW"
      }
    },
    {
      "cell_type": "code",
      "source": [
        "A = np.array( [[1, 2],\n",
        "               [3, 4]] )\n",
        "transpose_mat = np.transpose(A)\n",
        "print('A의 전치 행렬:\\n', transpose_mat)"
      ],
      "metadata": {
        "id": "LrzGU2EBettN"
      },
      "execution_count": null,
      "outputs": []
    }
  ]
}
